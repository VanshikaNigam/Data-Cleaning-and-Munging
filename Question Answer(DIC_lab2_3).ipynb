{
 "cells": [
  {
   "cell_type": "markdown",
   "metadata": {
    "collapsed": true
   },
   "source": [
    "Answering the Question by reading the csv files of Player and Team."
   ]
  },
  {
   "cell_type": "code",
   "execution_count": null,
   "metadata": {
    "collapsed": true
   },
   "outputs": [],
   "source": [
    "Player_Data <- read.csv(file=\"Player.csv\", header=TRUE)"
   ]
  },
  {
   "cell_type": "code",
   "execution_count": 33,
   "metadata": {
    "collapsed": false,
    "scrolled": false
   },
   "outputs": [
    {
     "data": {
      "text/html": [
       "<table>\n",
       "<thead><tr><th scope=col>player_api_id</th><th scope=col>Player</th><th scope=col>Overall_rating</th><th scope=col>GoalKeeper_Rating</th><th scope=col>Appearances</th><th scope=col>Number_of_League</th></tr></thead>\n",
       "<tbody>\n",
       "\t<tr><td>2625                    </td><td>Patryk Rachwal,18       </td><td>63                      </td><td>153                     </td><td> 90                     </td><td>1                       </td></tr>\n",
       "\t<tr><td>2752                    </td><td>Diego Mainz             </td><td>72                      </td><td> 53                     </td><td> 81                     </td><td>1                       </td></tr>\n",
       "\t<tr><td>2768                    </td><td>Jose Dorado             </td><td>75                      </td><td>131                     </td><td> 71                     </td><td>1                       </td></tr>\n",
       "\t<tr><td>2770                    </td><td>Ignacio Gonzalez        </td><td>74                      </td><td>158                     </td><td> 16                     </td><td>2                       </td></tr>\n",
       "\t<tr><td>2790                    </td><td>Alberto Rey             </td><td>73                      </td><td>144                     </td><td> 50                     </td><td>1                       </td></tr>\n",
       "\t<tr><td>2796                    </td><td>Javier Jimenez          </td><td>69                      </td><td>344                     </td><td>  1                     </td><td>1                       </td></tr>\n",
       "\t<tr><td>2802                    </td><td>Pablo Hernandez         </td><td>82                      </td><td>151                     </td><td>144                     </td><td>2                       </td></tr>\n",
       "\t<tr><td>2805                    </td><td>Ruben Perez             </td><td>76                      </td><td>146                     </td><td>131                     </td><td>1                       </td></tr>\n",
       "\t<tr><td>2857                    </td><td>Ivan Perez              </td><td>72                      </td><td>150                     </td><td>  3                     </td><td>1                       </td></tr>\n",
       "\t<tr><td>2862                    </td><td>Vicente Sanchez         </td><td>76                      </td><td>148                     </td><td> 17                     </td><td>1                       </td></tr>\n",
       "\t<tr><td>2907                    </td><td>Gregory Lacombe         </td><td>68                      </td><td>138                     </td><td>  6                     </td><td>1                       </td></tr>\n",
       "\t<tr><td>2973                    </td><td>Ugur Inceman            </td><td>72                      </td><td>147                     </td><td> 16                     </td><td>1                       </td></tr>\n",
       "\t<tr><td>2977                    </td><td>David Rivas Rodriguez   </td><td>82                      </td><td>104                     </td><td>  5                     </td><td>1                       </td></tr>\n",
       "\t<tr><td>2983                    </td><td>Jorge Molina            </td><td>75                      </td><td>139                     </td><td> 71                     </td><td>1                       </td></tr>\n",
       "\t<tr><td>2984                    </td><td>Sergio Aragones         </td><td>75                      </td><td>365                     </td><td> 38                     </td><td>1                       </td></tr>\n",
       "\t<tr><td>3140                    </td><td>Alexandre Hauw          </td><td>69                      </td><td>143                     </td><td> 42                     </td><td>1                       </td></tr>\n",
       "\t<tr><td>3204                    </td><td>Marat Izmailov          </td><td>81                      </td><td>158                     </td><td> 42                     </td><td>1                       </td></tr>\n",
       "\t<tr><td>3263                    </td><td>Kelly Berville          </td><td>67                      </td><td>115                     </td><td> 19                     </td><td>1                       </td></tr>\n",
       "\t<tr><td>3264                    </td><td>Abdelmalek Cherrad      </td><td>62                      </td><td>100                     </td><td>  1                     </td><td>1                       </td></tr>\n",
       "\t<tr><td>3316                    </td><td>Oscar Sanchez           </td><td>71                      </td><td>108                     </td><td>  6                     </td><td>1                       </td></tr>\n",
       "\t<tr><td>3329                    </td><td>Vincent Euvrard         </td><td>64                      </td><td>130                     </td><td> 85                     </td><td>1                       </td></tr>\n",
       "\t<tr><td>3377                    </td><td>Luca Belingheri         </td><td>72                      </td><td>138                     </td><td>  1                     </td><td>1                       </td></tr>\n",
       "\t<tr><td>3441                    </td><td>Aleksander Radosavljevic</td><td>71                      </td><td>140                     </td><td> 74                     </td><td>1                       </td></tr>\n",
       "\t<tr><td>3512                    </td><td>Peter Halmosi           </td><td>75                      </td><td>143                     </td><td>  4                     </td><td>1                       </td></tr>\n",
       "\t<tr><td>3517                    </td><td>Alexandr Kerzhakov      </td><td>82                      </td><td>149                     </td><td> 17                     </td><td>1                       </td></tr>\n",
       "\t<tr><td>3520                    </td><td>Andrey Arshavin         </td><td>86                      </td><td>163                     </td><td> 70                     </td><td>1                       </td></tr>\n",
       "\t<tr><td>4747                    </td><td>Lee Wilkie              </td><td>73                      </td><td>128                     </td><td> 36                     </td><td>1                       </td></tr>\n",
       "\t<tr><td>4863                    </td><td>Boban Grncarov          </td><td>66                      </td><td> 54                     </td><td> 25                     </td><td>1                       </td></tr>\n",
       "\t<tr><td>4902                    </td><td>Iriney                  </td><td>77                      </td><td>146                     </td><td> 68                     </td><td>1                       </td></tr>\n",
       "\t<tr><td>4939                    </td><td>Tim Clancy              </td><td>64                      </td><td>117                     </td><td> 97                     </td><td>1                       </td></tr>\n",
       "\t<tr><td>⋮</td><td>⋮</td><td>⋮</td><td>⋮</td><td>⋮</td><td>⋮</td></tr>\n",
       "\t<tr><td>701154                </td><td>Kylian Mbappe Lottin  </td><td>65                    </td><td>42                    </td><td> 2                    </td><td>1                     </td></tr>\n",
       "\t<tr><td>703659                </td><td>Colin Trachsel        </td><td>51                    </td><td>48                    </td><td> 1                    </td><td>1                     </td></tr>\n",
       "\t<tr><td>704523                </td><td>Christopher Nkunku    </td><td>62                    </td><td>43                    </td><td> 4                    </td><td>1                     </td></tr>\n",
       "\t<tr><td>705484                </td><td>Eray Cumart           </td><td>52                    </td><td>32                    </td><td> 4                    </td><td>1                     </td></tr>\n",
       "\t<tr><td>706985                </td><td>Jordan Lyden          </td><td>58                    </td><td>53                    </td><td> 2                    </td><td>1                     </td></tr>\n",
       "\t<tr><td>710807                </td><td>Jonatan Montiel       </td><td>67                    </td><td>47                    </td><td> 1                    </td><td>1                     </td></tr>\n",
       "\t<tr><td>715642                </td><td>Aissa Laidouni        </td><td>59                    </td><td>61                    </td><td> 1                    </td><td>1                     </td></tr>\n",
       "\t<tr><td>716998                </td><td>Sebastien Lamonge     </td><td>56                    </td><td>46                    </td><td> 1                    </td><td>1                     </td></tr>\n",
       "\t<tr><td>717248                </td><td>Felipe Augusto        </td><td>64                    </td><td>59                    </td><td> 4                    </td><td>1                     </td></tr>\n",
       "\t<tr><td>717270                </td><td>Antoine Rabillard     </td><td>61                    </td><td>56                    </td><td> 1                    </td><td>1                     </td></tr>\n",
       "\t<tr><td>717557                </td><td>Levi Garcia           </td><td>64                    </td><td>49                    </td><td> 4                    </td><td>1                     </td></tr>\n",
       "\t<tr><td>719413                </td><td>Dorian Caddy          </td><td>64                    </td><td>54                    </td><td> 3                    </td><td>1                     </td></tr>\n",
       "\t<tr><td>720738                </td><td>Charles Traore        </td><td>55                    </td><td>52                    </td><td> 5                    </td><td>1                     </td></tr>\n",
       "\t<tr><td>721133                </td><td>Rafa Soares           </td><td>70                    </td><td>60                    </td><td>15                    </td><td>1                     </td></tr>\n",
       "\t<tr><td>722766                </td><td>Charly Musonda        </td><td>71                    </td><td>36                    </td><td>13                    </td><td>1                     </td></tr>\n",
       "\t<tr><td>723037                </td><td>Wanderson Lima        </td><td>53                    </td><td>54                    </td><td> 7                    </td><td>1                     </td></tr>\n",
       "\t<tr><td>725718                </td><td>Dennis van der Heijden</td><td>60                    </td><td>54                    </td><td> 1                    </td><td>1                     </td></tr>\n",
       "\t<tr><td>726956                </td><td>Cedric Itten          </td><td>54                    </td><td>41                    </td><td> 4                    </td><td>1                     </td></tr>\n",
       "\t<tr><td>728125                </td><td>Christopher McLaughlin</td><td>50                    </td><td>49                    </td><td> 2                    </td><td>1                     </td></tr>\n",
       "\t<tr><td>728414                </td><td>Justin Hoogma         </td><td>59                    </td><td>54                    </td><td> 1                    </td><td>1                     </td></tr>\n",
       "\t<tr><td>728478                </td><td>Kamil Jozwiak         </td><td>56                    </td><td>54                    </td><td> 1                    </td><td>1                     </td></tr>\n",
       "\t<tr><td>730065                </td><td>Jorge Intima          </td><td>57                    </td><td>59                    </td><td> 1                    </td><td>1                     </td></tr>\n",
       "\t<tr><td>733787                </td><td>Linus Obexer          </td><td>51                    </td><td>45                    </td><td> 2                    </td><td>1                     </td></tr>\n",
       "\t<tr><td>742405                </td><td>Tom Davies            </td><td>51                    </td><td>56                    </td><td> 1                    </td><td>1                     </td></tr>\n",
       "\t<tr><td>743720                </td><td>Charles Pickel        </td><td>50                    </td><td>53                    </td><td> 1                    </td><td>1                     </td></tr>\n",
       "\t<tr><td>744907                </td><td>Greg Taylor           </td><td>53                    </td><td>57                    </td><td> 1                    </td><td>1                     </td></tr>\n",
       "\t<tr><td>746419                </td><td>Francisco Afonso      </td><td>59                    </td><td>42                    </td><td> 2                    </td><td>1                     </td></tr>\n",
       "\t<tr><td>748432                </td><td>Fynn Arkenberg        </td><td>58                    </td><td>46                    </td><td> 2                    </td><td>1                     </td></tr>\n",
       "\t<tr><td>750435                </td><td>Rees Greenwood        </td><td>60                    </td><td>48                    </td><td> 1                    </td><td>1                     </td></tr>\n",
       "\t<tr><td>750584                </td><td>Alexandre Azevedo     </td><td>58                    </td><td>54                    </td><td> 1                    </td><td>1                     </td></tr>\n",
       "</tbody>\n",
       "</table>\n"
      ],
      "text/latex": [
       "\\begin{tabular}{r|llllll}\n",
       " player\\_api\\_id & Player & Overall\\_rating & GoalKeeper\\_Rating & Appearances & Number\\_of\\_League\\\\\n",
       "\\hline\n",
       "\t 2625                     & Patryk Rachwal,18        & 63                       & 153                      &  90                      & 1                       \\\\\n",
       "\t 2752                     & Diego Mainz              & 72                       &  53                      &  81                      & 1                       \\\\\n",
       "\t 2768                     & Jose Dorado              & 75                       & 131                      &  71                      & 1                       \\\\\n",
       "\t 2770                     & Ignacio Gonzalez         & 74                       & 158                      &  16                      & 2                       \\\\\n",
       "\t 2790                     & Alberto Rey              & 73                       & 144                      &  50                      & 1                       \\\\\n",
       "\t 2796                     & Javier Jimenez           & 69                       & 344                      &   1                      & 1                       \\\\\n",
       "\t 2802                     & Pablo Hernandez          & 82                       & 151                      & 144                      & 2                       \\\\\n",
       "\t 2805                     & Ruben Perez              & 76                       & 146                      & 131                      & 1                       \\\\\n",
       "\t 2857                     & Ivan Perez               & 72                       & 150                      &   3                      & 1                       \\\\\n",
       "\t 2862                     & Vicente Sanchez          & 76                       & 148                      &  17                      & 1                       \\\\\n",
       "\t 2907                     & Gregory Lacombe          & 68                       & 138                      &   6                      & 1                       \\\\\n",
       "\t 2973                     & Ugur Inceman             & 72                       & 147                      &  16                      & 1                       \\\\\n",
       "\t 2977                     & David Rivas Rodriguez    & 82                       & 104                      &   5                      & 1                       \\\\\n",
       "\t 2983                     & Jorge Molina             & 75                       & 139                      &  71                      & 1                       \\\\\n",
       "\t 2984                     & Sergio Aragones          & 75                       & 365                      &  38                      & 1                       \\\\\n",
       "\t 3140                     & Alexandre Hauw           & 69                       & 143                      &  42                      & 1                       \\\\\n",
       "\t 3204                     & Marat Izmailov           & 81                       & 158                      &  42                      & 1                       \\\\\n",
       "\t 3263                     & Kelly Berville           & 67                       & 115                      &  19                      & 1                       \\\\\n",
       "\t 3264                     & Abdelmalek Cherrad       & 62                       & 100                      &   1                      & 1                       \\\\\n",
       "\t 3316                     & Oscar Sanchez            & 71                       & 108                      &   6                      & 1                       \\\\\n",
       "\t 3329                     & Vincent Euvrard          & 64                       & 130                      &  85                      & 1                       \\\\\n",
       "\t 3377                     & Luca Belingheri          & 72                       & 138                      &   1                      & 1                       \\\\\n",
       "\t 3441                     & Aleksander Radosavljevic & 71                       & 140                      &  74                      & 1                       \\\\\n",
       "\t 3512                     & Peter Halmosi            & 75                       & 143                      &   4                      & 1                       \\\\\n",
       "\t 3517                     & Alexandr Kerzhakov       & 82                       & 149                      &  17                      & 1                       \\\\\n",
       "\t 3520                     & Andrey Arshavin          & 86                       & 163                      &  70                      & 1                       \\\\\n",
       "\t 4747                     & Lee Wilkie               & 73                       & 128                      &  36                      & 1                       \\\\\n",
       "\t 4863                     & Boban Grncarov           & 66                       &  54                      &  25                      & 1                       \\\\\n",
       "\t 4902                     & Iriney                   & 77                       & 146                      &  68                      & 1                       \\\\\n",
       "\t 4939                     & Tim Clancy               & 64                       & 117                      &  97                      & 1                       \\\\\n",
       "\t ⋮ & ⋮ & ⋮ & ⋮ & ⋮ & ⋮\\\\\n",
       "\t 701154                 & Kylian Mbappe Lottin   & 65                     & 42                     &  2                     & 1                     \\\\\n",
       "\t 703659                 & Colin Trachsel         & 51                     & 48                     &  1                     & 1                     \\\\\n",
       "\t 704523                 & Christopher Nkunku     & 62                     & 43                     &  4                     & 1                     \\\\\n",
       "\t 705484                 & Eray Cumart            & 52                     & 32                     &  4                     & 1                     \\\\\n",
       "\t 706985                 & Jordan Lyden           & 58                     & 53                     &  2                     & 1                     \\\\\n",
       "\t 710807                 & Jonatan Montiel        & 67                     & 47                     &  1                     & 1                     \\\\\n",
       "\t 715642                 & Aissa Laidouni         & 59                     & 61                     &  1                     & 1                     \\\\\n",
       "\t 716998                 & Sebastien Lamonge      & 56                     & 46                     &  1                     & 1                     \\\\\n",
       "\t 717248                 & Felipe Augusto         & 64                     & 59                     &  4                     & 1                     \\\\\n",
       "\t 717270                 & Antoine Rabillard      & 61                     & 56                     &  1                     & 1                     \\\\\n",
       "\t 717557                 & Levi Garcia            & 64                     & 49                     &  4                     & 1                     \\\\\n",
       "\t 719413                 & Dorian Caddy           & 64                     & 54                     &  3                     & 1                     \\\\\n",
       "\t 720738                 & Charles Traore         & 55                     & 52                     &  5                     & 1                     \\\\\n",
       "\t 721133                 & Rafa Soares            & 70                     & 60                     & 15                     & 1                     \\\\\n",
       "\t 722766                 & Charly Musonda         & 71                     & 36                     & 13                     & 1                     \\\\\n",
       "\t 723037                 & Wanderson Lima         & 53                     & 54                     &  7                     & 1                     \\\\\n",
       "\t 725718                 & Dennis van der Heijden & 60                     & 54                     &  1                     & 1                     \\\\\n",
       "\t 726956                 & Cedric Itten           & 54                     & 41                     &  4                     & 1                     \\\\\n",
       "\t 728125                 & Christopher McLaughlin & 50                     & 49                     &  2                     & 1                     \\\\\n",
       "\t 728414                 & Justin Hoogma          & 59                     & 54                     &  1                     & 1                     \\\\\n",
       "\t 728478                 & Kamil Jozwiak          & 56                     & 54                     &  1                     & 1                     \\\\\n",
       "\t 730065                 & Jorge Intima           & 57                     & 59                     &  1                     & 1                     \\\\\n",
       "\t 733787                 & Linus Obexer           & 51                     & 45                     &  2                     & 1                     \\\\\n",
       "\t 742405                 & Tom Davies             & 51                     & 56                     &  1                     & 1                     \\\\\n",
       "\t 743720                 & Charles Pickel         & 50                     & 53                     &  1                     & 1                     \\\\\n",
       "\t 744907                 & Greg Taylor            & 53                     & 57                     &  1                     & 1                     \\\\\n",
       "\t 746419                 & Francisco Afonso       & 59                     & 42                     &  2                     & 1                     \\\\\n",
       "\t 748432                 & Fynn Arkenberg         & 58                     & 46                     &  2                     & 1                     \\\\\n",
       "\t 750435                 & Rees Greenwood         & 60                     & 48                     &  1                     & 1                     \\\\\n",
       "\t 750584                 & Alexandre Azevedo      & 58                     & 54                     &  1                     & 1                     \\\\\n",
       "\\end{tabular}\n"
      ],
      "text/markdown": [
       "\n",
       "player_api_id | Player | Overall_rating | GoalKeeper_Rating | Appearances | Number_of_League | \n",
       "|---|---|---|---|---|---|---|---|---|---|---|---|---|---|---|---|---|---|---|---|---|---|---|---|---|---|---|---|---|---|---|---|---|---|---|---|---|---|---|---|---|---|---|---|---|---|---|---|---|---|---|---|---|---|---|---|---|---|---|---|---|\n",
       "| 2625                     | Patryk Rachwal,18        | 63                       | 153                      |  90                      | 1                        | \n",
       "| 2752                     | Diego Mainz              | 72                       |  53                      |  81                      | 1                        | \n",
       "| 2768                     | Jose Dorado              | 75                       | 131                      |  71                      | 1                        | \n",
       "| 2770                     | Ignacio Gonzalez         | 74                       | 158                      |  16                      | 2                        | \n",
       "| 2790                     | Alberto Rey              | 73                       | 144                      |  50                      | 1                        | \n",
       "| 2796                     | Javier Jimenez           | 69                       | 344                      |   1                      | 1                        | \n",
       "| 2802                     | Pablo Hernandez          | 82                       | 151                      | 144                      | 2                        | \n",
       "| 2805                     | Ruben Perez              | 76                       | 146                      | 131                      | 1                        | \n",
       "| 2857                     | Ivan Perez               | 72                       | 150                      |   3                      | 1                        | \n",
       "| 2862                     | Vicente Sanchez          | 76                       | 148                      |  17                      | 1                        | \n",
       "| 2907                     | Gregory Lacombe          | 68                       | 138                      |   6                      | 1                        | \n",
       "| 2973                     | Ugur Inceman             | 72                       | 147                      |  16                      | 1                        | \n",
       "| 2977                     | David Rivas Rodriguez    | 82                       | 104                      |   5                      | 1                        | \n",
       "| 2983                     | Jorge Molina             | 75                       | 139                      |  71                      | 1                        | \n",
       "| 2984                     | Sergio Aragones          | 75                       | 365                      |  38                      | 1                        | \n",
       "| 3140                     | Alexandre Hauw           | 69                       | 143                      |  42                      | 1                        | \n",
       "| 3204                     | Marat Izmailov           | 81                       | 158                      |  42                      | 1                        | \n",
       "| 3263                     | Kelly Berville           | 67                       | 115                      |  19                      | 1                        | \n",
       "| 3264                     | Abdelmalek Cherrad       | 62                       | 100                      |   1                      | 1                        | \n",
       "| 3316                     | Oscar Sanchez            | 71                       | 108                      |   6                      | 1                        | \n",
       "| 3329                     | Vincent Euvrard          | 64                       | 130                      |  85                      | 1                        | \n",
       "| 3377                     | Luca Belingheri          | 72                       | 138                      |   1                      | 1                        | \n",
       "| 3441                     | Aleksander Radosavljevic | 71                       | 140                      |  74                      | 1                        | \n",
       "| 3512                     | Peter Halmosi            | 75                       | 143                      |   4                      | 1                        | \n",
       "| 3517                     | Alexandr Kerzhakov       | 82                       | 149                      |  17                      | 1                        | \n",
       "| 3520                     | Andrey Arshavin          | 86                       | 163                      |  70                      | 1                        | \n",
       "| 4747                     | Lee Wilkie               | 73                       | 128                      |  36                      | 1                        | \n",
       "| 4863                     | Boban Grncarov           | 66                       |  54                      |  25                      | 1                        | \n",
       "| 4902                     | Iriney                   | 77                       | 146                      |  68                      | 1                        | \n",
       "| 4939                     | Tim Clancy               | 64                       | 117                      |  97                      | 1                        | \n",
       "| ⋮ | ⋮ | ⋮ | ⋮ | ⋮ | ⋮ | \n",
       "| 701154                 | Kylian Mbappe Lottin   | 65                     | 42                     |  2                     | 1                      | \n",
       "| 703659                 | Colin Trachsel         | 51                     | 48                     |  1                     | 1                      | \n",
       "| 704523                 | Christopher Nkunku     | 62                     | 43                     |  4                     | 1                      | \n",
       "| 705484                 | Eray Cumart            | 52                     | 32                     |  4                     | 1                      | \n",
       "| 706985                 | Jordan Lyden           | 58                     | 53                     |  2                     | 1                      | \n",
       "| 710807                 | Jonatan Montiel        | 67                     | 47                     |  1                     | 1                      | \n",
       "| 715642                 | Aissa Laidouni         | 59                     | 61                     |  1                     | 1                      | \n",
       "| 716998                 | Sebastien Lamonge      | 56                     | 46                     |  1                     | 1                      | \n",
       "| 717248                 | Felipe Augusto         | 64                     | 59                     |  4                     | 1                      | \n",
       "| 717270                 | Antoine Rabillard      | 61                     | 56                     |  1                     | 1                      | \n",
       "| 717557                 | Levi Garcia            | 64                     | 49                     |  4                     | 1                      | \n",
       "| 719413                 | Dorian Caddy           | 64                     | 54                     |  3                     | 1                      | \n",
       "| 720738                 | Charles Traore         | 55                     | 52                     |  5                     | 1                      | \n",
       "| 721133                 | Rafa Soares            | 70                     | 60                     | 15                     | 1                      | \n",
       "| 722766                 | Charly Musonda         | 71                     | 36                     | 13                     | 1                      | \n",
       "| 723037                 | Wanderson Lima         | 53                     | 54                     |  7                     | 1                      | \n",
       "| 725718                 | Dennis van der Heijden | 60                     | 54                     |  1                     | 1                      | \n",
       "| 726956                 | Cedric Itten           | 54                     | 41                     |  4                     | 1                      | \n",
       "| 728125                 | Christopher McLaughlin | 50                     | 49                     |  2                     | 1                      | \n",
       "| 728414                 | Justin Hoogma          | 59                     | 54                     |  1                     | 1                      | \n",
       "| 728478                 | Kamil Jozwiak          | 56                     | 54                     |  1                     | 1                      | \n",
       "| 730065                 | Jorge Intima           | 57                     | 59                     |  1                     | 1                      | \n",
       "| 733787                 | Linus Obexer           | 51                     | 45                     |  2                     | 1                      | \n",
       "| 742405                 | Tom Davies             | 51                     | 56                     |  1                     | 1                      | \n",
       "| 743720                 | Charles Pickel         | 50                     | 53                     |  1                     | 1                      | \n",
       "| 744907                 | Greg Taylor            | 53                     | 57                     |  1                     | 1                      | \n",
       "| 746419                 | Francisco Afonso       | 59                     | 42                     |  2                     | 1                      | \n",
       "| 748432                 | Fynn Arkenberg         | 58                     | 46                     |  2                     | 1                      | \n",
       "| 750435                 | Rees Greenwood         | 60                     | 48                     |  1                     | 1                      | \n",
       "| 750584                 | Alexandre Azevedo      | 58                     | 54                     |  1                     | 1                      | \n",
       "\n",
       "\n"
      ],
      "text/plain": [
       "      player_api_id Player                   Overall_rating GoalKeeper_Rating\n",
       "1     2625          Patryk Rachwal,18        63             153              \n",
       "2     2752          Diego Mainz              72              53              \n",
       "3     2768          Jose Dorado              75             131              \n",
       "4     2770          Ignacio Gonzalez         74             158              \n",
       "5     2790          Alberto Rey              73             144              \n",
       "6     2796          Javier Jimenez           69             344              \n",
       "7     2802          Pablo Hernandez          82             151              \n",
       "8     2805          Ruben Perez              76             146              \n",
       "9     2857          Ivan Perez               72             150              \n",
       "10    2862          Vicente Sanchez          76             148              \n",
       "11    2907          Gregory Lacombe          68             138              \n",
       "12    2973          Ugur Inceman             72             147              \n",
       "13    2977          David Rivas Rodriguez    82             104              \n",
       "14    2983          Jorge Molina             75             139              \n",
       "15    2984          Sergio Aragones          75             365              \n",
       "16    3140          Alexandre Hauw           69             143              \n",
       "17    3204          Marat Izmailov           81             158              \n",
       "18    3263          Kelly Berville           67             115              \n",
       "19    3264          Abdelmalek Cherrad       62             100              \n",
       "20    3316          Oscar Sanchez            71             108              \n",
       "21    3329          Vincent Euvrard          64             130              \n",
       "22    3377          Luca Belingheri          72             138              \n",
       "23    3441          Aleksander Radosavljevic 71             140              \n",
       "24    3512          Peter Halmosi            75             143              \n",
       "25    3517          Alexandr Kerzhakov       82             149              \n",
       "26    3520          Andrey Arshavin          86             163              \n",
       "27    4747          Lee Wilkie               73             128              \n",
       "28    4863          Boban Grncarov           66              54              \n",
       "29    4902          Iriney                   77             146              \n",
       "30    4939          Tim Clancy               64             117              \n",
       "⋮     ⋮             ⋮                        ⋮              ⋮                \n",
       "10819 701154        Kylian Mbappe Lottin     65             42               \n",
       "10820 703659        Colin Trachsel           51             48               \n",
       "10821 704523        Christopher Nkunku       62             43               \n",
       "10822 705484        Eray Cumart              52             32               \n",
       "10823 706985        Jordan Lyden             58             53               \n",
       "10824 710807        Jonatan Montiel          67             47               \n",
       "10825 715642        Aissa Laidouni           59             61               \n",
       "10826 716998        Sebastien Lamonge        56             46               \n",
       "10827 717248        Felipe Augusto           64             59               \n",
       "10828 717270        Antoine Rabillard        61             56               \n",
       "10829 717557        Levi Garcia              64             49               \n",
       "10830 719413        Dorian Caddy             64             54               \n",
       "10831 720738        Charles Traore           55             52               \n",
       "10832 721133        Rafa Soares              70             60               \n",
       "10833 722766        Charly Musonda           71             36               \n",
       "10834 723037        Wanderson Lima           53             54               \n",
       "10835 725718        Dennis van der Heijden   60             54               \n",
       "10836 726956        Cedric Itten             54             41               \n",
       "10837 728125        Christopher McLaughlin   50             49               \n",
       "10838 728414        Justin Hoogma            59             54               \n",
       "10839 728478        Kamil Jozwiak            56             54               \n",
       "10840 730065        Jorge Intima             57             59               \n",
       "10841 733787        Linus Obexer             51             45               \n",
       "10842 742405        Tom Davies               51             56               \n",
       "10843 743720        Charles Pickel           50             53               \n",
       "10844 744907        Greg Taylor              53             57               \n",
       "10845 746419        Francisco Afonso         59             42               \n",
       "10846 748432        Fynn Arkenberg           58             46               \n",
       "10847 750435        Rees Greenwood           60             48               \n",
       "10848 750584        Alexandre Azevedo        58             54               \n",
       "      Appearances Number_of_League\n",
       "1      90         1               \n",
       "2      81         1               \n",
       "3      71         1               \n",
       "4      16         2               \n",
       "5      50         1               \n",
       "6       1         1               \n",
       "7     144         2               \n",
       "8     131         1               \n",
       "9       3         1               \n",
       "10     17         1               \n",
       "11      6         1               \n",
       "12     16         1               \n",
       "13      5         1               \n",
       "14     71         1               \n",
       "15     38         1               \n",
       "16     42         1               \n",
       "17     42         1               \n",
       "18     19         1               \n",
       "19      1         1               \n",
       "20      6         1               \n",
       "21     85         1               \n",
       "22      1         1               \n",
       "23     74         1               \n",
       "24      4         1               \n",
       "25     17         1               \n",
       "26     70         1               \n",
       "27     36         1               \n",
       "28     25         1               \n",
       "29     68         1               \n",
       "30     97         1               \n",
       "⋮     ⋮           ⋮               \n",
       "10819  2          1               \n",
       "10820  1          1               \n",
       "10821  4          1               \n",
       "10822  4          1               \n",
       "10823  2          1               \n",
       "10824  1          1               \n",
       "10825  1          1               \n",
       "10826  1          1               \n",
       "10827  4          1               \n",
       "10828  1          1               \n",
       "10829  4          1               \n",
       "10830  3          1               \n",
       "10831  5          1               \n",
       "10832 15          1               \n",
       "10833 13          1               \n",
       "10834  7          1               \n",
       "10835  1          1               \n",
       "10836  4          1               \n",
       "10837  2          1               \n",
       "10838  1          1               \n",
       "10839  1          1               \n",
       "10840  1          1               \n",
       "10841  2          1               \n",
       "10842  1          1               \n",
       "10843  1          1               \n",
       "10844  1          1               \n",
       "10845  2          1               \n",
       "10846  2          1               \n",
       "10847  1          1               \n",
       "10848  1          1               "
      ]
     },
     "metadata": {},
     "output_type": "display_data"
    }
   ],
   "source": [
    "Player_Data"
   ]
  },
  {
   "cell_type": "markdown",
   "metadata": {},
   "source": [
    "Question 1 : Which are the top 10 players by overall rating?"
   ]
  },
  {
   "cell_type": "code",
   "execution_count": 34,
   "metadata": {
    "collapsed": false
   },
   "outputs": [
    {
     "data": {
      "text/html": [
       "<table>\n",
       "<thead><tr><th></th><th scope=col>player_api_id</th><th scope=col>Player</th><th scope=col>Overall_rating</th><th scope=col>GoalKeeper_Rating</th><th scope=col>Appearances</th><th scope=col>Number_of_League</th></tr></thead>\n",
       "<tbody>\n",
       "\t<tr><th scope=row>2008</th><td>30981            </td><td>Lionel Messi     </td><td>94               </td><td>147              </td><td>249              </td><td>1                </td></tr>\n",
       "\t<tr><th scope=row>1864</th><td>30717            </td><td>Gianluigi Buffon </td><td>93               </td><td>455              </td><td>231              </td><td>1                </td></tr>\n",
       "\t<tr><th scope=row>1909</th><td>30829            </td><td>Wayne Rooney     </td><td>93               </td><td>160              </td><td>223              </td><td>1                </td></tr>\n",
       "\t<tr><th scope=row>1949</th><td>30893            </td><td>Cristiano Ronaldo</td><td>93               </td><td>145              </td><td>259              </td><td>2                </td></tr>\n",
       "\t<tr><th scope=row>3726</th><td>39854            </td><td>Xavi Hernandez   </td><td>92               </td><td>175              </td><td>189              </td><td>1                </td></tr>\n",
       "\t<tr><th scope=row>3751</th><td>39989            </td><td>Gregory Coupet   </td><td>92               </td><td>447              </td><td> 37              </td><td>2                </td></tr>\n",
       "\t<tr><th scope=row>1806</th><td>30626            </td><td>Thierry Henry    </td><td>91               </td><td>144              </td><td> 39              </td><td>1                </td></tr>\n",
       "\t<tr><th scope=row>1807</th><td>30627            </td><td>John Terry       </td><td>91               </td><td>144              </td><td>243              </td><td>1                </td></tr>\n",
       "\t<tr><th scope=row>1822</th><td>30657            </td><td>Iker Casillas    </td><td>91               </td><td>446              </td><td>232              </td><td>2                </td></tr>\n",
       "\t<tr><th scope=row>1868</th><td>30723            </td><td>Alessandro Nesta </td><td>91               </td><td>138              </td><td> 64              </td><td>1                </td></tr>\n",
       "</tbody>\n",
       "</table>\n"
      ],
      "text/latex": [
       "\\begin{tabular}{r|llllll}\n",
       "  & player\\_api\\_id & Player & Overall\\_rating & GoalKeeper\\_Rating & Appearances & Number\\_of\\_League\\\\\n",
       "\\hline\n",
       "\t2008 & 30981             & Lionel Messi      & 94                & 147               & 249               & 1                \\\\\n",
       "\t1864 & 30717             & Gianluigi Buffon  & 93                & 455               & 231               & 1                \\\\\n",
       "\t1909 & 30829             & Wayne Rooney      & 93                & 160               & 223               & 1                \\\\\n",
       "\t1949 & 30893             & Cristiano Ronaldo & 93                & 145               & 259               & 2                \\\\\n",
       "\t3726 & 39854             & Xavi Hernandez    & 92                & 175               & 189               & 1                \\\\\n",
       "\t3751 & 39989             & Gregory Coupet    & 92                & 447               &  37               & 2                \\\\\n",
       "\t1806 & 30626             & Thierry Henry     & 91                & 144               &  39               & 1                \\\\\n",
       "\t1807 & 30627             & John Terry        & 91                & 144               & 243               & 1                \\\\\n",
       "\t1822 & 30657             & Iker Casillas     & 91                & 446               & 232               & 2                \\\\\n",
       "\t1868 & 30723             & Alessandro Nesta  & 91                & 138               &  64               & 1                \\\\\n",
       "\\end{tabular}\n"
      ],
      "text/markdown": [
       "\n",
       "| <!--/--> | player_api_id | Player | Overall_rating | GoalKeeper_Rating | Appearances | Number_of_League | \n",
       "|---|---|---|---|---|---|---|---|---|---|\n",
       "| 2008 | 30981             | Lionel Messi      | 94                | 147               | 249               | 1                 | \n",
       "| 1864 | 30717             | Gianluigi Buffon  | 93                | 455               | 231               | 1                 | \n",
       "| 1909 | 30829             | Wayne Rooney      | 93                | 160               | 223               | 1                 | \n",
       "| 1949 | 30893             | Cristiano Ronaldo | 93                | 145               | 259               | 2                 | \n",
       "| 3726 | 39854             | Xavi Hernandez    | 92                | 175               | 189               | 1                 | \n",
       "| 3751 | 39989             | Gregory Coupet    | 92                | 447               |  37               | 2                 | \n",
       "| 1806 | 30626             | Thierry Henry     | 91                | 144               |  39               | 1                 | \n",
       "| 1807 | 30627             | John Terry        | 91                | 144               | 243               | 1                 | \n",
       "| 1822 | 30657             | Iker Casillas     | 91                | 446               | 232               | 2                 | \n",
       "| 1868 | 30723             | Alessandro Nesta  | 91                | 138               |  64               | 1                 | \n",
       "\n",
       "\n"
      ],
      "text/plain": [
       "     player_api_id Player            Overall_rating GoalKeeper_Rating\n",
       "2008 30981         Lionel Messi      94             147              \n",
       "1864 30717         Gianluigi Buffon  93             455              \n",
       "1909 30829         Wayne Rooney      93             160              \n",
       "1949 30893         Cristiano Ronaldo 93             145              \n",
       "3726 39854         Xavi Hernandez    92             175              \n",
       "3751 39989         Gregory Coupet    92             447              \n",
       "1806 30626         Thierry Henry     91             144              \n",
       "1807 30627         John Terry        91             144              \n",
       "1822 30657         Iker Casillas     91             446              \n",
       "1868 30723         Alessandro Nesta  91             138              \n",
       "     Appearances Number_of_League\n",
       "2008 249         1               \n",
       "1864 231         1               \n",
       "1909 223         1               \n",
       "1949 259         2               \n",
       "3726 189         1               \n",
       "3751  37         2               \n",
       "1806  39         1               \n",
       "1807 243         1               \n",
       "1822 232         2               \n",
       "1868  64         1               "
      ]
     },
     "metadata": {},
     "output_type": "display_data"
    }
   ],
   "source": [
    "Answer_1<-head(Player_Data[order(Player_Data$Overall_rating,decreasing = TRUE),],10)\n",
    "Answer_1"
   ]
  },
  {
   "cell_type": "markdown",
   "metadata": {},
   "source": [
    "Question 2 : Which are the top 10 goalkeepers by sum of gk attributes?"
   ]
  },
  {
   "cell_type": "code",
   "execution_count": 35,
   "metadata": {
    "collapsed": false
   },
   "outputs": [
    {
     "data": {
      "text/html": [
       "<table>\n",
       "<thead><tr><th></th><th scope=col>player_api_id</th><th scope=col>Player</th><th scope=col>Overall_rating</th><th scope=col>GoalKeeper_Rating</th><th scope=col>Appearances</th><th scope=col>Number_of_League</th></tr></thead>\n",
       "<tbody>\n",
       "\t<tr><th scope=row>1864</th><td>30717            </td><td>Gianluigi Buffon </td><td>93               </td><td>455              </td><td>231              </td><td>1                </td></tr>\n",
       "\t<tr><th scope=row>1929</th><td>30859            </td><td>Petr Cech        </td><td>89               </td><td>454              </td><td>251              </td><td>1                </td></tr>\n",
       "\t<tr><th scope=row>1478</th><td>27299            </td><td>Manuel Neuer     </td><td>90               </td><td>449              </td><td>255              </td><td>1                </td></tr>\n",
       "\t<tr><th scope=row>3751</th><td>39989            </td><td>Gregory Coupet   </td><td>92               </td><td>447              </td><td> 37              </td><td>2                </td></tr>\n",
       "\t<tr><th scope=row>1822</th><td>30657            </td><td>Iker Casillas    </td><td>91               </td><td>446              </td><td>232              </td><td>2                </td></tr>\n",
       "\t<tr><th scope=row>829</th><td>24503            </td><td>Sebastian Frey   </td><td>87               </td><td>445              </td><td>156              </td><td>1                </td></tr>\n",
       "\t<tr><th scope=row>2013</th><td>30989            </td><td>Julio Cesar      </td><td>89               </td><td>444              </td><td>202              </td><td>3                </td></tr>\n",
       "\t<tr><th scope=row>1871</th><td>30726            </td><td>Edwin van der Sar</td><td>87               </td><td>442              </td><td> 87              </td><td>1                </td></tr>\n",
       "\t<tr><th scope=row>1824</th><td>30660            </td><td>Pepe Reina       </td><td>85               </td><td>436              </td><td>249              </td><td>3                </td></tr>\n",
       "\t<tr><th scope=row>2211</th><td>32657            </td><td>Victor Valdes    </td><td>85               </td><td>436              </td><td>203              </td><td>3                </td></tr>\n",
       "</tbody>\n",
       "</table>\n"
      ],
      "text/latex": [
       "\\begin{tabular}{r|llllll}\n",
       "  & player\\_api\\_id & Player & Overall\\_rating & GoalKeeper\\_Rating & Appearances & Number\\_of\\_League\\\\\n",
       "\\hline\n",
       "\t1864 & 30717             & Gianluigi Buffon  & 93                & 455               & 231               & 1                \\\\\n",
       "\t1929 & 30859             & Petr Cech         & 89                & 454               & 251               & 1                \\\\\n",
       "\t1478 & 27299             & Manuel Neuer      & 90                & 449               & 255               & 1                \\\\\n",
       "\t3751 & 39989             & Gregory Coupet    & 92                & 447               &  37               & 2                \\\\\n",
       "\t1822 & 30657             & Iker Casillas     & 91                & 446               & 232               & 2                \\\\\n",
       "\t829 & 24503             & Sebastian Frey    & 87                & 445               & 156               & 1                \\\\\n",
       "\t2013 & 30989             & Julio Cesar       & 89                & 444               & 202               & 3                \\\\\n",
       "\t1871 & 30726             & Edwin van der Sar & 87                & 442               &  87               & 1                \\\\\n",
       "\t1824 & 30660             & Pepe Reina        & 85                & 436               & 249               & 3                \\\\\n",
       "\t2211 & 32657             & Victor Valdes     & 85                & 436               & 203               & 3                \\\\\n",
       "\\end{tabular}\n"
      ],
      "text/markdown": [
       "\n",
       "| <!--/--> | player_api_id | Player | Overall_rating | GoalKeeper_Rating | Appearances | Number_of_League | \n",
       "|---|---|---|---|---|---|---|---|---|---|\n",
       "| 1864 | 30717             | Gianluigi Buffon  | 93                | 455               | 231               | 1                 | \n",
       "| 1929 | 30859             | Petr Cech         | 89                | 454               | 251               | 1                 | \n",
       "| 1478 | 27299             | Manuel Neuer      | 90                | 449               | 255               | 1                 | \n",
       "| 3751 | 39989             | Gregory Coupet    | 92                | 447               |  37               | 2                 | \n",
       "| 1822 | 30657             | Iker Casillas     | 91                | 446               | 232               | 2                 | \n",
       "| 829 | 24503             | Sebastian Frey    | 87                | 445               | 156               | 1                 | \n",
       "| 2013 | 30989             | Julio Cesar       | 89                | 444               | 202               | 3                 | \n",
       "| 1871 | 30726             | Edwin van der Sar | 87                | 442               |  87               | 1                 | \n",
       "| 1824 | 30660             | Pepe Reina        | 85                | 436               | 249               | 3                 | \n",
       "| 2211 | 32657             | Victor Valdes     | 85                | 436               | 203               | 3                 | \n",
       "\n",
       "\n"
      ],
      "text/plain": [
       "     player_api_id Player            Overall_rating GoalKeeper_Rating\n",
       "1864 30717         Gianluigi Buffon  93             455              \n",
       "1929 30859         Petr Cech         89             454              \n",
       "1478 27299         Manuel Neuer      90             449              \n",
       "3751 39989         Gregory Coupet    92             447              \n",
       "1822 30657         Iker Casillas     91             446              \n",
       "829  24503         Sebastian Frey    87             445              \n",
       "2013 30989         Julio Cesar       89             444              \n",
       "1871 30726         Edwin van der Sar 87             442              \n",
       "1824 30660         Pepe Reina        85             436              \n",
       "2211 32657         Victor Valdes     85             436              \n",
       "     Appearances Number_of_League\n",
       "1864 231         1               \n",
       "1929 251         1               \n",
       "1478 255         1               \n",
       "3751  37         2               \n",
       "1822 232         2               \n",
       "829  156         1               \n",
       "2013 202         3               \n",
       "1871  87         1               \n",
       "1824 249         3               \n",
       "2211 203         3               "
      ]
     },
     "metadata": {},
     "output_type": "display_data"
    }
   ],
   "source": [
    "Answer_2<-head(Player_Data[order(Player_Data$GoalKeeper_Rating,decreasing = TRUE),],10)\n",
    "Answer_2"
   ]
  },
  {
   "cell_type": "markdown",
   "metadata": {},
   "source": [
    "Question 3 :Which are the top 10 players by number of appearances (with any team they played with)?"
   ]
  },
  {
   "cell_type": "code",
   "execution_count": 36,
   "metadata": {
    "collapsed": false
   },
   "outputs": [
    {
     "data": {
      "text/html": [
       "<table>\n",
       "<thead><tr><th></th><th scope=col>player_api_id</th><th scope=col>Player</th><th scope=col>Overall_rating</th><th scope=col>GoalKeeper_Rating</th><th scope=col>Appearances</th><th scope=col>Number_of_League</th></tr></thead>\n",
       "<tbody>\n",
       "\t<tr><th scope=row>2058</th><td>31293               </td><td>Steve Mandanda      </td><td>84                  </td><td>421                 </td><td>300                 </td><td>1                   </td></tr>\n",
       "\t<tr><th scope=row>3983</th><td>41097               </td><td>Stephane Ruffier    </td><td>83                  </td><td>412                 </td><td>294                 </td><td>1                   </td></tr>\n",
       "\t<tr><th scope=row>2448</th><td>33764               </td><td>Gorka Iraizoz Moreno</td><td>81                  </td><td>411                 </td><td>286                 </td><td>1                   </td></tr>\n",
       "\t<tr><th scope=row>4285</th><td>42422               </td><td>Samir Handanovic    </td><td>84                  </td><td>425                 </td><td>286                 </td><td>1                   </td></tr>\n",
       "\t<tr><th scope=row>1221</th><td>26295               </td><td>Hugo Lloris         </td><td>86                  </td><td>433                 </td><td>282                 </td><td>2                   </td></tr>\n",
       "\t<tr><th scope=row>2085</th><td>31465               </td><td>Tim Howard          </td><td>84                  </td><td>418                 </td><td>282                 </td><td>1                   </td></tr>\n",
       "\t<tr><th scope=row>2078</th><td>31432               </td><td>Joe Hart            </td><td>85                  </td><td>418                 </td><td>275                 </td><td>1                   </td></tr>\n",
       "\t<tr><th scope=row>1162</th><td>26168               </td><td>Cedric Carrasso     </td><td>83                  </td><td>413                 </td><td>268                 </td><td>1                   </td></tr>\n",
       "\t<tr><th scope=row>1273</th><td>26399               </td><td>Daniel Congre       </td><td>77                  </td><td>145                 </td><td>262                 </td><td>1                   </td></tr>\n",
       "\t<tr><th scope=row>5383</th><td>94550               </td><td>Moussa Sissoko      </td><td>80                  </td><td>150                 </td><td>260                 </td><td>2                   </td></tr>\n",
       "</tbody>\n",
       "</table>\n"
      ],
      "text/latex": [
       "\\begin{tabular}{r|llllll}\n",
       "  & player\\_api\\_id & Player & Overall\\_rating & GoalKeeper\\_Rating & Appearances & Number\\_of\\_League\\\\\n",
       "\\hline\n",
       "\t2058 & 31293                & Steve Mandanda       & 84                   & 421                  & 300                  & 1                   \\\\\n",
       "\t3983 & 41097                & Stephane Ruffier     & 83                   & 412                  & 294                  & 1                   \\\\\n",
       "\t2448 & 33764                & Gorka Iraizoz Moreno & 81                   & 411                  & 286                  & 1                   \\\\\n",
       "\t4285 & 42422                & Samir Handanovic     & 84                   & 425                  & 286                  & 1                   \\\\\n",
       "\t1221 & 26295                & Hugo Lloris          & 86                   & 433                  & 282                  & 2                   \\\\\n",
       "\t2085 & 31465                & Tim Howard           & 84                   & 418                  & 282                  & 1                   \\\\\n",
       "\t2078 & 31432                & Joe Hart             & 85                   & 418                  & 275                  & 1                   \\\\\n",
       "\t1162 & 26168                & Cedric Carrasso      & 83                   & 413                  & 268                  & 1                   \\\\\n",
       "\t1273 & 26399                & Daniel Congre        & 77                   & 145                  & 262                  & 1                   \\\\\n",
       "\t5383 & 94550                & Moussa Sissoko       & 80                   & 150                  & 260                  & 2                   \\\\\n",
       "\\end{tabular}\n"
      ],
      "text/markdown": [
       "\n",
       "| <!--/--> | player_api_id | Player | Overall_rating | GoalKeeper_Rating | Appearances | Number_of_League | \n",
       "|---|---|---|---|---|---|---|---|---|---|\n",
       "| 2058 | 31293                | Steve Mandanda       | 84                   | 421                  | 300                  | 1                    | \n",
       "| 3983 | 41097                | Stephane Ruffier     | 83                   | 412                  | 294                  | 1                    | \n",
       "| 2448 | 33764                | Gorka Iraizoz Moreno | 81                   | 411                  | 286                  | 1                    | \n",
       "| 4285 | 42422                | Samir Handanovic     | 84                   | 425                  | 286                  | 1                    | \n",
       "| 1221 | 26295                | Hugo Lloris          | 86                   | 433                  | 282                  | 2                    | \n",
       "| 2085 | 31465                | Tim Howard           | 84                   | 418                  | 282                  | 1                    | \n",
       "| 2078 | 31432                | Joe Hart             | 85                   | 418                  | 275                  | 1                    | \n",
       "| 1162 | 26168                | Cedric Carrasso      | 83                   | 413                  | 268                  | 1                    | \n",
       "| 1273 | 26399                | Daniel Congre        | 77                   | 145                  | 262                  | 1                    | \n",
       "| 5383 | 94550                | Moussa Sissoko       | 80                   | 150                  | 260                  | 2                    | \n",
       "\n",
       "\n"
      ],
      "text/plain": [
       "     player_api_id Player               Overall_rating GoalKeeper_Rating\n",
       "2058 31293         Steve Mandanda       84             421              \n",
       "3983 41097         Stephane Ruffier     83             412              \n",
       "2448 33764         Gorka Iraizoz Moreno 81             411              \n",
       "4285 42422         Samir Handanovic     84             425              \n",
       "1221 26295         Hugo Lloris          86             433              \n",
       "2085 31465         Tim Howard           84             418              \n",
       "2078 31432         Joe Hart             85             418              \n",
       "1162 26168         Cedric Carrasso      83             413              \n",
       "1273 26399         Daniel Congre        77             145              \n",
       "5383 94550         Moussa Sissoko       80             150              \n",
       "     Appearances Number_of_League\n",
       "2058 300         1               \n",
       "3983 294         1               \n",
       "2448 286         1               \n",
       "4285 286         1               \n",
       "1221 282         2               \n",
       "2085 282         1               \n",
       "2078 275         1               \n",
       "1162 268         1               \n",
       "1273 262         1               \n",
       "5383 260         2               "
      ]
     },
     "metadata": {},
     "output_type": "display_data"
    }
   ],
   "source": [
    "Answer_3<-head(Player_Data[order(Player_Data$Appearances,decreasing = TRUE),],10)\n",
    "Answer_3"
   ]
  },
  {
   "cell_type": "markdown",
   "metadata": {},
   "source": [
    "Question 4 : Which are the top 10 players by number of leagues they played in?"
   ]
  },
  {
   "cell_type": "code",
   "execution_count": 44,
   "metadata": {
    "collapsed": false,
    "scrolled": true
   },
   "outputs": [
    {
     "data": {
      "text/html": [
       "<table>\n",
       "<thead><tr><th></th><th scope=col>player_api_id</th><th scope=col>Player</th><th scope=col>Overall_rating</th><th scope=col>GoalKeeper_Rating</th><th scope=col>Appearances</th><th scope=col>Number_of_League</th></tr></thead>\n",
       "<tbody>\n",
       "\t<tr><th scope=row>4232</th><td> 42119               </td><td>Gelson Fernandes     </td><td>76                   </td><td>152                  </td><td>175                  </td><td>6                    </td></tr>\n",
       "\t<tr><th scope=row>6022</th><td>116750               </td><td>Ricky van Wolfswinkel</td><td>77                   </td><td>109                  </td><td>151                  </td><td>5                    </td></tr>\n",
       "\t<tr><th scope=row>7220</th><td>178538               </td><td>Filip Djuricic       </td><td>77                   </td><td>139                  </td><td>105                  </td><td>5                    </td></tr>\n",
       "\t<tr><th scope=row>479</th><td> 22543               </td><td>Radamel Falcao       </td><td>90                   </td><td>151                  </td><td>147                  </td><td>4                    </td></tr>\n",
       "\t<tr><th scope=row>726</th><td> 24123               </td><td>Jonathan De Guzman   </td><td>78                   </td><td>144                  </td><td>130                  </td><td>4                    </td></tr>\n",
       "\t<tr><th scope=row>1036</th><td> 25816               </td><td>Almen Abdi           </td><td>74                   </td><td>146                  </td><td> 68                  </td><td>4                    </td></tr>\n",
       "\t<tr><th scope=row>1287</th><td> 26434               </td><td>Ibrahim Afellay      </td><td>82                   </td><td>158                  </td><td> 94                  </td><td>4                    </td></tr>\n",
       "\t<tr><th scope=row>1318</th><td> 26489               </td><td>Edson Braafheid      </td><td>75                   </td><td>139                  </td><td> 89                  </td><td>4                    </td></tr>\n",
       "\t<tr><th scope=row>1407</th><td> 26675               </td><td>Eljero Elia          </td><td>80                   </td><td>145                  </td><td>141                  </td><td>4                    </td></tr>\n",
       "\t<tr><th scope=row>1764</th><td> 30477               </td><td>Danijel Pranjic      </td><td>78                   </td><td>154                  </td><td> 63                  </td><td>4                    </td></tr>\n",
       "</tbody>\n",
       "</table>\n"
      ],
      "text/latex": [
       "\\begin{tabular}{r|llllll}\n",
       "  & player\\_api\\_id & Player & Overall\\_rating & GoalKeeper\\_Rating & Appearances & Number\\_of\\_League\\\\\n",
       "\\hline\n",
       "\t4232 &  42119                & Gelson Fernandes      & 76                    & 152                   & 175                   & 6                    \\\\\n",
       "\t6022 & 116750                & Ricky van Wolfswinkel & 77                    & 109                   & 151                   & 5                    \\\\\n",
       "\t7220 & 178538                & Filip Djuricic        & 77                    & 139                   & 105                   & 5                    \\\\\n",
       "\t479 &  22543                & Radamel Falcao        & 90                    & 151                   & 147                   & 4                    \\\\\n",
       "\t726 &  24123                & Jonathan De Guzman    & 78                    & 144                   & 130                   & 4                    \\\\\n",
       "\t1036 &  25816                & Almen Abdi            & 74                    & 146                   &  68                   & 4                    \\\\\n",
       "\t1287 &  26434                & Ibrahim Afellay       & 82                    & 158                   &  94                   & 4                    \\\\\n",
       "\t1318 &  26489                & Edson Braafheid       & 75                    & 139                   &  89                   & 4                    \\\\\n",
       "\t1407 &  26675                & Eljero Elia           & 80                    & 145                   & 141                   & 4                    \\\\\n",
       "\t1764 &  30477                & Danijel Pranjic       & 78                    & 154                   &  63                   & 4                    \\\\\n",
       "\\end{tabular}\n"
      ],
      "text/markdown": [
       "\n",
       "| <!--/--> | player_api_id | Player | Overall_rating | GoalKeeper_Rating | Appearances | Number_of_League | \n",
       "|---|---|---|---|---|---|---|---|---|---|\n",
       "| 4232 |  42119                | Gelson Fernandes      | 76                    | 152                   | 175                   | 6                     | \n",
       "| 6022 | 116750                | Ricky van Wolfswinkel | 77                    | 109                   | 151                   | 5                     | \n",
       "| 7220 | 178538                | Filip Djuricic        | 77                    | 139                   | 105                   | 5                     | \n",
       "| 479 |  22543                | Radamel Falcao        | 90                    | 151                   | 147                   | 4                     | \n",
       "| 726 |  24123                | Jonathan De Guzman    | 78                    | 144                   | 130                   | 4                     | \n",
       "| 1036 |  25816                | Almen Abdi            | 74                    | 146                   |  68                   | 4                     | \n",
       "| 1287 |  26434                | Ibrahim Afellay       | 82                    | 158                   |  94                   | 4                     | \n",
       "| 1318 |  26489                | Edson Braafheid       | 75                    | 139                   |  89                   | 4                     | \n",
       "| 1407 |  26675                | Eljero Elia           | 80                    | 145                   | 141                   | 4                     | \n",
       "| 1764 |  30477                | Danijel Pranjic       | 78                    | 154                   |  63                   | 4                     | \n",
       "\n",
       "\n"
      ],
      "text/plain": [
       "     player_api_id Player                Overall_rating GoalKeeper_Rating\n",
       "4232  42119        Gelson Fernandes      76             152              \n",
       "6022 116750        Ricky van Wolfswinkel 77             109              \n",
       "7220 178538        Filip Djuricic        77             139              \n",
       "479   22543        Radamel Falcao        90             151              \n",
       "726   24123        Jonathan De Guzman    78             144              \n",
       "1036  25816        Almen Abdi            74             146              \n",
       "1287  26434        Ibrahim Afellay       82             158              \n",
       "1318  26489        Edson Braafheid       75             139              \n",
       "1407  26675        Eljero Elia           80             145              \n",
       "1764  30477        Danijel Pranjic       78             154              \n",
       "     Appearances Number_of_League\n",
       "4232 175         6               \n",
       "6022 151         5               \n",
       "7220 105         5               \n",
       "479  147         4               \n",
       "726  130         4               \n",
       "1036  68         4               \n",
       "1287  94         4               \n",
       "1318  89         4               \n",
       "1407 141         4               \n",
       "1764  63         4               "
      ]
     },
     "metadata": {},
     "output_type": "display_data"
    }
   ],
   "source": [
    "Answer_4<-head(Player_Data[order(Player_Data$Number_of_League,decreasing = TRUE),],10)\n",
    "Answer_4"
   ]
  },
  {
   "cell_type": "code",
   "execution_count": 63,
   "metadata": {
    "collapsed": true
   },
   "outputs": [],
   "source": [
    "Team_Data <- read.csv(file=\"Team.csv\", header=TRUE)"
   ]
  },
  {
   "cell_type": "code",
   "execution_count": 64,
   "metadata": {
    "collapsed": false
   },
   "outputs": [
    {
     "data": {
      "text/html": [
       "<table>\n",
       "<thead><tr><th scope=col>team_api_id</th><th scope=col>team_long_name</th><th scope=col>buildUpPlaySpeed</th><th scope=col>buildUpPlayDribbling</th><th scope=col>buildUpPlayPassing</th><th scope=col>BuildUpPlay</th><th scope=col>ChanceCreation</th><th scope=col>Defense</th><th scope=col>No_Of_Goals</th></tr></thead>\n",
       "<tbody>\n",
       "\t<tr><td>1601                 </td><td>Ruch Chorzów         </td><td>53                   </td><td>48                   </td><td>55                   </td><td>156                  </td><td>205                  </td><td>175                  </td><td>280                  </td></tr>\n",
       "\t<tr><td>1773                 </td><td>Oud-Heverlee Leuven  </td><td>52                   </td><td>51                   </td><td>50                   </td><td>153                  </td><td>157                  </td><td>137                  </td><td>126                  </td></tr>\n",
       "\t<tr><td>1957                 </td><td>Jagiellonia Białystok</td><td>66                   </td><td>54                   </td><td>69                   </td><td>189                  </td><td>165                  </td><td>210                  </td><td>287                  </td></tr>\n",
       "\t<tr><td>2033                 </td><td>S.C. Olhanense       </td><td>65                   </td><td>62                   </td><td>55                   </td><td>182                  </td><td>178                  </td><td>155                  </td><td>138                  </td></tr>\n",
       "\t<tr><td>2182                 </td><td>Lech Poznań          </td><td>67                   </td><td>55                   </td><td>57                   </td><td>179                  </td><td>208                  </td><td>181                  </td><td>372                  </td></tr>\n",
       "\t<tr><td>2183                 </td><td>P. Warszawa          </td><td>34                   </td><td> 0                   </td><td>47                   </td><td> 81                  </td><td>210                  </td><td>177                  </td><td>184                  </td></tr>\n",
       "</tbody>\n",
       "</table>\n"
      ],
      "text/latex": [
       "\\begin{tabular}{r|lllllllll}\n",
       " team\\_api\\_id & team\\_long\\_name & buildUpPlaySpeed & buildUpPlayDribbling & buildUpPlayPassing & BuildUpPlay & ChanceCreation & Defense & No\\_Of\\_Goals\\\\\n",
       "\\hline\n",
       "\t 1601                  & Ruch Chorzów          & 53                    & 48                    & 55                    & 156                   & 205                   & 175                   & 280                  \\\\\n",
       "\t 1773                  & Oud-Heverlee Leuven   & 52                    & 51                    & 50                    & 153                   & 157                   & 137                   & 126                  \\\\\n",
       "\t 1957                  & Jagiellonia Białystok & 66                    & 54                    & 69                    & 189                   & 165                   & 210                   & 287                  \\\\\n",
       "\t 2033                  & S.C. Olhanense        & 65                    & 62                    & 55                    & 182                   & 178                   & 155                   & 138                  \\\\\n",
       "\t 2182                  & Lech Poznań           & 67                    & 55                    & 57                    & 179                   & 208                   & 181                   & 372                  \\\\\n",
       "\t 2183                  & P. Warszawa           & 34                    &  0                    & 47                    &  81                   & 210                   & 177                   & 184                  \\\\\n",
       "\\end{tabular}\n"
      ],
      "text/markdown": [
       "\n",
       "team_api_id | team_long_name | buildUpPlaySpeed | buildUpPlayDribbling | buildUpPlayPassing | BuildUpPlay | ChanceCreation | Defense | No_Of_Goals | \n",
       "|---|---|---|---|---|---|\n",
       "| 1601                  | Ruch Chorzów          | 53                    | 48                    | 55                    | 156                   | 205                   | 175                   | 280                   | \n",
       "| 1773                  | Oud-Heverlee Leuven   | 52                    | 51                    | 50                    | 153                   | 157                   | 137                   | 126                   | \n",
       "| 1957                  | Jagiellonia Białystok | 66                    | 54                    | 69                    | 189                   | 165                   | 210                   | 287                   | \n",
       "| 2033                  | S.C. Olhanense        | 65                    | 62                    | 55                    | 182                   | 178                   | 155                   | 138                   | \n",
       "| 2182                  | Lech Poznań           | 67                    | 55                    | 57                    | 179                   | 208                   | 181                   | 372                   | \n",
       "| 2183                  | P. Warszawa           | 34                    |  0                    | 47                    |  81                   | 210                   | 177                   | 184                   | \n",
       "\n",
       "\n"
      ],
      "text/plain": [
       "  team_api_id team_long_name        buildUpPlaySpeed buildUpPlayDribbling\n",
       "1 1601        Ruch Chorzów          53               48                  \n",
       "2 1773        Oud-Heverlee Leuven   52               51                  \n",
       "3 1957        Jagiellonia Białystok 66               54                  \n",
       "4 2033        S.C. Olhanense        65               62                  \n",
       "5 2182        Lech Poznań           67               55                  \n",
       "6 2183        P. Warszawa           34                0                  \n",
       "  buildUpPlayPassing BuildUpPlay ChanceCreation Defense No_Of_Goals\n",
       "1 55                 156         205            175     280        \n",
       "2 50                 153         157            137     126        \n",
       "3 69                 189         165            210     287        \n",
       "4 55                 182         178            155     138        \n",
       "5 57                 179         208            181     372        \n",
       "6 47                  81         210            177     184        "
      ]
     },
     "metadata": {},
     "output_type": "display_data"
    }
   ],
   "source": [
    "head(Team_Data)"
   ]
  },
  {
   "cell_type": "markdown",
   "metadata": {},
   "source": [
    "Question 5 : Which are the top 10 teams by sum of build up play attributes?"
   ]
  },
  {
   "cell_type": "code",
   "execution_count": 65,
   "metadata": {
    "collapsed": false
   },
   "outputs": [
    {
     "data": {
      "text/html": [
       "<table>\n",
       "<thead><tr><th scope=col>Team_API_ID</th><th scope=col>Team_Long_name</th><th scope=col>BuildUpPlay</th><th scope=col>ChanceCreation</th><th scope=col>Defense</th><th scope=col>No_Of_Goals</th></tr></thead>\n",
       "<tbody>\n",
       "\t<tr><td>8600              </td><td>Udinese           </td><td>212               </td><td>217               </td><td>165               </td><td>415               </td></tr>\n",
       "\t<tr><td>8194              </td><td>Fortuna Düsseldorf</td><td>210               </td><td>193               </td><td>180               </td><td> 39               </td></tr>\n",
       "\t<tr><td>8245              </td><td>Korona Kielce     </td><td>210               </td><td>187               </td><td>195               </td><td>237               </td></tr>\n",
       "\t<tr><td>9804              </td><td>Torino            </td><td>209               </td><td>206               </td><td>146               </td><td>241               </td></tr>\n",
       "\t<tr><td>8485              </td><td>Aberdeen          </td><td>204               </td><td>212               </td><td>200               </td><td>365               </td></tr>\n",
       "\t<tr><td>8636              </td><td>Inter             </td><td>203               </td><td>207               </td><td>173               </td><td>496               </td></tr>\n",
       "\t<tr><td>9904              </td><td>Hannover 96       </td><td>203               </td><td>182               </td><td>210               </td><td>359               </td></tr>\n",
       "\t<tr><td>9831              </td><td>OGC Nice          </td><td>201               </td><td>191               </td><td>210               </td><td>342               </td></tr>\n",
       "\t<tr><td>8639              </td><td>LOSC Lille        </td><td>200               </td><td>212               </td><td>184               </td><td>450               </td></tr>\n",
       "\t<tr><td>9800              </td><td>St. Mirren        </td><td>198               </td><td>210               </td><td>200               </td><td>257               </td></tr>\n",
       "</tbody>\n",
       "</table>\n"
      ],
      "text/latex": [
       "\\begin{tabular}{r|llllll}\n",
       " Team\\_API\\_ID & Team\\_Long\\_name & BuildUpPlay & ChanceCreation & Defense & No\\_Of\\_Goals\\\\\n",
       "\\hline\n",
       "\t 8600               & Udinese            & 212                & 217                & 165                & 415               \\\\\n",
       "\t 8194               & Fortuna Düsseldorf & 210                & 193                & 180                &  39               \\\\\n",
       "\t 8245               & Korona Kielce      & 210                & 187                & 195                & 237               \\\\\n",
       "\t 9804               & Torino             & 209                & 206                & 146                & 241               \\\\\n",
       "\t 8485               & Aberdeen           & 204                & 212                & 200                & 365               \\\\\n",
       "\t 8636               & Inter              & 203                & 207                & 173                & 496               \\\\\n",
       "\t 9904               & Hannover 96        & 203                & 182                & 210                & 359               \\\\\n",
       "\t 9831               & OGC Nice           & 201                & 191                & 210                & 342               \\\\\n",
       "\t 8639               & LOSC Lille         & 200                & 212                & 184                & 450               \\\\\n",
       "\t 9800               & St. Mirren         & 198                & 210                & 200                & 257               \\\\\n",
       "\\end{tabular}\n"
      ],
      "text/markdown": [
       "\n",
       "Team_API_ID | Team_Long_name | BuildUpPlay | ChanceCreation | Defense | No_Of_Goals | \n",
       "|---|---|---|---|---|---|---|---|---|---|\n",
       "| 8600               | Udinese            | 212                | 217                | 165                | 415                | \n",
       "| 8194               | Fortuna Düsseldorf | 210                | 193                | 180                |  39                | \n",
       "| 8245               | Korona Kielce      | 210                | 187                | 195                | 237                | \n",
       "| 9804               | Torino             | 209                | 206                | 146                | 241                | \n",
       "| 8485               | Aberdeen           | 204                | 212                | 200                | 365                | \n",
       "| 8636               | Inter              | 203                | 207                | 173                | 496                | \n",
       "| 9904               | Hannover 96        | 203                | 182                | 210                | 359                | \n",
       "| 9831               | OGC Nice           | 201                | 191                | 210                | 342                | \n",
       "| 8639               | LOSC Lille         | 200                | 212                | 184                | 450                | \n",
       "| 9800               | St. Mirren         | 198                | 210                | 200                | 257                | \n",
       "\n",
       "\n"
      ],
      "text/plain": [
       "   Team_API_ID Team_Long_name     BuildUpPlay ChanceCreation Defense\n",
       "1  8600        Udinese            212         217            165    \n",
       "2  8194        Fortuna Düsseldorf 210         193            180    \n",
       "3  8245        Korona Kielce      210         187            195    \n",
       "4  9804        Torino             209         206            146    \n",
       "5  8485        Aberdeen           204         212            200    \n",
       "6  8636        Inter              203         207            173    \n",
       "7  9904        Hannover 96        203         182            210    \n",
       "8  9831        OGC Nice           201         191            210    \n",
       "9  8639        LOSC Lille         200         212            184    \n",
       "10 9800        St. Mirren         198         210            200    \n",
       "   No_Of_Goals\n",
       "1  415        \n",
       "2   39        \n",
       "3  237        \n",
       "4  241        \n",
       "5  365        \n",
       "6  496        \n",
       "7  359        \n",
       "8  342        \n",
       "9  450        \n",
       "10 257        "
      ]
     },
     "metadata": {},
     "output_type": "display_data"
    }
   ],
   "source": [
    "temp_1<-head(Team_Data[order(Team_Data$BuildUpPlay,decreasing = TRUE),],10)\n",
    "Answer_5<-data.frame(temp_1$team_api_id,temp_1$team_long_name,temp_1$BuildUpPlay,temp_1$ChanceCreation,temp_1$Defense,temp_1$No_Of_Goals)\n",
    "colnames(Answer_5)=c(\"Team_API_ID\",\"Team_Long_name\",\"BuildUpPlay\",\"ChanceCreation\",\"Defense\",\"No_Of_Goals\") \n",
    "Answer_5"
   ]
  },
  {
   "cell_type": "markdown",
   "metadata": {},
   "source": [
    "Question 6 :Which are the top 10 teams by sum of chance creation attributes?"
   ]
  },
  {
   "cell_type": "code",
   "execution_count": 66,
   "metadata": {
    "collapsed": false
   },
   "outputs": [
    {
     "data": {
      "text/html": [
       "<table>\n",
       "<thead><tr><th scope=col>Team_API_ID</th><th scope=col>Team_Long_name</th><th scope=col>BuildUpPlay</th><th scope=col>ChanceCreation</th><th scope=col>Defense</th><th scope=col>No_Of_Goals</th></tr></thead>\n",
       "<tbody>\n",
       "\t<tr><td>8592                  </td><td>Olympique de Marseille</td><td>192                   </td><td>227                   </td><td>200                   </td><td>462                   </td></tr>\n",
       "\t<tr><td>8686                  </td><td>Roma                  </td><td>173                   </td><td>222                   </td><td>182                   </td><td>530                   </td></tr>\n",
       "\t<tr><td>9885                  </td><td>Juventus              </td><td>162                   </td><td>222                   </td><td>203                   </td><td>543                   </td></tr>\n",
       "\t<tr><td>8543                  </td><td>Lazio                 </td><td>192                   </td><td>220                   </td><td>195                   </td><td>417                   </td></tr>\n",
       "\t<tr><td>8548                  </td><td>Rangers               </td><td>173                   </td><td>219                   </td><td>200                   </td><td>324                   </td></tr>\n",
       "\t<tr><td>8658                  </td><td>Birmingham City       </td><td>188                   </td><td>218                   </td><td>210                   </td><td> 75                   </td></tr>\n",
       "\t<tr><td>9875                  </td><td>Napoli                </td><td>198                   </td><td>218                   </td><td>184                   </td><td>514                   </td></tr>\n",
       "\t<tr><td>9906                  </td><td>Atlético Madrid       </td><td>170                   </td><td>218                   </td><td>173                   </td><td>524                   </td></tr>\n",
       "\t<tr><td>8178                  </td><td>Bayer 04 Leverkusen   </td><td>158                   </td><td>217                   </td><td>212                   </td><td>483                   </td></tr>\n",
       "\t<tr><td>8600                  </td><td>Udinese               </td><td>212                   </td><td>217                   </td><td>165                   </td><td>415                   </td></tr>\n",
       "</tbody>\n",
       "</table>\n"
      ],
      "text/latex": [
       "\\begin{tabular}{r|llllll}\n",
       " Team\\_API\\_ID & Team\\_Long\\_name & BuildUpPlay & ChanceCreation & Defense & No\\_Of\\_Goals\\\\\n",
       "\\hline\n",
       "\t 8592                   & Olympique de Marseille & 192                    & 227                    & 200                    & 462                   \\\\\n",
       "\t 8686                   & Roma                   & 173                    & 222                    & 182                    & 530                   \\\\\n",
       "\t 9885                   & Juventus               & 162                    & 222                    & 203                    & 543                   \\\\\n",
       "\t 8543                   & Lazio                  & 192                    & 220                    & 195                    & 417                   \\\\\n",
       "\t 8548                   & Rangers                & 173                    & 219                    & 200                    & 324                   \\\\\n",
       "\t 8658                   & Birmingham City        & 188                    & 218                    & 210                    &  75                   \\\\\n",
       "\t 9875                   & Napoli                 & 198                    & 218                    & 184                    & 514                   \\\\\n",
       "\t 9906                   & Atlético Madrid        & 170                    & 218                    & 173                    & 524                   \\\\\n",
       "\t 8178                   & Bayer 04 Leverkusen    & 158                    & 217                    & 212                    & 483                   \\\\\n",
       "\t 8600                   & Udinese                & 212                    & 217                    & 165                    & 415                   \\\\\n",
       "\\end{tabular}\n"
      ],
      "text/markdown": [
       "\n",
       "Team_API_ID | Team_Long_name | BuildUpPlay | ChanceCreation | Defense | No_Of_Goals | \n",
       "|---|---|---|---|---|---|---|---|---|---|\n",
       "| 8592                   | Olympique de Marseille | 192                    | 227                    | 200                    | 462                    | \n",
       "| 8686                   | Roma                   | 173                    | 222                    | 182                    | 530                    | \n",
       "| 9885                   | Juventus               | 162                    | 222                    | 203                    | 543                    | \n",
       "| 8543                   | Lazio                  | 192                    | 220                    | 195                    | 417                    | \n",
       "| 8548                   | Rangers                | 173                    | 219                    | 200                    | 324                    | \n",
       "| 8658                   | Birmingham City        | 188                    | 218                    | 210                    |  75                    | \n",
       "| 9875                   | Napoli                 | 198                    | 218                    | 184                    | 514                    | \n",
       "| 9906                   | Atlético Madrid        | 170                    | 218                    | 173                    | 524                    | \n",
       "| 8178                   | Bayer 04 Leverkusen    | 158                    | 217                    | 212                    | 483                    | \n",
       "| 8600                   | Udinese                | 212                    | 217                    | 165                    | 415                    | \n",
       "\n",
       "\n"
      ],
      "text/plain": [
       "   Team_API_ID Team_Long_name         BuildUpPlay ChanceCreation Defense\n",
       "1  8592        Olympique de Marseille 192         227            200    \n",
       "2  8686        Roma                   173         222            182    \n",
       "3  9885        Juventus               162         222            203    \n",
       "4  8543        Lazio                  192         220            195    \n",
       "5  8548        Rangers                173         219            200    \n",
       "6  8658        Birmingham City        188         218            210    \n",
       "7  9875        Napoli                 198         218            184    \n",
       "8  9906        Atlético Madrid        170         218            173    \n",
       "9  8178        Bayer 04 Leverkusen    158         217            212    \n",
       "10 8600        Udinese                212         217            165    \n",
       "   No_Of_Goals\n",
       "1  462        \n",
       "2  530        \n",
       "3  543        \n",
       "4  417        \n",
       "5  324        \n",
       "6   75        \n",
       "7  514        \n",
       "8  524        \n",
       "9  483        \n",
       "10 415        "
      ]
     },
     "metadata": {},
     "output_type": "display_data"
    }
   ],
   "source": [
    "temp_2<-head(Team_Data[order(Team_Data$ChanceCreation,decreasing = TRUE),],10)\n",
    "Answer_6<-data.frame(temp_2$team_api_id,temp_2$team_long_name,temp_2$BuildUpPlay,temp_2$ChanceCreation,temp_2$Defense,temp_2$No_Of_Goals)\n",
    "colnames(Answer_6)=c(\"Team_API_ID\",\"Team_Long_name\",\"BuildUpPlay\",\"ChanceCreation\",\"Defense\",\"No_Of_Goals\") \n",
    "Answer_6"
   ]
  },
  {
   "cell_type": "markdown",
   "metadata": {},
   "source": [
    "Question 7: Which are the top 10 teams by sum of defense attributes?"
   ]
  },
  {
   "cell_type": "code",
   "execution_count": 67,
   "metadata": {
    "collapsed": false
   },
   "outputs": [
    {
     "data": {
      "text/html": [
       "<table>\n",
       "<thead><tr><th scope=col>Team_API_ID</th><th scope=col>Team_Long_name</th><th scope=col>BuildUpPlay</th><th scope=col>ChanceCreation</th><th scope=col>Defense</th><th scope=col>No_Of_Goals</th></tr></thead>\n",
       "<tbody>\n",
       "\t<tr><td>8178                 </td><td>Bayer 04 Leverkusen  </td><td>158                  </td><td>217                  </td><td>212                  </td><td>483                  </td></tr>\n",
       "\t<tr><td>1957                 </td><td>Jagiellonia Białystok</td><td>189                  </td><td>165                  </td><td>210                  </td><td>287                  </td></tr>\n",
       "\t<tr><td>7794                 </td><td>SC Bastia            </td><td>180                  </td><td>162                  </td><td>210                  </td><td>165                  </td></tr>\n",
       "\t<tr><td>8021                 </td><td>Zagłębie Lubin       </td><td>164                  </td><td>203                  </td><td>210                  </td><td>207                  </td></tr>\n",
       "\t<tr><td>8197                 </td><td>Leicester City       </td><td>181                  </td><td>209                  </td><td>210                  </td><td>114                  </td></tr>\n",
       "\t<tr><td>8344                 </td><td>Cardiff City         </td><td>178                  </td><td>210                  </td><td>210                  </td><td> 32                  </td></tr>\n",
       "\t<tr><td>8350                 </td><td>1. FC Kaiserslautern </td><td>175                  </td><td>194                  </td><td>210                  </td><td> 72                  </td></tr>\n",
       "\t<tr><td>8466                 </td><td>Southampton          </td><td>166                  </td><td>205                  </td><td>210                  </td><td>216                  </td></tr>\n",
       "\t<tr><td>8481                 </td><td>AS Nancy-Lorraine    </td><td>162                  </td><td>197                  </td><td>210                  </td><td>203                  </td></tr>\n",
       "\t<tr><td>8483                 </td><td>Blackpool            </td><td>186                  </td><td>205                  </td><td>210                  </td><td> 55                  </td></tr>\n",
       "</tbody>\n",
       "</table>\n"
      ],
      "text/latex": [
       "\\begin{tabular}{r|llllll}\n",
       " Team\\_API\\_ID & Team\\_Long\\_name & BuildUpPlay & ChanceCreation & Defense & No\\_Of\\_Goals\\\\\n",
       "\\hline\n",
       "\t 8178                  & Bayer 04 Leverkusen   & 158                   & 217                   & 212                   & 483                  \\\\\n",
       "\t 1957                  & Jagiellonia Białystok & 189                   & 165                   & 210                   & 287                  \\\\\n",
       "\t 7794                  & SC Bastia             & 180                   & 162                   & 210                   & 165                  \\\\\n",
       "\t 8021                  & Zagłębie Lubin        & 164                   & 203                   & 210                   & 207                  \\\\\n",
       "\t 8197                  & Leicester City        & 181                   & 209                   & 210                   & 114                  \\\\\n",
       "\t 8344                  & Cardiff City          & 178                   & 210                   & 210                   &  32                  \\\\\n",
       "\t 8350                  & 1. FC Kaiserslautern  & 175                   & 194                   & 210                   &  72                  \\\\\n",
       "\t 8466                  & Southampton           & 166                   & 205                   & 210                   & 216                  \\\\\n",
       "\t 8481                  & AS Nancy-Lorraine     & 162                   & 197                   & 210                   & 203                  \\\\\n",
       "\t 8483                  & Blackpool             & 186                   & 205                   & 210                   &  55                  \\\\\n",
       "\\end{tabular}\n"
      ],
      "text/markdown": [
       "\n",
       "Team_API_ID | Team_Long_name | BuildUpPlay | ChanceCreation | Defense | No_Of_Goals | \n",
       "|---|---|---|---|---|---|---|---|---|---|\n",
       "| 8178                  | Bayer 04 Leverkusen   | 158                   | 217                   | 212                   | 483                   | \n",
       "| 1957                  | Jagiellonia Białystok | 189                   | 165                   | 210                   | 287                   | \n",
       "| 7794                  | SC Bastia             | 180                   | 162                   | 210                   | 165                   | \n",
       "| 8021                  | Zagłębie Lubin        | 164                   | 203                   | 210                   | 207                   | \n",
       "| 8197                  | Leicester City        | 181                   | 209                   | 210                   | 114                   | \n",
       "| 8344                  | Cardiff City          | 178                   | 210                   | 210                   |  32                   | \n",
       "| 8350                  | 1. FC Kaiserslautern  | 175                   | 194                   | 210                   |  72                   | \n",
       "| 8466                  | Southampton           | 166                   | 205                   | 210                   | 216                   | \n",
       "| 8481                  | AS Nancy-Lorraine     | 162                   | 197                   | 210                   | 203                   | \n",
       "| 8483                  | Blackpool             | 186                   | 205                   | 210                   |  55                   | \n",
       "\n",
       "\n"
      ],
      "text/plain": [
       "   Team_API_ID Team_Long_name        BuildUpPlay ChanceCreation Defense\n",
       "1  8178        Bayer 04 Leverkusen   158         217            212    \n",
       "2  1957        Jagiellonia Białystok 189         165            210    \n",
       "3  7794        SC Bastia             180         162            210    \n",
       "4  8021        Zagłębie Lubin        164         203            210    \n",
       "5  8197        Leicester City        181         209            210    \n",
       "6  8344        Cardiff City          178         210            210    \n",
       "7  8350        1. FC Kaiserslautern  175         194            210    \n",
       "8  8466        Southampton           166         205            210    \n",
       "9  8481        AS Nancy-Lorraine     162         197            210    \n",
       "10 8483        Blackpool             186         205            210    \n",
       "   No_Of_Goals\n",
       "1  483        \n",
       "2  287        \n",
       "3  165        \n",
       "4  207        \n",
       "5  114        \n",
       "6   32        \n",
       "7   72        \n",
       "8  216        \n",
       "9  203        \n",
       "10  55        "
      ]
     },
     "metadata": {},
     "output_type": "display_data"
    }
   ],
   "source": [
    "temp_3<-head(Team_Data[order(Team_Data$Defense,decreasing = TRUE),],10)\n",
    "Answer_7<-data.frame(temp_3$team_api_id,temp_3$team_long_name,temp_3$BuildUpPlay,temp_3$ChanceCreation,temp_3$Defense,temp_3$No_Of_Goals)\n",
    "colnames(Answer_7)=c(\"Team_API_ID\",\"Team_Long_name\",\"BuildUpPlay\",\"ChanceCreation\",\"Defense\",\"No_Of_Goals\") \n",
    "Answer_7"
   ]
  },
  {
   "cell_type": "markdown",
   "metadata": {},
   "source": [
    "Question 8: Which are the top 10 teams by number of scored goals?"
   ]
  },
  {
   "cell_type": "code",
   "execution_count": 68,
   "metadata": {
    "collapsed": false
   },
   "outputs": [
    {
     "data": {
      "text/html": [
       "<table>\n",
       "<thead><tr><th scope=col>Team_API_ID</th><th scope=col>Team_Long_name</th><th scope=col>BuildUpPlay</th><th scope=col>ChanceCreation</th><th scope=col>Defense</th><th scope=col>No_Of_Goals</th></tr></thead>\n",
       "<tbody>\n",
       "\t<tr><td> 8634            </td><td>FC Barcelona     </td><td>129              </td><td>184              </td><td>205              </td><td>849              </td></tr>\n",
       "\t<tr><td> 8633            </td><td>Real Madrid CF   </td><td>158              </td><td>204              </td><td>196              </td><td>843              </td></tr>\n",
       "\t<tr><td> 9925            </td><td>Celtic           </td><td>192              </td><td>205              </td><td>200              </td><td>695              </td></tr>\n",
       "\t<tr><td> 9823            </td><td>FC Bayern Munich </td><td>140              </td><td>207              </td><td>196              </td><td>653              </td></tr>\n",
       "\t<tr><td> 8640            </td><td>PSV              </td><td>155              </td><td>202              </td><td>183              </td><td>652              </td></tr>\n",
       "\t<tr><td> 8593            </td><td>Ajax             </td><td>122              </td><td>202              </td><td>197              </td><td>647              </td></tr>\n",
       "\t<tr><td> 9931            </td><td>FC Basel         </td><td>170              </td><td>186              </td><td>180              </td><td>619              </td></tr>\n",
       "\t<tr><td> 8456            </td><td>Manchester City  </td><td>165              </td><td>215              </td><td>184              </td><td>606              </td></tr>\n",
       "\t<tr><td> 8455            </td><td>Chelsea          </td><td>182              </td><td>210              </td><td>172              </td><td>583              </td></tr>\n",
       "\t<tr><td>10260            </td><td>Manchester United</td><td>166              </td><td>207              </td><td>172              </td><td>582              </td></tr>\n",
       "</tbody>\n",
       "</table>\n"
      ],
      "text/latex": [
       "\\begin{tabular}{r|llllll}\n",
       " Team\\_API\\_ID & Team\\_Long\\_name & BuildUpPlay & ChanceCreation & Defense & No\\_Of\\_Goals\\\\\n",
       "\\hline\n",
       "\t  8634             & FC Barcelona      & 129               & 184               & 205               & 849              \\\\\n",
       "\t  8633             & Real Madrid CF    & 158               & 204               & 196               & 843              \\\\\n",
       "\t  9925             & Celtic            & 192               & 205               & 200               & 695              \\\\\n",
       "\t  9823             & FC Bayern Munich  & 140               & 207               & 196               & 653              \\\\\n",
       "\t  8640             & PSV               & 155               & 202               & 183               & 652              \\\\\n",
       "\t  8593             & Ajax              & 122               & 202               & 197               & 647              \\\\\n",
       "\t  9931             & FC Basel          & 170               & 186               & 180               & 619              \\\\\n",
       "\t  8456             & Manchester City   & 165               & 215               & 184               & 606              \\\\\n",
       "\t  8455             & Chelsea           & 182               & 210               & 172               & 583              \\\\\n",
       "\t 10260             & Manchester United & 166               & 207               & 172               & 582              \\\\\n",
       "\\end{tabular}\n"
      ],
      "text/markdown": [
       "\n",
       "Team_API_ID | Team_Long_name | BuildUpPlay | ChanceCreation | Defense | No_Of_Goals | \n",
       "|---|---|---|---|---|---|---|---|---|---|\n",
       "|  8634             | FC Barcelona      | 129               | 184               | 205               | 849               | \n",
       "|  8633             | Real Madrid CF    | 158               | 204               | 196               | 843               | \n",
       "|  9925             | Celtic            | 192               | 205               | 200               | 695               | \n",
       "|  9823             | FC Bayern Munich  | 140               | 207               | 196               | 653               | \n",
       "|  8640             | PSV               | 155               | 202               | 183               | 652               | \n",
       "|  8593             | Ajax              | 122               | 202               | 197               | 647               | \n",
       "|  9931             | FC Basel          | 170               | 186               | 180               | 619               | \n",
       "|  8456             | Manchester City   | 165               | 215               | 184               | 606               | \n",
       "|  8455             | Chelsea           | 182               | 210               | 172               | 583               | \n",
       "| 10260             | Manchester United | 166               | 207               | 172               | 582               | \n",
       "\n",
       "\n"
      ],
      "text/plain": [
       "   Team_API_ID Team_Long_name    BuildUpPlay ChanceCreation Defense No_Of_Goals\n",
       "1   8634       FC Barcelona      129         184            205     849        \n",
       "2   8633       Real Madrid CF    158         204            196     843        \n",
       "3   9925       Celtic            192         205            200     695        \n",
       "4   9823       FC Bayern Munich  140         207            196     653        \n",
       "5   8640       PSV               155         202            183     652        \n",
       "6   8593       Ajax              122         202            197     647        \n",
       "7   9931       FC Basel          170         186            180     619        \n",
       "8   8456       Manchester City   165         215            184     606        \n",
       "9   8455       Chelsea           182         210            172     583        \n",
       "10 10260       Manchester United 166         207            172     582        "
      ]
     },
     "metadata": {},
     "output_type": "display_data"
    }
   ],
   "source": [
    "temp_4<-head(Team_Data[order(Team_Data$No_Of_Goals,decreasing = TRUE),],10)\n",
    "Answer_8<-data.frame(temp_4$team_api_id,temp_4$team_long_name,temp_4$BuildUpPlay,temp_4$ChanceCreation,temp_4$Defense,temp_4$No_Of_Goals)\n",
    "colnames(Answer_8)=c(\"Team_API_ID\",\"Team_Long_name\",\"BuildUpPlay\",\"ChanceCreation\",\"Defense\",\"No_Of_Goals\") \n",
    "Answer_8"
   ]
  }
 ],
 "metadata": {
  "kernelspec": {
   "display_name": "R",
   "language": "R",
   "name": "ir"
  },
  "language_info": {
   "codemirror_mode": "r",
   "file_extension": ".r",
   "mimetype": "text/x-r-source",
   "name": "R",
   "pygments_lexer": "r",
   "version": "3.3.2"
  }
 },
 "nbformat": 4,
 "nbformat_minor": 2
}
