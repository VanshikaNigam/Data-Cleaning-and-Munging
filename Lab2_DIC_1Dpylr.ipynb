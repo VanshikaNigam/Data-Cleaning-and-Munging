{
 "cells": [
  {
   "cell_type": "code",
   "execution_count": 2,
   "metadata": {
    "collapsed": false
   },
   "outputs": [
    {
     "name": "stderr",
     "output_type": "stream",
     "text": [
      "Updating HTML index of packages in '.Library'\n",
      "Making 'packages.html' ... done\n"
     ]
    }
   ],
   "source": [
    "install.packages(\"dplyr\")"
   ]
  },
  {
   "cell_type": "code",
   "execution_count": 5,
   "metadata": {
    "collapsed": false
   },
   "outputs": [
    {
     "name": "stderr",
     "output_type": "stream",
     "text": [
      "\n",
      "Attaching package: ‘dplyr’\n",
      "\n",
      "The following objects are masked from ‘package:stats’:\n",
      "\n",
      "    filter, lag\n",
      "\n",
      "The following objects are masked from ‘package:base’:\n",
      "\n",
      "    intersect, setdiff, setequal, union\n",
      "\n"
     ]
    }
   ],
   "source": [
    "library(dplyr)"
   ]
  },
  {
   "cell_type": "code",
   "execution_count": 6,
   "metadata": {
    "collapsed": true
   },
   "outputs": [],
   "source": [
    "my_db <- src_sqlite(\"my_db.sqlite3\", create = T)"
   ]
  },
  {
   "cell_type": "code",
   "execution_count": 10,
   "metadata": {
    "collapsed": false
   },
   "outputs": [
    {
     "name": "stderr",
     "output_type": "stream",
     "text": [
      "Updating HTML index of packages in '.Library'\n",
      "Making 'packages.html' ... done\n"
     ]
    }
   ],
   "source": [
    "install.packages(\"nycflights13\")"
   ]
  },
  {
   "cell_type": "code",
   "execution_count": 11,
   "metadata": {
    "collapsed": true
   },
   "outputs": [],
   "source": [
    "library(nycflights13)"
   ]
  },
  {
   "cell_type": "code",
   "execution_count": 12,
   "metadata": {
    "collapsed": false
   },
   "outputs": [
    {
     "data": {
      "text/html": [
       "<table>\n",
       "<thead><tr><th scope=col>year</th><th scope=col>month</th><th scope=col>day</th><th scope=col>dep_time</th><th scope=col>sched_dep_time</th><th scope=col>dep_delay</th><th scope=col>arr_time</th><th scope=col>sched_arr_time</th><th scope=col>arr_delay</th><th scope=col>carrier</th><th scope=col>flight</th><th scope=col>tailnum</th><th scope=col>origin</th><th scope=col>dest</th><th scope=col>air_time</th><th scope=col>distance</th><th scope=col>hour</th><th scope=col>minute</th><th scope=col>time_hour</th></tr></thead>\n",
       "<tbody>\n",
       "\t<tr><td>2013               </td><td>1                  </td><td>1                  </td><td>517                </td><td>515                </td><td> 2                 </td><td> 830               </td><td> 819               </td><td> 11                </td><td>UA                 </td><td>1545               </td><td>N14228             </td><td>EWR                </td><td>IAH                </td><td>227                </td><td>1400               </td><td>5                  </td><td>15                 </td><td>2013-01-01 05:00:00</td></tr>\n",
       "\t<tr><td>2013               </td><td>1                  </td><td>1                  </td><td>533                </td><td>529                </td><td> 4                 </td><td> 850               </td><td> 830               </td><td> 20                </td><td>UA                 </td><td>1714               </td><td>N24211             </td><td>LGA                </td><td>IAH                </td><td>227                </td><td>1416               </td><td>5                  </td><td>29                 </td><td>2013-01-01 05:00:00</td></tr>\n",
       "\t<tr><td>2013               </td><td>1                  </td><td>1                  </td><td>542                </td><td>540                </td><td> 2                 </td><td> 923               </td><td> 850               </td><td> 33                </td><td>AA                 </td><td>1141               </td><td>N619AA             </td><td>JFK                </td><td>MIA                </td><td>160                </td><td>1089               </td><td>5                  </td><td>40                 </td><td>2013-01-01 05:00:00</td></tr>\n",
       "\t<tr><td>2013               </td><td>1                  </td><td>1                  </td><td>544                </td><td>545                </td><td>-1                 </td><td>1004               </td><td>1022               </td><td>-18                </td><td>B6                 </td><td> 725               </td><td>N804JB             </td><td>JFK                </td><td>BQN                </td><td>183                </td><td>1576               </td><td>5                  </td><td>45                 </td><td>2013-01-01 05:00:00</td></tr>\n",
       "\t<tr><td>2013               </td><td>1                  </td><td>1                  </td><td>554                </td><td>600                </td><td>-6                 </td><td> 812               </td><td> 837               </td><td>-25                </td><td>DL                 </td><td> 461               </td><td>N668DN             </td><td>LGA                </td><td>ATL                </td><td>116                </td><td> 762               </td><td>6                  </td><td> 0                 </td><td>2013-01-01 06:00:00</td></tr>\n",
       "\t<tr><td>2013               </td><td>1                  </td><td>1                  </td><td>554                </td><td>558                </td><td>-4                 </td><td> 740               </td><td> 728               </td><td> 12                </td><td>UA                 </td><td>1696               </td><td>N39463             </td><td>EWR                </td><td>ORD                </td><td>150                </td><td> 719               </td><td>5                  </td><td>58                 </td><td>2013-01-01 05:00:00</td></tr>\n",
       "\t<tr><td>2013               </td><td>1                  </td><td>1                  </td><td>555                </td><td>600                </td><td>-5                 </td><td> 913               </td><td> 854               </td><td> 19                </td><td>B6                 </td><td> 507               </td><td>N516JB             </td><td>EWR                </td><td>FLL                </td><td>158                </td><td>1065               </td><td>6                  </td><td> 0                 </td><td>2013-01-01 06:00:00</td></tr>\n",
       "\t<tr><td>2013               </td><td>1                  </td><td>1                  </td><td>557                </td><td>600                </td><td>-3                 </td><td> 709               </td><td> 723               </td><td>-14                </td><td>EV                 </td><td>5708               </td><td>N829AS             </td><td>LGA                </td><td>IAD                </td><td> 53                </td><td> 229               </td><td>6                  </td><td> 0                 </td><td>2013-01-01 06:00:00</td></tr>\n",
       "\t<tr><td>2013               </td><td>1                  </td><td>1                  </td><td>557                </td><td>600                </td><td>-3                 </td><td> 838               </td><td> 846               </td><td> -8                </td><td>B6                 </td><td>  79               </td><td>N593JB             </td><td>JFK                </td><td>MCO                </td><td>140                </td><td> 944               </td><td>6                  </td><td> 0                 </td><td>2013-01-01 06:00:00</td></tr>\n",
       "\t<tr><td>2013               </td><td>1                  </td><td>1                  </td><td>558                </td><td>600                </td><td>-2                 </td><td> 753               </td><td> 745               </td><td>  8                </td><td>AA                 </td><td> 301               </td><td>N3ALAA             </td><td>LGA                </td><td>ORD                </td><td>138                </td><td> 733               </td><td>6                  </td><td> 0                 </td><td>2013-01-01 06:00:00</td></tr>\n",
       "\t<tr><td>2013               </td><td>1                  </td><td>1                  </td><td>558                </td><td>600                </td><td>-2                 </td><td> 849               </td><td> 851               </td><td> -2                </td><td>B6                 </td><td>  49               </td><td>N793JB             </td><td>JFK                </td><td>PBI                </td><td>149                </td><td>1028               </td><td>6                  </td><td> 0                 </td><td>2013-01-01 06:00:00</td></tr>\n",
       "\t<tr><td>2013               </td><td>1                  </td><td>1                  </td><td>558                </td><td>600                </td><td>-2                 </td><td> 853               </td><td> 856               </td><td> -3                </td><td>B6                 </td><td>  71               </td><td>N657JB             </td><td>JFK                </td><td>TPA                </td><td>158                </td><td>1005               </td><td>6                  </td><td> 0                 </td><td>2013-01-01 06:00:00</td></tr>\n",
       "\t<tr><td>2013               </td><td>1                  </td><td>1                  </td><td>558                </td><td>600                </td><td>-2                 </td><td> 924               </td><td> 917               </td><td>  7                </td><td>UA                 </td><td> 194               </td><td>N29129             </td><td>JFK                </td><td>LAX                </td><td>345                </td><td>2475               </td><td>6                  </td><td> 0                 </td><td>2013-01-01 06:00:00</td></tr>\n",
       "\t<tr><td>2013               </td><td>1                  </td><td>1                  </td><td>558                </td><td>600                </td><td>-2                 </td><td> 923               </td><td> 937               </td><td>-14                </td><td>UA                 </td><td>1124               </td><td>N53441             </td><td>EWR                </td><td>SFO                </td><td>361                </td><td>2565               </td><td>6                  </td><td> 0                 </td><td>2013-01-01 06:00:00</td></tr>\n",
       "\t<tr><td>2013               </td><td>1                  </td><td>1                  </td><td>559                </td><td>600                </td><td>-1                 </td><td> 941               </td><td> 910               </td><td> 31                </td><td>AA                 </td><td> 707               </td><td>N3DUAA             </td><td>LGA                </td><td>DFW                </td><td>257                </td><td>1389               </td><td>6                  </td><td> 0                 </td><td>2013-01-01 06:00:00</td></tr>\n",
       "\t<tr><td>2013               </td><td>1                  </td><td>1                  </td><td>559                </td><td>559                </td><td> 0                 </td><td> 702               </td><td> 706               </td><td> -4                </td><td>B6                 </td><td>1806               </td><td>N708JB             </td><td>JFK                </td><td>BOS                </td><td> 44                </td><td> 187               </td><td>5                  </td><td>59                 </td><td>2013-01-01 05:00:00</td></tr>\n",
       "\t<tr><td>2013               </td><td>1                  </td><td>1                  </td><td>559                </td><td>600                </td><td>-1                 </td><td> 854               </td><td> 902               </td><td> -8                </td><td>UA                 </td><td>1187               </td><td>N76515             </td><td>EWR                </td><td>LAS                </td><td>337                </td><td>2227               </td><td>6                  </td><td> 0                 </td><td>2013-01-01 06:00:00</td></tr>\n",
       "\t<tr><td>2013               </td><td>1                  </td><td>1                  </td><td>600                </td><td>600                </td><td> 0                 </td><td> 851               </td><td> 858               </td><td> -7                </td><td>B6                 </td><td> 371               </td><td>N595JB             </td><td>LGA                </td><td>FLL                </td><td>152                </td><td>1076               </td><td>6                  </td><td> 0                 </td><td>2013-01-01 06:00:00</td></tr>\n",
       "\t<tr><td>2013               </td><td>1                  </td><td>1                  </td><td>600                </td><td>600                </td><td> 0                 </td><td> 837               </td><td> 825               </td><td> 12                </td><td>MQ                 </td><td>4650               </td><td>N542MQ             </td><td>LGA                </td><td>ATL                </td><td>134                </td><td> 762               </td><td>6                  </td><td> 0                 </td><td>2013-01-01 06:00:00</td></tr>\n",
       "\t<tr><td>2013               </td><td>1                  </td><td>1                  </td><td>601                </td><td>600                </td><td> 1                 </td><td> 844               </td><td> 850               </td><td> -6                </td><td>B6                 </td><td> 343               </td><td>N644JB             </td><td>EWR                </td><td>PBI                </td><td>147                </td><td>1023               </td><td>6                  </td><td> 0                 </td><td>2013-01-01 06:00:00</td></tr>\n",
       "\t<tr><td>2013               </td><td>1                  </td><td>1                  </td><td>602                </td><td>610                </td><td>-8                 </td><td> 812               </td><td> 820               </td><td> -8                </td><td>DL                 </td><td>1919               </td><td>N971DL             </td><td>LGA                </td><td>MSP                </td><td>170                </td><td>1020               </td><td>6                  </td><td>10                 </td><td>2013-01-01 06:00:00</td></tr>\n",
       "\t<tr><td>2013               </td><td>1                  </td><td>1                  </td><td>602                </td><td>605                </td><td>-3                 </td><td> 821               </td><td> 805               </td><td> 16                </td><td>MQ                 </td><td>4401               </td><td>N730MQ             </td><td>LGA                </td><td>DTW                </td><td>105                </td><td> 502               </td><td>6                  </td><td> 5                 </td><td>2013-01-01 06:00:00</td></tr>\n",
       "\t<tr><td>2013               </td><td>1                  </td><td>1                  </td><td>606                </td><td>610                </td><td>-4                 </td><td> 858               </td><td> 910               </td><td>-12                </td><td>AA                 </td><td>1895               </td><td>N633AA             </td><td>EWR                </td><td>MIA                </td><td>152                </td><td>1085               </td><td>6                  </td><td>10                 </td><td>2013-01-01 06:00:00</td></tr>\n",
       "\t<tr><td>2013               </td><td>1                  </td><td>1                  </td><td>606                </td><td>610                </td><td>-4                 </td><td> 837               </td><td> 845               </td><td> -8                </td><td>DL                 </td><td>1743               </td><td>N3739P             </td><td>JFK                </td><td>ATL                </td><td>128                </td><td> 760               </td><td>6                  </td><td>10                 </td><td>2013-01-01 06:00:00</td></tr>\n",
       "\t<tr><td>2013               </td><td>1                  </td><td>1                  </td><td>607                </td><td>607                </td><td> 0                 </td><td> 858               </td><td> 915               </td><td>-17                </td><td>UA                 </td><td>1077               </td><td>N53442             </td><td>EWR                </td><td>MIA                </td><td>157                </td><td>1085               </td><td>6                  </td><td> 7                 </td><td>2013-01-01 06:00:00</td></tr>\n",
       "\t<tr><td>2013               </td><td>1                  </td><td>1                  </td><td>608                </td><td>600                </td><td> 8                 </td><td> 807               </td><td> 735               </td><td> 32                </td><td>MQ                 </td><td>3768               </td><td>N9EAMQ             </td><td>EWR                </td><td>ORD                </td><td>139                </td><td> 719               </td><td>6                  </td><td> 0                 </td><td>2013-01-01 06:00:00</td></tr>\n",
       "\t<tr><td>2013               </td><td>1                  </td><td>1                  </td><td>611                </td><td>600                </td><td>11                 </td><td> 945               </td><td> 931               </td><td> 14                </td><td>UA                 </td><td> 303               </td><td>N532UA             </td><td>JFK                </td><td>SFO                </td><td>366                </td><td>2586               </td><td>6                  </td><td> 0                 </td><td>2013-01-01 06:00:00</td></tr>\n",
       "\t<tr><td>2013               </td><td>1                  </td><td>1                  </td><td>613                </td><td>610                </td><td> 3                 </td><td> 925               </td><td> 921               </td><td>  4                </td><td>B6                 </td><td> 135               </td><td>N635JB             </td><td>JFK                </td><td>RSW                </td><td>175                </td><td>1074               </td><td>6                  </td><td>10                 </td><td>2013-01-01 06:00:00</td></tr>\n",
       "\t<tr><td>2013               </td><td>1                  </td><td>1                  </td><td>615                </td><td>615                </td><td> 0                 </td><td>1039               </td><td>1100               </td><td>-21                </td><td>B6                 </td><td> 709               </td><td>N794JB             </td><td>JFK                </td><td>SJU                </td><td>182                </td><td>1598               </td><td>6                  </td><td>15                 </td><td>2013-01-01 06:00:00</td></tr>\n",
       "\t<tr><td>2013               </td><td>1                  </td><td>1                  </td><td>615                </td><td>615                </td><td> 0                 </td><td> 833               </td><td> 842               </td><td> -9                </td><td>DL                 </td><td> 575               </td><td>N326NB             </td><td>EWR                </td><td>ATL                </td><td>120                </td><td> 746               </td><td>6                  </td><td>15                 </td><td>2013-01-01 06:00:00</td></tr>\n",
       "\t<tr><td>⋮</td><td>⋮</td><td>⋮</td><td>⋮</td><td>⋮</td><td>⋮</td><td>⋮</td><td>⋮</td><td>⋮</td><td>⋮</td><td>⋮</td><td>⋮</td><td>⋮</td><td>⋮</td><td>⋮</td><td>⋮</td><td>⋮</td><td>⋮</td><td>⋮</td></tr>\n",
       "\t<tr><td>2013               </td><td>9                  </td><td>30                 </td><td>2123               </td><td>2125               </td><td> -2                </td><td>2223               </td><td>2247               </td><td>-24                </td><td>EV                 </td><td>5489               </td><td>N712EV             </td><td>LGA                </td><td>CHO                </td><td> 45                </td><td> 305               </td><td>21                 </td><td>25                 </td><td>2013-09-30 21:00:00</td></tr>\n",
       "\t<tr><td>2013               </td><td>9                  </td><td>30                 </td><td>2127               </td><td>2129               </td><td> -2                </td><td>2314               </td><td>2323               </td><td> -9                </td><td>EV                 </td><td>3833               </td><td>N16546             </td><td>EWR                </td><td>CLT                </td><td> 72                </td><td> 529               </td><td>21                 </td><td>29                 </td><td>2013-09-30 21:00:00</td></tr>\n",
       "\t<tr><td>2013               </td><td>9                  </td><td>30                 </td><td>2128               </td><td>2130               </td><td> -2                </td><td>2328               </td><td>2359               </td><td>-31                </td><td>B6                 </td><td>  97               </td><td>N807JB             </td><td>JFK                </td><td>DEN                </td><td>213                </td><td>1626               </td><td>21                 </td><td>30                 </td><td>2013-09-30 21:00:00</td></tr>\n",
       "\t<tr><td>2013               </td><td>9                  </td><td>30                 </td><td>2129               </td><td>2059               </td><td> 30                </td><td>2230               </td><td>2232               </td><td> -2                </td><td>EV                 </td><td>5048               </td><td>N751EV             </td><td>LGA                </td><td>RIC                </td><td> 45                </td><td> 292               </td><td>20                 </td><td>59                 </td><td>2013-09-30 20:00:00</td></tr>\n",
       "\t<tr><td>2013               </td><td>9                  </td><td>30                 </td><td>2131               </td><td>2140               </td><td> -9                </td><td>2225               </td><td>2255               </td><td>-30                </td><td>MQ                 </td><td>3621               </td><td>N807MQ             </td><td>JFK                </td><td>DCA                </td><td> 36                </td><td> 213               </td><td>21                 </td><td>40                 </td><td>2013-09-30 21:00:00</td></tr>\n",
       "\t<tr><td>2013               </td><td>9                  </td><td>30                 </td><td>2140               </td><td>2140               </td><td>  0                </td><td>  10               </td><td>  40               </td><td>-30                </td><td>AA                 </td><td> 185               </td><td>N335AA             </td><td>JFK                </td><td>LAX                </td><td>298                </td><td>2475               </td><td>21                 </td><td>40                 </td><td>2013-09-30 21:00:00</td></tr>\n",
       "\t<tr><td>2013               </td><td>9                  </td><td>30                 </td><td>2142               </td><td>2129               </td><td> 13                </td><td>2250               </td><td>2239               </td><td> 11                </td><td>EV                 </td><td>4509               </td><td>N12957             </td><td>EWR                </td><td>PWM                </td><td> 47                </td><td> 284               </td><td>21                 </td><td>29                 </td><td>2013-09-30 21:00:00</td></tr>\n",
       "\t<tr><td>2013               </td><td>9                  </td><td>30                 </td><td>2145               </td><td>2145               </td><td>  0                </td><td> 115               </td><td> 140               </td><td>-25                </td><td>B6                 </td><td>1103               </td><td>N633JB             </td><td>JFK                </td><td>SJU                </td><td>192                </td><td>1598               </td><td>21                 </td><td>45                 </td><td>2013-09-30 21:00:00</td></tr>\n",
       "\t<tr><td>2013               </td><td>9                  </td><td>30                 </td><td>2147               </td><td>2137               </td><td> 10                </td><td>  30               </td><td>  27               </td><td>  3                </td><td>B6                 </td><td>1371               </td><td>N627JB             </td><td>LGA                </td><td>FLL                </td><td>139                </td><td>1076               </td><td>21                 </td><td>37                 </td><td>2013-09-30 21:00:00</td></tr>\n",
       "\t<tr><td>2013               </td><td>9                  </td><td>30                 </td><td>2149               </td><td>2156               </td><td> -7                </td><td>2245               </td><td>2308               </td><td>-23                </td><td>UA                 </td><td> 523               </td><td>N813UA             </td><td>EWR                </td><td>BOS                </td><td> 37                </td><td> 200               </td><td>21                 </td><td>56                 </td><td>2013-09-30 21:00:00</td></tr>\n",
       "\t<tr><td>2013               </td><td>9                  </td><td>30                 </td><td>2150               </td><td>2159               </td><td> -9                </td><td>2250               </td><td>2306               </td><td>-16                </td><td>EV                 </td><td>3842               </td><td>N10575             </td><td>EWR                </td><td>MHT                </td><td> 39                </td><td> 209               </td><td>21                 </td><td>59                 </td><td>2013-09-30 21:00:00</td></tr>\n",
       "\t<tr><td>2013               </td><td>9                  </td><td>30                 </td><td>2159               </td><td>1845               </td><td>194                </td><td>2344               </td><td>2030               </td><td>194                </td><td>9E                 </td><td>3320               </td><td>N906XJ             </td><td>JFK                </td><td>BUF                </td><td> 50                </td><td> 301               </td><td>18                 </td><td>45                 </td><td>2013-09-30 18:00:00</td></tr>\n",
       "\t<tr><td>2013               </td><td>9                  </td><td>30                 </td><td>2203               </td><td>2205               </td><td> -2                </td><td>2339               </td><td>2331               </td><td>  8                </td><td>EV                 </td><td>5311               </td><td>N722EV             </td><td>LGA                </td><td>BGR                </td><td> 61                </td><td> 378               </td><td>22                 </td><td> 5                 </td><td>2013-09-30 22:00:00</td></tr>\n",
       "\t<tr><td>2013               </td><td>9                  </td><td>30                 </td><td>2207               </td><td>2140               </td><td> 27                </td><td>2257               </td><td>2250               </td><td>  7                </td><td>MQ                 </td><td>3660               </td><td>N532MQ             </td><td>LGA                </td><td>BNA                </td><td> 97                </td><td> 764               </td><td>21                 </td><td>40                 </td><td>2013-09-30 21:00:00</td></tr>\n",
       "\t<tr><td>2013               </td><td>9                  </td><td>30                 </td><td>2211               </td><td>2059               </td><td> 72                </td><td>2339               </td><td>2242               </td><td> 57                </td><td>EV                 </td><td>4672               </td><td>N12145             </td><td>EWR                </td><td>STL                </td><td>120                </td><td> 872               </td><td>20                 </td><td>59                 </td><td>2013-09-30 20:00:00</td></tr>\n",
       "\t<tr><td>2013               </td><td>9                  </td><td>30                 </td><td>2231               </td><td>2245               </td><td>-14                </td><td>2335               </td><td>2356               </td><td>-21                </td><td>B6                 </td><td> 108               </td><td>N193JB             </td><td>JFK                </td><td>PWM                </td><td> 48                </td><td> 273               </td><td>22                 </td><td>45                 </td><td>2013-09-30 22:00:00</td></tr>\n",
       "\t<tr><td>2013               </td><td>9                  </td><td>30                 </td><td>2233               </td><td>2113               </td><td> 80                </td><td> 112               </td><td>  30               </td><td> 42                </td><td>UA                 </td><td> 471               </td><td>N578UA             </td><td>EWR                </td><td>SFO                </td><td>318                </td><td>2565               </td><td>21                 </td><td>13                 </td><td>2013-09-30 21:00:00</td></tr>\n",
       "\t<tr><td>2013               </td><td>9                  </td><td>30                 </td><td>2235               </td><td>2001               </td><td>154                </td><td>  59               </td><td>2249               </td><td>130                </td><td>B6                 </td><td>1083               </td><td>N804JB             </td><td>JFK                </td><td>MCO                </td><td>123                </td><td> 944               </td><td>20                 </td><td> 1                 </td><td>2013-09-30 20:00:00</td></tr>\n",
       "\t<tr><td>2013               </td><td>9                  </td><td>30                 </td><td>2237               </td><td>2245               </td><td> -8                </td><td>2345               </td><td>2353               </td><td> -8                </td><td>B6                 </td><td> 234               </td><td>N318JB             </td><td>JFK                </td><td>BTV                </td><td> 43                </td><td> 266               </td><td>22                 </td><td>45                 </td><td>2013-09-30 22:00:00</td></tr>\n",
       "\t<tr><td>2013               </td><td>9                  </td><td>30                 </td><td>2240               </td><td>2245               </td><td> -5                </td><td>2334               </td><td>2351               </td><td>-17                </td><td>B6                 </td><td>1816               </td><td>N354JB             </td><td>JFK                </td><td>SYR                </td><td> 41                </td><td> 209               </td><td>22                 </td><td>45                 </td><td>2013-09-30 22:00:00</td></tr>\n",
       "\t<tr><td>2013               </td><td>9                  </td><td>30                 </td><td>2240               </td><td>2250               </td><td>-10                </td><td>2347               </td><td>   7               </td><td>-20                </td><td>B6                 </td><td>2002               </td><td>N281JB             </td><td>JFK                </td><td>BUF                </td><td> 52                </td><td> 301               </td><td>22                 </td><td>50                 </td><td>2013-09-30 22:00:00</td></tr>\n",
       "\t<tr><td>2013               </td><td>9                  </td><td>30                 </td><td>2241               </td><td>2246               </td><td> -5                </td><td>2345               </td><td>   1               </td><td>-16                </td><td>B6                 </td><td> 486               </td><td>N346JB             </td><td>JFK                </td><td>ROC                </td><td> 47                </td><td> 264               </td><td>22                 </td><td>46                 </td><td>2013-09-30 22:00:00</td></tr>\n",
       "\t<tr><td>2013               </td><td>9                  </td><td>30                 </td><td>2307               </td><td>2255               </td><td> 12                </td><td>2359               </td><td>2358               </td><td>  1                </td><td>B6                 </td><td> 718               </td><td>N565JB             </td><td>JFK                </td><td>BOS                </td><td> 33                </td><td> 187               </td><td>22                 </td><td>55                 </td><td>2013-09-30 22:00:00</td></tr>\n",
       "\t<tr><td>2013               </td><td>9                  </td><td>30                 </td><td>2349               </td><td>2359               </td><td>-10                </td><td> 325               </td><td> 350               </td><td>-25                </td><td>B6                 </td><td> 745               </td><td>N516JB             </td><td>JFK                </td><td>PSE                </td><td>196                </td><td>1617               </td><td>23                 </td><td>59                 </td><td>2013-09-30 23:00:00</td></tr>\n",
       "\t<tr><td>2013               </td><td>9                  </td><td>30                 </td><td>  NA               </td><td>1842               </td><td> NA                </td><td>  NA               </td><td>2019               </td><td> NA                </td><td>EV                 </td><td>5274               </td><td>N740EV             </td><td>LGA                </td><td>BNA                </td><td> NA                </td><td> 764               </td><td>18                 </td><td>42                 </td><td>2013-09-30 18:00:00</td></tr>\n",
       "\t<tr><td>2013               </td><td>9                  </td><td>30                 </td><td>  NA               </td><td>1455               </td><td> NA                </td><td>  NA               </td><td>1634               </td><td> NA                </td><td>9E                 </td><td>3393               </td><td>NA                 </td><td>JFK                </td><td>DCA                </td><td> NA                </td><td> 213               </td><td>14                 </td><td>55                 </td><td>2013-09-30 14:00:00</td></tr>\n",
       "\t<tr><td>2013               </td><td>9                  </td><td>30                 </td><td>  NA               </td><td>2200               </td><td> NA                </td><td>  NA               </td><td>2312               </td><td> NA                </td><td>9E                 </td><td>3525               </td><td>NA                 </td><td>LGA                </td><td>SYR                </td><td> NA                </td><td> 198               </td><td>22                 </td><td> 0                 </td><td>2013-09-30 22:00:00</td></tr>\n",
       "\t<tr><td>2013               </td><td>9                  </td><td>30                 </td><td>  NA               </td><td>1210               </td><td> NA                </td><td>  NA               </td><td>1330               </td><td> NA                </td><td>MQ                 </td><td>3461               </td><td>N535MQ             </td><td>LGA                </td><td>BNA                </td><td> NA                </td><td> 764               </td><td>12                 </td><td>10                 </td><td>2013-09-30 12:00:00</td></tr>\n",
       "\t<tr><td>2013               </td><td>9                  </td><td>30                 </td><td>  NA               </td><td>1159               </td><td> NA                </td><td>  NA               </td><td>1344               </td><td> NA                </td><td>MQ                 </td><td>3572               </td><td>N511MQ             </td><td>LGA                </td><td>CLE                </td><td> NA                </td><td> 419               </td><td>11                 </td><td>59                 </td><td>2013-09-30 11:00:00</td></tr>\n",
       "\t<tr><td>2013               </td><td>9                  </td><td>30                 </td><td>  NA               </td><td> 840               </td><td> NA                </td><td>  NA               </td><td>1020               </td><td> NA                </td><td>MQ                 </td><td>3531               </td><td>N839MQ             </td><td>LGA                </td><td>RDU                </td><td> NA                </td><td> 431               </td><td> 8                 </td><td>40                 </td><td>2013-09-30 08:00:00</td></tr>\n",
       "</tbody>\n",
       "</table>\n"
      ],
      "text/latex": [
       "\\begin{tabular}{r|lllllllllllllllllll}\n",
       " year & month & day & dep\\_time & sched\\_dep\\_time & dep\\_delay & arr\\_time & sched\\_arr\\_time & arr\\_delay & carrier & flight & tailnum & origin & dest & air\\_time & distance & hour & minute & time\\_hour\\\\\n",
       "\\hline\n",
       "\t 2013                & 1                   & 1                   & 517                 & 515                 &  2                  &  830                &  819                &  11                 & UA                  & 1545                & N14228              & EWR                 & IAH                 & 227                 & 1400                & 5                   & 15                  & 2013-01-01 05:00:00\\\\\n",
       "\t 2013                & 1                   & 1                   & 533                 & 529                 &  4                  &  850                &  830                &  20                 & UA                  & 1714                & N24211              & LGA                 & IAH                 & 227                 & 1416                & 5                   & 29                  & 2013-01-01 05:00:00\\\\\n",
       "\t 2013                & 1                   & 1                   & 542                 & 540                 &  2                  &  923                &  850                &  33                 & AA                  & 1141                & N619AA              & JFK                 & MIA                 & 160                 & 1089                & 5                   & 40                  & 2013-01-01 05:00:00\\\\\n",
       "\t 2013                & 1                   & 1                   & 544                 & 545                 & -1                  & 1004                & 1022                & -18                 & B6                  &  725                & N804JB              & JFK                 & BQN                 & 183                 & 1576                & 5                   & 45                  & 2013-01-01 05:00:00\\\\\n",
       "\t 2013                & 1                   & 1                   & 554                 & 600                 & -6                  &  812                &  837                & -25                 & DL                  &  461                & N668DN              & LGA                 & ATL                 & 116                 &  762                & 6                   &  0                  & 2013-01-01 06:00:00\\\\\n",
       "\t 2013                & 1                   & 1                   & 554                 & 558                 & -4                  &  740                &  728                &  12                 & UA                  & 1696                & N39463              & EWR                 & ORD                 & 150                 &  719                & 5                   & 58                  & 2013-01-01 05:00:00\\\\\n",
       "\t 2013                & 1                   & 1                   & 555                 & 600                 & -5                  &  913                &  854                &  19                 & B6                  &  507                & N516JB              & EWR                 & FLL                 & 158                 & 1065                & 6                   &  0                  & 2013-01-01 06:00:00\\\\\n",
       "\t 2013                & 1                   & 1                   & 557                 & 600                 & -3                  &  709                &  723                & -14                 & EV                  & 5708                & N829AS              & LGA                 & IAD                 &  53                 &  229                & 6                   &  0                  & 2013-01-01 06:00:00\\\\\n",
       "\t 2013                & 1                   & 1                   & 557                 & 600                 & -3                  &  838                &  846                &  -8                 & B6                  &   79                & N593JB              & JFK                 & MCO                 & 140                 &  944                & 6                   &  0                  & 2013-01-01 06:00:00\\\\\n",
       "\t 2013                & 1                   & 1                   & 558                 & 600                 & -2                  &  753                &  745                &   8                 & AA                  &  301                & N3ALAA              & LGA                 & ORD                 & 138                 &  733                & 6                   &  0                  & 2013-01-01 06:00:00\\\\\n",
       "\t 2013                & 1                   & 1                   & 558                 & 600                 & -2                  &  849                &  851                &  -2                 & B6                  &   49                & N793JB              & JFK                 & PBI                 & 149                 & 1028                & 6                   &  0                  & 2013-01-01 06:00:00\\\\\n",
       "\t 2013                & 1                   & 1                   & 558                 & 600                 & -2                  &  853                &  856                &  -3                 & B6                  &   71                & N657JB              & JFK                 & TPA                 & 158                 & 1005                & 6                   &  0                  & 2013-01-01 06:00:00\\\\\n",
       "\t 2013                & 1                   & 1                   & 558                 & 600                 & -2                  &  924                &  917                &   7                 & UA                  &  194                & N29129              & JFK                 & LAX                 & 345                 & 2475                & 6                   &  0                  & 2013-01-01 06:00:00\\\\\n",
       "\t 2013                & 1                   & 1                   & 558                 & 600                 & -2                  &  923                &  937                & -14                 & UA                  & 1124                & N53441              & EWR                 & SFO                 & 361                 & 2565                & 6                   &  0                  & 2013-01-01 06:00:00\\\\\n",
       "\t 2013                & 1                   & 1                   & 559                 & 600                 & -1                  &  941                &  910                &  31                 & AA                  &  707                & N3DUAA              & LGA                 & DFW                 & 257                 & 1389                & 6                   &  0                  & 2013-01-01 06:00:00\\\\\n",
       "\t 2013                & 1                   & 1                   & 559                 & 559                 &  0                  &  702                &  706                &  -4                 & B6                  & 1806                & N708JB              & JFK                 & BOS                 &  44                 &  187                & 5                   & 59                  & 2013-01-01 05:00:00\\\\\n",
       "\t 2013                & 1                   & 1                   & 559                 & 600                 & -1                  &  854                &  902                &  -8                 & UA                  & 1187                & N76515              & EWR                 & LAS                 & 337                 & 2227                & 6                   &  0                  & 2013-01-01 06:00:00\\\\\n",
       "\t 2013                & 1                   & 1                   & 600                 & 600                 &  0                  &  851                &  858                &  -7                 & B6                  &  371                & N595JB              & LGA                 & FLL                 & 152                 & 1076                & 6                   &  0                  & 2013-01-01 06:00:00\\\\\n",
       "\t 2013                & 1                   & 1                   & 600                 & 600                 &  0                  &  837                &  825                &  12                 & MQ                  & 4650                & N542MQ              & LGA                 & ATL                 & 134                 &  762                & 6                   &  0                  & 2013-01-01 06:00:00\\\\\n",
       "\t 2013                & 1                   & 1                   & 601                 & 600                 &  1                  &  844                &  850                &  -6                 & B6                  &  343                & N644JB              & EWR                 & PBI                 & 147                 & 1023                & 6                   &  0                  & 2013-01-01 06:00:00\\\\\n",
       "\t 2013                & 1                   & 1                   & 602                 & 610                 & -8                  &  812                &  820                &  -8                 & DL                  & 1919                & N971DL              & LGA                 & MSP                 & 170                 & 1020                & 6                   & 10                  & 2013-01-01 06:00:00\\\\\n",
       "\t 2013                & 1                   & 1                   & 602                 & 605                 & -3                  &  821                &  805                &  16                 & MQ                  & 4401                & N730MQ              & LGA                 & DTW                 & 105                 &  502                & 6                   &  5                  & 2013-01-01 06:00:00\\\\\n",
       "\t 2013                & 1                   & 1                   & 606                 & 610                 & -4                  &  858                &  910                & -12                 & AA                  & 1895                & N633AA              & EWR                 & MIA                 & 152                 & 1085                & 6                   & 10                  & 2013-01-01 06:00:00\\\\\n",
       "\t 2013                & 1                   & 1                   & 606                 & 610                 & -4                  &  837                &  845                &  -8                 & DL                  & 1743                & N3739P              & JFK                 & ATL                 & 128                 &  760                & 6                   & 10                  & 2013-01-01 06:00:00\\\\\n",
       "\t 2013                & 1                   & 1                   & 607                 & 607                 &  0                  &  858                &  915                & -17                 & UA                  & 1077                & N53442              & EWR                 & MIA                 & 157                 & 1085                & 6                   &  7                  & 2013-01-01 06:00:00\\\\\n",
       "\t 2013                & 1                   & 1                   & 608                 & 600                 &  8                  &  807                &  735                &  32                 & MQ                  & 3768                & N9EAMQ              & EWR                 & ORD                 & 139                 &  719                & 6                   &  0                  & 2013-01-01 06:00:00\\\\\n",
       "\t 2013                & 1                   & 1                   & 611                 & 600                 & 11                  &  945                &  931                &  14                 & UA                  &  303                & N532UA              & JFK                 & SFO                 & 366                 & 2586                & 6                   &  0                  & 2013-01-01 06:00:00\\\\\n",
       "\t 2013                & 1                   & 1                   & 613                 & 610                 &  3                  &  925                &  921                &   4                 & B6                  &  135                & N635JB              & JFK                 & RSW                 & 175                 & 1074                & 6                   & 10                  & 2013-01-01 06:00:00\\\\\n",
       "\t 2013                & 1                   & 1                   & 615                 & 615                 &  0                  & 1039                & 1100                & -21                 & B6                  &  709                & N794JB              & JFK                 & SJU                 & 182                 & 1598                & 6                   & 15                  & 2013-01-01 06:00:00\\\\\n",
       "\t 2013                & 1                   & 1                   & 615                 & 615                 &  0                  &  833                &  842                &  -9                 & DL                  &  575                & N326NB              & EWR                 & ATL                 & 120                 &  746                & 6                   & 15                  & 2013-01-01 06:00:00\\\\\n",
       "\t ⋮ & ⋮ & ⋮ & ⋮ & ⋮ & ⋮ & ⋮ & ⋮ & ⋮ & ⋮ & ⋮ & ⋮ & ⋮ & ⋮ & ⋮ & ⋮ & ⋮ & ⋮ & ⋮\\\\\n",
       "\t 2013                & 9                   & 30                  & 2123                & 2125                &  -2                 & 2223                & 2247                & -24                 & EV                  & 5489                & N712EV              & LGA                 & CHO                 &  45                 &  305                & 21                  & 25                  & 2013-09-30 21:00:00\\\\\n",
       "\t 2013                & 9                   & 30                  & 2127                & 2129                &  -2                 & 2314                & 2323                &  -9                 & EV                  & 3833                & N16546              & EWR                 & CLT                 &  72                 &  529                & 21                  & 29                  & 2013-09-30 21:00:00\\\\\n",
       "\t 2013                & 9                   & 30                  & 2128                & 2130                &  -2                 & 2328                & 2359                & -31                 & B6                  &   97                & N807JB              & JFK                 & DEN                 & 213                 & 1626                & 21                  & 30                  & 2013-09-30 21:00:00\\\\\n",
       "\t 2013                & 9                   & 30                  & 2129                & 2059                &  30                 & 2230                & 2232                &  -2                 & EV                  & 5048                & N751EV              & LGA                 & RIC                 &  45                 &  292                & 20                  & 59                  & 2013-09-30 20:00:00\\\\\n",
       "\t 2013                & 9                   & 30                  & 2131                & 2140                &  -9                 & 2225                & 2255                & -30                 & MQ                  & 3621                & N807MQ              & JFK                 & DCA                 &  36                 &  213                & 21                  & 40                  & 2013-09-30 21:00:00\\\\\n",
       "\t 2013                & 9                   & 30                  & 2140                & 2140                &   0                 &   10                &   40                & -30                 & AA                  &  185                & N335AA              & JFK                 & LAX                 & 298                 & 2475                & 21                  & 40                  & 2013-09-30 21:00:00\\\\\n",
       "\t 2013                & 9                   & 30                  & 2142                & 2129                &  13                 & 2250                & 2239                &  11                 & EV                  & 4509                & N12957              & EWR                 & PWM                 &  47                 &  284                & 21                  & 29                  & 2013-09-30 21:00:00\\\\\n",
       "\t 2013                & 9                   & 30                  & 2145                & 2145                &   0                 &  115                &  140                & -25                 & B6                  & 1103                & N633JB              & JFK                 & SJU                 & 192                 & 1598                & 21                  & 45                  & 2013-09-30 21:00:00\\\\\n",
       "\t 2013                & 9                   & 30                  & 2147                & 2137                &  10                 &   30                &   27                &   3                 & B6                  & 1371                & N627JB              & LGA                 & FLL                 & 139                 & 1076                & 21                  & 37                  & 2013-09-30 21:00:00\\\\\n",
       "\t 2013                & 9                   & 30                  & 2149                & 2156                &  -7                 & 2245                & 2308                & -23                 & UA                  &  523                & N813UA              & EWR                 & BOS                 &  37                 &  200                & 21                  & 56                  & 2013-09-30 21:00:00\\\\\n",
       "\t 2013                & 9                   & 30                  & 2150                & 2159                &  -9                 & 2250                & 2306                & -16                 & EV                  & 3842                & N10575              & EWR                 & MHT                 &  39                 &  209                & 21                  & 59                  & 2013-09-30 21:00:00\\\\\n",
       "\t 2013                & 9                   & 30                  & 2159                & 1845                & 194                 & 2344                & 2030                & 194                 & 9E                  & 3320                & N906XJ              & JFK                 & BUF                 &  50                 &  301                & 18                  & 45                  & 2013-09-30 18:00:00\\\\\n",
       "\t 2013                & 9                   & 30                  & 2203                & 2205                &  -2                 & 2339                & 2331                &   8                 & EV                  & 5311                & N722EV              & LGA                 & BGR                 &  61                 &  378                & 22                  &  5                  & 2013-09-30 22:00:00\\\\\n",
       "\t 2013                & 9                   & 30                  & 2207                & 2140                &  27                 & 2257                & 2250                &   7                 & MQ                  & 3660                & N532MQ              & LGA                 & BNA                 &  97                 &  764                & 21                  & 40                  & 2013-09-30 21:00:00\\\\\n",
       "\t 2013                & 9                   & 30                  & 2211                & 2059                &  72                 & 2339                & 2242                &  57                 & EV                  & 4672                & N12145              & EWR                 & STL                 & 120                 &  872                & 20                  & 59                  & 2013-09-30 20:00:00\\\\\n",
       "\t 2013                & 9                   & 30                  & 2231                & 2245                & -14                 & 2335                & 2356                & -21                 & B6                  &  108                & N193JB              & JFK                 & PWM                 &  48                 &  273                & 22                  & 45                  & 2013-09-30 22:00:00\\\\\n",
       "\t 2013                & 9                   & 30                  & 2233                & 2113                &  80                 &  112                &   30                &  42                 & UA                  &  471                & N578UA              & EWR                 & SFO                 & 318                 & 2565                & 21                  & 13                  & 2013-09-30 21:00:00\\\\\n",
       "\t 2013                & 9                   & 30                  & 2235                & 2001                & 154                 &   59                & 2249                & 130                 & B6                  & 1083                & N804JB              & JFK                 & MCO                 & 123                 &  944                & 20                  &  1                  & 2013-09-30 20:00:00\\\\\n",
       "\t 2013                & 9                   & 30                  & 2237                & 2245                &  -8                 & 2345                & 2353                &  -8                 & B6                  &  234                & N318JB              & JFK                 & BTV                 &  43                 &  266                & 22                  & 45                  & 2013-09-30 22:00:00\\\\\n",
       "\t 2013                & 9                   & 30                  & 2240                & 2245                &  -5                 & 2334                & 2351                & -17                 & B6                  & 1816                & N354JB              & JFK                 & SYR                 &  41                 &  209                & 22                  & 45                  & 2013-09-30 22:00:00\\\\\n",
       "\t 2013                & 9                   & 30                  & 2240                & 2250                & -10                 & 2347                &    7                & -20                 & B6                  & 2002                & N281JB              & JFK                 & BUF                 &  52                 &  301                & 22                  & 50                  & 2013-09-30 22:00:00\\\\\n",
       "\t 2013                & 9                   & 30                  & 2241                & 2246                &  -5                 & 2345                &    1                & -16                 & B6                  &  486                & N346JB              & JFK                 & ROC                 &  47                 &  264                & 22                  & 46                  & 2013-09-30 22:00:00\\\\\n",
       "\t 2013                & 9                   & 30                  & 2307                & 2255                &  12                 & 2359                & 2358                &   1                 & B6                  &  718                & N565JB              & JFK                 & BOS                 &  33                 &  187                & 22                  & 55                  & 2013-09-30 22:00:00\\\\\n",
       "\t 2013                & 9                   & 30                  & 2349                & 2359                & -10                 &  325                &  350                & -25                 & B6                  &  745                & N516JB              & JFK                 & PSE                 & 196                 & 1617                & 23                  & 59                  & 2013-09-30 23:00:00\\\\\n",
       "\t 2013                & 9                   & 30                  &   NA                & 1842                &  NA                 &   NA                & 2019                &  NA                 & EV                  & 5274                & N740EV              & LGA                 & BNA                 &  NA                 &  764                & 18                  & 42                  & 2013-09-30 18:00:00\\\\\n",
       "\t 2013                & 9                   & 30                  &   NA                & 1455                &  NA                 &   NA                & 1634                &  NA                 & 9E                  & 3393                & NA                  & JFK                 & DCA                 &  NA                 &  213                & 14                  & 55                  & 2013-09-30 14:00:00\\\\\n",
       "\t 2013                & 9                   & 30                  &   NA                & 2200                &  NA                 &   NA                & 2312                &  NA                 & 9E                  & 3525                & NA                  & LGA                 & SYR                 &  NA                 &  198                & 22                  &  0                  & 2013-09-30 22:00:00\\\\\n",
       "\t 2013                & 9                   & 30                  &   NA                & 1210                &  NA                 &   NA                & 1330                &  NA                 & MQ                  & 3461                & N535MQ              & LGA                 & BNA                 &  NA                 &  764                & 12                  & 10                  & 2013-09-30 12:00:00\\\\\n",
       "\t 2013                & 9                   & 30                  &   NA                & 1159                &  NA                 &   NA                & 1344                &  NA                 & MQ                  & 3572                & N511MQ              & LGA                 & CLE                 &  NA                 &  419                & 11                  & 59                  & 2013-09-30 11:00:00\\\\\n",
       "\t 2013                & 9                   & 30                  &   NA                &  840                &  NA                 &   NA                & 1020                &  NA                 & MQ                  & 3531                & N839MQ              & LGA                 & RDU                 &  NA                 &  431                &  8                  & 40                  & 2013-09-30 08:00:00\\\\\n",
       "\\end{tabular}\n"
      ],
      "text/markdown": [
       "\n",
       "year | month | day | dep_time | sched_dep_time | dep_delay | arr_time | sched_arr_time | arr_delay | carrier | flight | tailnum | origin | dest | air_time | distance | hour | minute | time_hour | \n",
       "|---|---|---|---|---|---|---|---|---|---|---|---|---|---|---|---|---|---|---|---|---|---|---|---|---|---|---|---|---|---|---|---|---|---|---|---|---|---|---|---|---|---|---|---|---|---|---|---|---|---|---|---|---|---|---|---|---|---|---|---|---|\n",
       "| 2013                | 1                   | 1                   | 517                 | 515                 |  2                  |  830                |  819                |  11                 | UA                  | 1545                | N14228              | EWR                 | IAH                 | 227                 | 1400                | 5                   | 15                  | 2013-01-01 05:00:00 | \n",
       "| 2013                | 1                   | 1                   | 533                 | 529                 |  4                  |  850                |  830                |  20                 | UA                  | 1714                | N24211              | LGA                 | IAH                 | 227                 | 1416                | 5                   | 29                  | 2013-01-01 05:00:00 | \n",
       "| 2013                | 1                   | 1                   | 542                 | 540                 |  2                  |  923                |  850                |  33                 | AA                  | 1141                | N619AA              | JFK                 | MIA                 | 160                 | 1089                | 5                   | 40                  | 2013-01-01 05:00:00 | \n",
       "| 2013                | 1                   | 1                   | 544                 | 545                 | -1                  | 1004                | 1022                | -18                 | B6                  |  725                | N804JB              | JFK                 | BQN                 | 183                 | 1576                | 5                   | 45                  | 2013-01-01 05:00:00 | \n",
       "| 2013                | 1                   | 1                   | 554                 | 600                 | -6                  |  812                |  837                | -25                 | DL                  |  461                | N668DN              | LGA                 | ATL                 | 116                 |  762                | 6                   |  0                  | 2013-01-01 06:00:00 | \n",
       "| 2013                | 1                   | 1                   | 554                 | 558                 | -4                  |  740                |  728                |  12                 | UA                  | 1696                | N39463              | EWR                 | ORD                 | 150                 |  719                | 5                   | 58                  | 2013-01-01 05:00:00 | \n",
       "| 2013                | 1                   | 1                   | 555                 | 600                 | -5                  |  913                |  854                |  19                 | B6                  |  507                | N516JB              | EWR                 | FLL                 | 158                 | 1065                | 6                   |  0                  | 2013-01-01 06:00:00 | \n",
       "| 2013                | 1                   | 1                   | 557                 | 600                 | -3                  |  709                |  723                | -14                 | EV                  | 5708                | N829AS              | LGA                 | IAD                 |  53                 |  229                | 6                   |  0                  | 2013-01-01 06:00:00 | \n",
       "| 2013                | 1                   | 1                   | 557                 | 600                 | -3                  |  838                |  846                |  -8                 | B6                  |   79                | N593JB              | JFK                 | MCO                 | 140                 |  944                | 6                   |  0                  | 2013-01-01 06:00:00 | \n",
       "| 2013                | 1                   | 1                   | 558                 | 600                 | -2                  |  753                |  745                |   8                 | AA                  |  301                | N3ALAA              | LGA                 | ORD                 | 138                 |  733                | 6                   |  0                  | 2013-01-01 06:00:00 | \n",
       "| 2013                | 1                   | 1                   | 558                 | 600                 | -2                  |  849                |  851                |  -2                 | B6                  |   49                | N793JB              | JFK                 | PBI                 | 149                 | 1028                | 6                   |  0                  | 2013-01-01 06:00:00 | \n",
       "| 2013                | 1                   | 1                   | 558                 | 600                 | -2                  |  853                |  856                |  -3                 | B6                  |   71                | N657JB              | JFK                 | TPA                 | 158                 | 1005                | 6                   |  0                  | 2013-01-01 06:00:00 | \n",
       "| 2013                | 1                   | 1                   | 558                 | 600                 | -2                  |  924                |  917                |   7                 | UA                  |  194                | N29129              | JFK                 | LAX                 | 345                 | 2475                | 6                   |  0                  | 2013-01-01 06:00:00 | \n",
       "| 2013                | 1                   | 1                   | 558                 | 600                 | -2                  |  923                |  937                | -14                 | UA                  | 1124                | N53441              | EWR                 | SFO                 | 361                 | 2565                | 6                   |  0                  | 2013-01-01 06:00:00 | \n",
       "| 2013                | 1                   | 1                   | 559                 | 600                 | -1                  |  941                |  910                |  31                 | AA                  |  707                | N3DUAA              | LGA                 | DFW                 | 257                 | 1389                | 6                   |  0                  | 2013-01-01 06:00:00 | \n",
       "| 2013                | 1                   | 1                   | 559                 | 559                 |  0                  |  702                |  706                |  -4                 | B6                  | 1806                | N708JB              | JFK                 | BOS                 |  44                 |  187                | 5                   | 59                  | 2013-01-01 05:00:00 | \n",
       "| 2013                | 1                   | 1                   | 559                 | 600                 | -1                  |  854                |  902                |  -8                 | UA                  | 1187                | N76515              | EWR                 | LAS                 | 337                 | 2227                | 6                   |  0                  | 2013-01-01 06:00:00 | \n",
       "| 2013                | 1                   | 1                   | 600                 | 600                 |  0                  |  851                |  858                |  -7                 | B6                  |  371                | N595JB              | LGA                 | FLL                 | 152                 | 1076                | 6                   |  0                  | 2013-01-01 06:00:00 | \n",
       "| 2013                | 1                   | 1                   | 600                 | 600                 |  0                  |  837                |  825                |  12                 | MQ                  | 4650                | N542MQ              | LGA                 | ATL                 | 134                 |  762                | 6                   |  0                  | 2013-01-01 06:00:00 | \n",
       "| 2013                | 1                   | 1                   | 601                 | 600                 |  1                  |  844                |  850                |  -6                 | B6                  |  343                | N644JB              | EWR                 | PBI                 | 147                 | 1023                | 6                   |  0                  | 2013-01-01 06:00:00 | \n",
       "| 2013                | 1                   | 1                   | 602                 | 610                 | -8                  |  812                |  820                |  -8                 | DL                  | 1919                | N971DL              | LGA                 | MSP                 | 170                 | 1020                | 6                   | 10                  | 2013-01-01 06:00:00 | \n",
       "| 2013                | 1                   | 1                   | 602                 | 605                 | -3                  |  821                |  805                |  16                 | MQ                  | 4401                | N730MQ              | LGA                 | DTW                 | 105                 |  502                | 6                   |  5                  | 2013-01-01 06:00:00 | \n",
       "| 2013                | 1                   | 1                   | 606                 | 610                 | -4                  |  858                |  910                | -12                 | AA                  | 1895                | N633AA              | EWR                 | MIA                 | 152                 | 1085                | 6                   | 10                  | 2013-01-01 06:00:00 | \n",
       "| 2013                | 1                   | 1                   | 606                 | 610                 | -4                  |  837                |  845                |  -8                 | DL                  | 1743                | N3739P              | JFK                 | ATL                 | 128                 |  760                | 6                   | 10                  | 2013-01-01 06:00:00 | \n",
       "| 2013                | 1                   | 1                   | 607                 | 607                 |  0                  |  858                |  915                | -17                 | UA                  | 1077                | N53442              | EWR                 | MIA                 | 157                 | 1085                | 6                   |  7                  | 2013-01-01 06:00:00 | \n",
       "| 2013                | 1                   | 1                   | 608                 | 600                 |  8                  |  807                |  735                |  32                 | MQ                  | 3768                | N9EAMQ              | EWR                 | ORD                 | 139                 |  719                | 6                   |  0                  | 2013-01-01 06:00:00 | \n",
       "| 2013                | 1                   | 1                   | 611                 | 600                 | 11                  |  945                |  931                |  14                 | UA                  |  303                | N532UA              | JFK                 | SFO                 | 366                 | 2586                | 6                   |  0                  | 2013-01-01 06:00:00 | \n",
       "| 2013                | 1                   | 1                   | 613                 | 610                 |  3                  |  925                |  921                |   4                 | B6                  |  135                | N635JB              | JFK                 | RSW                 | 175                 | 1074                | 6                   | 10                  | 2013-01-01 06:00:00 | \n",
       "| 2013                | 1                   | 1                   | 615                 | 615                 |  0                  | 1039                | 1100                | -21                 | B6                  |  709                | N794JB              | JFK                 | SJU                 | 182                 | 1598                | 6                   | 15                  | 2013-01-01 06:00:00 | \n",
       "| 2013                | 1                   | 1                   | 615                 | 615                 |  0                  |  833                |  842                |  -9                 | DL                  |  575                | N326NB              | EWR                 | ATL                 | 120                 |  746                | 6                   | 15                  | 2013-01-01 06:00:00 | \n",
       "| ⋮ | ⋮ | ⋮ | ⋮ | ⋮ | ⋮ | ⋮ | ⋮ | ⋮ | ⋮ | ⋮ | ⋮ | ⋮ | ⋮ | ⋮ | ⋮ | ⋮ | ⋮ | ⋮ | \n",
       "| 2013                | 9                   | 30                  | 2123                | 2125                |  -2                 | 2223                | 2247                | -24                 | EV                  | 5489                | N712EV              | LGA                 | CHO                 |  45                 |  305                | 21                  | 25                  | 2013-09-30 21:00:00 | \n",
       "| 2013                | 9                   | 30                  | 2127                | 2129                |  -2                 | 2314                | 2323                |  -9                 | EV                  | 3833                | N16546              | EWR                 | CLT                 |  72                 |  529                | 21                  | 29                  | 2013-09-30 21:00:00 | \n",
       "| 2013                | 9                   | 30                  | 2128                | 2130                |  -2                 | 2328                | 2359                | -31                 | B6                  |   97                | N807JB              | JFK                 | DEN                 | 213                 | 1626                | 21                  | 30                  | 2013-09-30 21:00:00 | \n",
       "| 2013                | 9                   | 30                  | 2129                | 2059                |  30                 | 2230                | 2232                |  -2                 | EV                  | 5048                | N751EV              | LGA                 | RIC                 |  45                 |  292                | 20                  | 59                  | 2013-09-30 20:00:00 | \n",
       "| 2013                | 9                   | 30                  | 2131                | 2140                |  -9                 | 2225                | 2255                | -30                 | MQ                  | 3621                | N807MQ              | JFK                 | DCA                 |  36                 |  213                | 21                  | 40                  | 2013-09-30 21:00:00 | \n",
       "| 2013                | 9                   | 30                  | 2140                | 2140                |   0                 |   10                |   40                | -30                 | AA                  |  185                | N335AA              | JFK                 | LAX                 | 298                 | 2475                | 21                  | 40                  | 2013-09-30 21:00:00 | \n",
       "| 2013                | 9                   | 30                  | 2142                | 2129                |  13                 | 2250                | 2239                |  11                 | EV                  | 4509                | N12957              | EWR                 | PWM                 |  47                 |  284                | 21                  | 29                  | 2013-09-30 21:00:00 | \n",
       "| 2013                | 9                   | 30                  | 2145                | 2145                |   0                 |  115                |  140                | -25                 | B6                  | 1103                | N633JB              | JFK                 | SJU                 | 192                 | 1598                | 21                  | 45                  | 2013-09-30 21:00:00 | \n",
       "| 2013                | 9                   | 30                  | 2147                | 2137                |  10                 |   30                |   27                |   3                 | B6                  | 1371                | N627JB              | LGA                 | FLL                 | 139                 | 1076                | 21                  | 37                  | 2013-09-30 21:00:00 | \n",
       "| 2013                | 9                   | 30                  | 2149                | 2156                |  -7                 | 2245                | 2308                | -23                 | UA                  |  523                | N813UA              | EWR                 | BOS                 |  37                 |  200                | 21                  | 56                  | 2013-09-30 21:00:00 | \n",
       "| 2013                | 9                   | 30                  | 2150                | 2159                |  -9                 | 2250                | 2306                | -16                 | EV                  | 3842                | N10575              | EWR                 | MHT                 |  39                 |  209                | 21                  | 59                  | 2013-09-30 21:00:00 | \n",
       "| 2013                | 9                   | 30                  | 2159                | 1845                | 194                 | 2344                | 2030                | 194                 | 9E                  | 3320                | N906XJ              | JFK                 | BUF                 |  50                 |  301                | 18                  | 45                  | 2013-09-30 18:00:00 | \n",
       "| 2013                | 9                   | 30                  | 2203                | 2205                |  -2                 | 2339                | 2331                |   8                 | EV                  | 5311                | N722EV              | LGA                 | BGR                 |  61                 |  378                | 22                  |  5                  | 2013-09-30 22:00:00 | \n",
       "| 2013                | 9                   | 30                  | 2207                | 2140                |  27                 | 2257                | 2250                |   7                 | MQ                  | 3660                | N532MQ              | LGA                 | BNA                 |  97                 |  764                | 21                  | 40                  | 2013-09-30 21:00:00 | \n",
       "| 2013                | 9                   | 30                  | 2211                | 2059                |  72                 | 2339                | 2242                |  57                 | EV                  | 4672                | N12145              | EWR                 | STL                 | 120                 |  872                | 20                  | 59                  | 2013-09-30 20:00:00 | \n",
       "| 2013                | 9                   | 30                  | 2231                | 2245                | -14                 | 2335                | 2356                | -21                 | B6                  |  108                | N193JB              | JFK                 | PWM                 |  48                 |  273                | 22                  | 45                  | 2013-09-30 22:00:00 | \n",
       "| 2013                | 9                   | 30                  | 2233                | 2113                |  80                 |  112                |   30                |  42                 | UA                  |  471                | N578UA              | EWR                 | SFO                 | 318                 | 2565                | 21                  | 13                  | 2013-09-30 21:00:00 | \n",
       "| 2013                | 9                   | 30                  | 2235                | 2001                | 154                 |   59                | 2249                | 130                 | B6                  | 1083                | N804JB              | JFK                 | MCO                 | 123                 |  944                | 20                  |  1                  | 2013-09-30 20:00:00 | \n",
       "| 2013                | 9                   | 30                  | 2237                | 2245                |  -8                 | 2345                | 2353                |  -8                 | B6                  |  234                | N318JB              | JFK                 | BTV                 |  43                 |  266                | 22                  | 45                  | 2013-09-30 22:00:00 | \n",
       "| 2013                | 9                   | 30                  | 2240                | 2245                |  -5                 | 2334                | 2351                | -17                 | B6                  | 1816                | N354JB              | JFK                 | SYR                 |  41                 |  209                | 22                  | 45                  | 2013-09-30 22:00:00 | \n",
       "| 2013                | 9                   | 30                  | 2240                | 2250                | -10                 | 2347                |    7                | -20                 | B6                  | 2002                | N281JB              | JFK                 | BUF                 |  52                 |  301                | 22                  | 50                  | 2013-09-30 22:00:00 | \n",
       "| 2013                | 9                   | 30                  | 2241                | 2246                |  -5                 | 2345                |    1                | -16                 | B6                  |  486                | N346JB              | JFK                 | ROC                 |  47                 |  264                | 22                  | 46                  | 2013-09-30 22:00:00 | \n",
       "| 2013                | 9                   | 30                  | 2307                | 2255                |  12                 | 2359                | 2358                |   1                 | B6                  |  718                | N565JB              | JFK                 | BOS                 |  33                 |  187                | 22                  | 55                  | 2013-09-30 22:00:00 | \n",
       "| 2013                | 9                   | 30                  | 2349                | 2359                | -10                 |  325                |  350                | -25                 | B6                  |  745                | N516JB              | JFK                 | PSE                 | 196                 | 1617                | 23                  | 59                  | 2013-09-30 23:00:00 | \n",
       "| 2013                | 9                   | 30                  |   NA                | 1842                |  NA                 |   NA                | 2019                |  NA                 | EV                  | 5274                | N740EV              | LGA                 | BNA                 |  NA                 |  764                | 18                  | 42                  | 2013-09-30 18:00:00 | \n",
       "| 2013                | 9                   | 30                  |   NA                | 1455                |  NA                 |   NA                | 1634                |  NA                 | 9E                  | 3393                | NA                  | JFK                 | DCA                 |  NA                 |  213                | 14                  | 55                  | 2013-09-30 14:00:00 | \n",
       "| 2013                | 9                   | 30                  |   NA                | 2200                |  NA                 |   NA                | 2312                |  NA                 | 9E                  | 3525                | NA                  | LGA                 | SYR                 |  NA                 |  198                | 22                  |  0                  | 2013-09-30 22:00:00 | \n",
       "| 2013                | 9                   | 30                  |   NA                | 1210                |  NA                 |   NA                | 1330                |  NA                 | MQ                  | 3461                | N535MQ              | LGA                 | BNA                 |  NA                 |  764                | 12                  | 10                  | 2013-09-30 12:00:00 | \n",
       "| 2013                | 9                   | 30                  |   NA                | 1159                |  NA                 |   NA                | 1344                |  NA                 | MQ                  | 3572                | N511MQ              | LGA                 | CLE                 |  NA                 |  419                | 11                  | 59                  | 2013-09-30 11:00:00 | \n",
       "| 2013                | 9                   | 30                  |   NA                |  840                |  NA                 |   NA                | 1020                |  NA                 | MQ                  | 3531                | N839MQ              | LGA                 | RDU                 |  NA                 |  431                |  8                  | 40                  | 2013-09-30 08:00:00 | \n",
       "\n",
       "\n"
      ],
      "text/plain": [
       "       year month day dep_time sched_dep_time dep_delay arr_time sched_arr_time\n",
       "1      2013 1     1   517      515             2         830      819          \n",
       "2      2013 1     1   533      529             4         850      830          \n",
       "3      2013 1     1   542      540             2         923      850          \n",
       "4      2013 1     1   544      545            -1        1004     1022          \n",
       "5      2013 1     1   554      600            -6         812      837          \n",
       "6      2013 1     1   554      558            -4         740      728          \n",
       "7      2013 1     1   555      600            -5         913      854          \n",
       "8      2013 1     1   557      600            -3         709      723          \n",
       "9      2013 1     1   557      600            -3         838      846          \n",
       "10     2013 1     1   558      600            -2         753      745          \n",
       "11     2013 1     1   558      600            -2         849      851          \n",
       "12     2013 1     1   558      600            -2         853      856          \n",
       "13     2013 1     1   558      600            -2         924      917          \n",
       "14     2013 1     1   558      600            -2         923      937          \n",
       "15     2013 1     1   559      600            -1         941      910          \n",
       "16     2013 1     1   559      559             0         702      706          \n",
       "17     2013 1     1   559      600            -1         854      902          \n",
       "18     2013 1     1   600      600             0         851      858          \n",
       "19     2013 1     1   600      600             0         837      825          \n",
       "20     2013 1     1   601      600             1         844      850          \n",
       "21     2013 1     1   602      610            -8         812      820          \n",
       "22     2013 1     1   602      605            -3         821      805          \n",
       "23     2013 1     1   606      610            -4         858      910          \n",
       "24     2013 1     1   606      610            -4         837      845          \n",
       "25     2013 1     1   607      607             0         858      915          \n",
       "26     2013 1     1   608      600             8         807      735          \n",
       "27     2013 1     1   611      600            11         945      931          \n",
       "28     2013 1     1   613      610             3         925      921          \n",
       "29     2013 1     1   615      615             0        1039     1100          \n",
       "30     2013 1     1   615      615             0         833      842          \n",
       "⋮      ⋮    ⋮     ⋮   ⋮        ⋮              ⋮         ⋮        ⋮             \n",
       "336747 2013 9     30  2123     2125            -2       2223     2247          \n",
       "336748 2013 9     30  2127     2129            -2       2314     2323          \n",
       "336749 2013 9     30  2128     2130            -2       2328     2359          \n",
       "336750 2013 9     30  2129     2059            30       2230     2232          \n",
       "336751 2013 9     30  2131     2140            -9       2225     2255          \n",
       "336752 2013 9     30  2140     2140             0         10       40          \n",
       "336753 2013 9     30  2142     2129            13       2250     2239          \n",
       "336754 2013 9     30  2145     2145             0        115      140          \n",
       "336755 2013 9     30  2147     2137            10         30       27          \n",
       "336756 2013 9     30  2149     2156            -7       2245     2308          \n",
       "336757 2013 9     30  2150     2159            -9       2250     2306          \n",
       "336758 2013 9     30  2159     1845           194       2344     2030          \n",
       "336759 2013 9     30  2203     2205            -2       2339     2331          \n",
       "336760 2013 9     30  2207     2140            27       2257     2250          \n",
       "336761 2013 9     30  2211     2059            72       2339     2242          \n",
       "336762 2013 9     30  2231     2245           -14       2335     2356          \n",
       "336763 2013 9     30  2233     2113            80        112       30          \n",
       "336764 2013 9     30  2235     2001           154         59     2249          \n",
       "336765 2013 9     30  2237     2245            -8       2345     2353          \n",
       "336766 2013 9     30  2240     2245            -5       2334     2351          \n",
       "336767 2013 9     30  2240     2250           -10       2347        7          \n",
       "336768 2013 9     30  2241     2246            -5       2345        1          \n",
       "336769 2013 9     30  2307     2255            12       2359     2358          \n",
       "336770 2013 9     30  2349     2359           -10        325      350          \n",
       "336771 2013 9     30    NA     1842            NA         NA     2019          \n",
       "336772 2013 9     30    NA     1455            NA         NA     1634          \n",
       "336773 2013 9     30    NA     2200            NA         NA     2312          \n",
       "336774 2013 9     30    NA     1210            NA         NA     1330          \n",
       "336775 2013 9     30    NA     1159            NA         NA     1344          \n",
       "336776 2013 9     30    NA      840            NA         NA     1020          \n",
       "       arr_delay carrier flight tailnum origin dest air_time distance hour\n",
       "1       11       UA      1545   N14228  EWR    IAH  227      1400     5   \n",
       "2       20       UA      1714   N24211  LGA    IAH  227      1416     5   \n",
       "3       33       AA      1141   N619AA  JFK    MIA  160      1089     5   \n",
       "4      -18       B6       725   N804JB  JFK    BQN  183      1576     5   \n",
       "5      -25       DL       461   N668DN  LGA    ATL  116       762     6   \n",
       "6       12       UA      1696   N39463  EWR    ORD  150       719     5   \n",
       "7       19       B6       507   N516JB  EWR    FLL  158      1065     6   \n",
       "8      -14       EV      5708   N829AS  LGA    IAD   53       229     6   \n",
       "9       -8       B6        79   N593JB  JFK    MCO  140       944     6   \n",
       "10       8       AA       301   N3ALAA  LGA    ORD  138       733     6   \n",
       "11      -2       B6        49   N793JB  JFK    PBI  149      1028     6   \n",
       "12      -3       B6        71   N657JB  JFK    TPA  158      1005     6   \n",
       "13       7       UA       194   N29129  JFK    LAX  345      2475     6   \n",
       "14     -14       UA      1124   N53441  EWR    SFO  361      2565     6   \n",
       "15      31       AA       707   N3DUAA  LGA    DFW  257      1389     6   \n",
       "16      -4       B6      1806   N708JB  JFK    BOS   44       187     5   \n",
       "17      -8       UA      1187   N76515  EWR    LAS  337      2227     6   \n",
       "18      -7       B6       371   N595JB  LGA    FLL  152      1076     6   \n",
       "19      12       MQ      4650   N542MQ  LGA    ATL  134       762     6   \n",
       "20      -6       B6       343   N644JB  EWR    PBI  147      1023     6   \n",
       "21      -8       DL      1919   N971DL  LGA    MSP  170      1020     6   \n",
       "22      16       MQ      4401   N730MQ  LGA    DTW  105       502     6   \n",
       "23     -12       AA      1895   N633AA  EWR    MIA  152      1085     6   \n",
       "24      -8       DL      1743   N3739P  JFK    ATL  128       760     6   \n",
       "25     -17       UA      1077   N53442  EWR    MIA  157      1085     6   \n",
       "26      32       MQ      3768   N9EAMQ  EWR    ORD  139       719     6   \n",
       "27      14       UA       303   N532UA  JFK    SFO  366      2586     6   \n",
       "28       4       B6       135   N635JB  JFK    RSW  175      1074     6   \n",
       "29     -21       B6       709   N794JB  JFK    SJU  182      1598     6   \n",
       "30      -9       DL       575   N326NB  EWR    ATL  120       746     6   \n",
       "⋮      ⋮         ⋮       ⋮      ⋮       ⋮      ⋮    ⋮        ⋮        ⋮   \n",
       "336747 -24       EV      5489   N712EV  LGA    CHO   45       305     21  \n",
       "336748  -9       EV      3833   N16546  EWR    CLT   72       529     21  \n",
       "336749 -31       B6        97   N807JB  JFK    DEN  213      1626     21  \n",
       "336750  -2       EV      5048   N751EV  LGA    RIC   45       292     20  \n",
       "336751 -30       MQ      3621   N807MQ  JFK    DCA   36       213     21  \n",
       "336752 -30       AA       185   N335AA  JFK    LAX  298      2475     21  \n",
       "336753  11       EV      4509   N12957  EWR    PWM   47       284     21  \n",
       "336754 -25       B6      1103   N633JB  JFK    SJU  192      1598     21  \n",
       "336755   3       B6      1371   N627JB  LGA    FLL  139      1076     21  \n",
       "336756 -23       UA       523   N813UA  EWR    BOS   37       200     21  \n",
       "336757 -16       EV      3842   N10575  EWR    MHT   39       209     21  \n",
       "336758 194       9E      3320   N906XJ  JFK    BUF   50       301     18  \n",
       "336759   8       EV      5311   N722EV  LGA    BGR   61       378     22  \n",
       "336760   7       MQ      3660   N532MQ  LGA    BNA   97       764     21  \n",
       "336761  57       EV      4672   N12145  EWR    STL  120       872     20  \n",
       "336762 -21       B6       108   N193JB  JFK    PWM   48       273     22  \n",
       "336763  42       UA       471   N578UA  EWR    SFO  318      2565     21  \n",
       "336764 130       B6      1083   N804JB  JFK    MCO  123       944     20  \n",
       "336765  -8       B6       234   N318JB  JFK    BTV   43       266     22  \n",
       "336766 -17       B6      1816   N354JB  JFK    SYR   41       209     22  \n",
       "336767 -20       B6      2002   N281JB  JFK    BUF   52       301     22  \n",
       "336768 -16       B6       486   N346JB  JFK    ROC   47       264     22  \n",
       "336769   1       B6       718   N565JB  JFK    BOS   33       187     22  \n",
       "336770 -25       B6       745   N516JB  JFK    PSE  196      1617     23  \n",
       "336771  NA       EV      5274   N740EV  LGA    BNA   NA       764     18  \n",
       "336772  NA       9E      3393   NA      JFK    DCA   NA       213     14  \n",
       "336773  NA       9E      3525   NA      LGA    SYR   NA       198     22  \n",
       "336774  NA       MQ      3461   N535MQ  LGA    BNA   NA       764     12  \n",
       "336775  NA       MQ      3572   N511MQ  LGA    CLE   NA       419     11  \n",
       "336776  NA       MQ      3531   N839MQ  LGA    RDU   NA       431      8  \n",
       "       minute time_hour          \n",
       "1      15     2013-01-01 05:00:00\n",
       "2      29     2013-01-01 05:00:00\n",
       "3      40     2013-01-01 05:00:00\n",
       "4      45     2013-01-01 05:00:00\n",
       "5       0     2013-01-01 06:00:00\n",
       "6      58     2013-01-01 05:00:00\n",
       "7       0     2013-01-01 06:00:00\n",
       "8       0     2013-01-01 06:00:00\n",
       "9       0     2013-01-01 06:00:00\n",
       "10      0     2013-01-01 06:00:00\n",
       "11      0     2013-01-01 06:00:00\n",
       "12      0     2013-01-01 06:00:00\n",
       "13      0     2013-01-01 06:00:00\n",
       "14      0     2013-01-01 06:00:00\n",
       "15      0     2013-01-01 06:00:00\n",
       "16     59     2013-01-01 05:00:00\n",
       "17      0     2013-01-01 06:00:00\n",
       "18      0     2013-01-01 06:00:00\n",
       "19      0     2013-01-01 06:00:00\n",
       "20      0     2013-01-01 06:00:00\n",
       "21     10     2013-01-01 06:00:00\n",
       "22      5     2013-01-01 06:00:00\n",
       "23     10     2013-01-01 06:00:00\n",
       "24     10     2013-01-01 06:00:00\n",
       "25      7     2013-01-01 06:00:00\n",
       "26      0     2013-01-01 06:00:00\n",
       "27      0     2013-01-01 06:00:00\n",
       "28     10     2013-01-01 06:00:00\n",
       "29     15     2013-01-01 06:00:00\n",
       "30     15     2013-01-01 06:00:00\n",
       "⋮      ⋮      ⋮                  \n",
       "336747 25     2013-09-30 21:00:00\n",
       "336748 29     2013-09-30 21:00:00\n",
       "336749 30     2013-09-30 21:00:00\n",
       "336750 59     2013-09-30 20:00:00\n",
       "336751 40     2013-09-30 21:00:00\n",
       "336752 40     2013-09-30 21:00:00\n",
       "336753 29     2013-09-30 21:00:00\n",
       "336754 45     2013-09-30 21:00:00\n",
       "336755 37     2013-09-30 21:00:00\n",
       "336756 56     2013-09-30 21:00:00\n",
       "336757 59     2013-09-30 21:00:00\n",
       "336758 45     2013-09-30 18:00:00\n",
       "336759  5     2013-09-30 22:00:00\n",
       "336760 40     2013-09-30 21:00:00\n",
       "336761 59     2013-09-30 20:00:00\n",
       "336762 45     2013-09-30 22:00:00\n",
       "336763 13     2013-09-30 21:00:00\n",
       "336764  1     2013-09-30 20:00:00\n",
       "336765 45     2013-09-30 22:00:00\n",
       "336766 45     2013-09-30 22:00:00\n",
       "336767 50     2013-09-30 22:00:00\n",
       "336768 46     2013-09-30 22:00:00\n",
       "336769 55     2013-09-30 22:00:00\n",
       "336770 59     2013-09-30 23:00:00\n",
       "336771 42     2013-09-30 18:00:00\n",
       "336772 55     2013-09-30 14:00:00\n",
       "336773  0     2013-09-30 22:00:00\n",
       "336774 10     2013-09-30 12:00:00\n",
       "336775 59     2013-09-30 11:00:00\n",
       "336776 40     2013-09-30 08:00:00"
      ]
     },
     "metadata": {},
     "output_type": "display_data"
    }
   ],
   "source": [
    "flights"
   ]
  },
  {
   "cell_type": "code",
   "execution_count": 13,
   "metadata": {
    "collapsed": true
   },
   "outputs": [],
   "source": [
    "flights_sqlite <- copy_to(my_db, flights, temporary = FALSE, indexes = list(\n",
    "  c(\"year\", \"month\", \"day\"), \"carrier\", \"tailnum\"))"
   ]
  },
  {
   "cell_type": "code",
   "execution_count": 37,
   "metadata": {
    "collapsed": false
   },
   "outputs": [
    {
     "data": {
      "text/plain": [
       "Source:   query [?? x 19]\n",
       "Database: sqlite 3.11.1 [/var/folders/9b/vc0vvld9169f9v3p83jpbz280000gn/T//RtmpPTxGVL/nycflights13.sqlite]\n",
       "\n",
       "    year month   day dep_time sched_dep_time dep_delay arr_time sched_arr_time\n",
       "   <int> <int> <int>    <int>          <int>     <dbl>    <int>          <int>\n",
       "1   2013     1     1      517            515         2      830            819\n",
       "2   2013     1     1      533            529         4      850            830\n",
       "3   2013     1     1      542            540         2      923            850\n",
       "4   2013     1     1      544            545        -1     1004           1022\n",
       "5   2013     1     1      554            600        -6      812            837\n",
       "6   2013     1     1      554            558        -4      740            728\n",
       "7   2013     1     1      555            600        -5      913            854\n",
       "8   2013     1     1      557            600        -3      709            723\n",
       "9   2013     1     1      557            600        -3      838            846\n",
       "10  2013     1     1      558            600        -2      753            745\n",
       "# ... with more rows, and 11 more variables: arr_delay <dbl>, carrier <chr>,\n",
       "#   flight <int>, tailnum <chr>, origin <chr>, dest <chr>, air_time <dbl>,\n",
       "#   distance <dbl>, hour <dbl>, minute <dbl>, time_hour <dbl>"
      ]
     },
     "metadata": {},
     "output_type": "display_data"
    }
   ],
   "source": [
    "flights_sqlite"
   ]
  },
  {
   "cell_type": "code",
   "execution_count": 19,
   "metadata": {
    "collapsed": false
   },
   "outputs": [
    {
     "name": "stderr",
     "output_type": "stream",
     "text": [
      "Caching nycflights db at /var/folders/9b/vc0vvld9169f9v3p83jpbz280000gn/T//RtmpPTxGVL/nycflights13.sqlite\n",
      "Creating table: airlines\n",
      "Creating table: airports\n",
      "Creating table: flights\n",
      "Creating table: planes\n",
      "Creating table: weather\n"
     ]
    }
   ],
   "source": [
    "flights_sqlite <- tbl(nycflights13_sqlite(), \"flights\")"
   ]
  },
  {
   "cell_type": "code",
   "execution_count": 20,
   "metadata": {
    "collapsed": false
   },
   "outputs": [
    {
     "data": {
      "text/plain": [
       "Source:   query [?? x 19]\n",
       "Database: sqlite 3.11.1 [/var/folders/9b/vc0vvld9169f9v3p83jpbz280000gn/T//RtmpPTxGVL/nycflights13.sqlite]\n",
       "\n",
       "    year month   day dep_time sched_dep_time dep_delay arr_time sched_arr_time\n",
       "   <int> <int> <int>    <int>          <int>     <dbl>    <int>          <int>\n",
       "1   2013     1     1      517            515         2      830            819\n",
       "2   2013     1     1      533            529         4      850            830\n",
       "3   2013     1     1      542            540         2      923            850\n",
       "4   2013     1     1      544            545        -1     1004           1022\n",
       "5   2013     1     1      554            600        -6      812            837\n",
       "6   2013     1     1      554            558        -4      740            728\n",
       "7   2013     1     1      555            600        -5      913            854\n",
       "8   2013     1     1      557            600        -3      709            723\n",
       "9   2013     1     1      557            600        -3      838            846\n",
       "10  2013     1     1      558            600        -2      753            745\n",
       "# ... with more rows, and 11 more variables: arr_delay <dbl>, carrier <chr>,\n",
       "#   flight <int>, tailnum <chr>, origin <chr>, dest <chr>, air_time <dbl>,\n",
       "#   distance <dbl>, hour <dbl>, minute <dbl>, time_hour <dbl>"
      ]
     },
     "metadata": {},
     "output_type": "display_data"
    }
   ],
   "source": [
    "flights_sqlite"
   ]
  },
  {
   "cell_type": "code",
   "execution_count": 21,
   "metadata": {
    "collapsed": false
   },
   "outputs": [
    {
     "data": {
      "text/plain": [
       "Source:   query [?? x 19]\n",
       "Database: sqlite 3.11.1 [my_db.sqlite3]\n",
       "\n",
       "    year month   day dep_time sched_dep_time dep_delay arr_time sched_arr_time\n",
       "   <int> <int> <int>    <int>          <int>     <dbl>    <int>          <int>\n",
       "1   2013     1     1      517            515         2      830            819\n",
       "2   2013     1     1      533            529         4      850            830\n",
       "3   2013     1     1      542            540         2      923            850\n",
       "4   2013     1     1      544            545        -1     1004           1022\n",
       "5   2013     1     1      554            600        -6      812            837\n",
       "6   2013     1     1      554            558        -4      740            728\n",
       "7   2013     1     1      555            600        -5      913            854\n",
       "8   2013     1     1      557            600        -3      709            723\n",
       "9   2013     1     1      557            600        -3      838            846\n",
       "10  2013     1     1      558            600        -2      753            745\n",
       "# ... with more rows, and 11 more variables: arr_delay <dbl>, carrier <chr>,\n",
       "#   flight <int>, tailnum <chr>, origin <chr>, dest <chr>, air_time <dbl>,\n",
       "#   distance <dbl>, hour <dbl>, minute <dbl>, time_hour <dbl>"
      ]
     },
     "metadata": {},
     "output_type": "display_data"
    }
   ],
   "source": [
    "tbl(my_db, sql(\"SELECT * FROM flights\"))"
   ]
  },
  {
   "cell_type": "code",
   "execution_count": 23,
   "metadata": {
    "collapsed": false
   },
   "outputs": [
    {
     "data": {
      "text/plain": [
       "Source:   query [?? x 5]\n",
       "Database: sqlite 3.11.1 [/var/folders/9b/vc0vvld9169f9v3p83jpbz280000gn/T//RtmpPTxGVL/nycflights13.sqlite]\n",
       "\n",
       "    year month   day dep_delay arr_delay\n",
       "   <int> <int> <int>     <dbl>     <dbl>\n",
       "1   2013     1     1         2        11\n",
       "2   2013     1     1         4        20\n",
       "3   2013     1     1         2        33\n",
       "4   2013     1     1        -1       -18\n",
       "5   2013     1     1        -6       -25\n",
       "6   2013     1     1        -4        12\n",
       "7   2013     1     1        -5        19\n",
       "8   2013     1     1        -3       -14\n",
       "9   2013     1     1        -3        -8\n",
       "10  2013     1     1        -2         8\n",
       "# ... with more rows"
      ]
     },
     "metadata": {},
     "output_type": "display_data"
    }
   ],
   "source": [
    "select(flights_sqlite, year:day, dep_delay, arr_delay)"
   ]
  },
  {
   "cell_type": "code",
   "execution_count": 24,
   "metadata": {
    "collapsed": false
   },
   "outputs": [
    {
     "data": {
      "text/plain": [
       "Source:   query [?? x 19]\n",
       "Database: sqlite 3.11.1 [/var/folders/9b/vc0vvld9169f9v3p83jpbz280000gn/T//RtmpPTxGVL/nycflights13.sqlite]\n",
       "\n",
       "    year month   day dep_time sched_dep_time dep_delay arr_time sched_arr_time\n",
       "   <int> <int> <int>    <int>          <int>     <dbl>    <int>          <int>\n",
       "1   2013     1     1      848           1835       853     1001           1950\n",
       "2   2013     1     1     1815           1325       290     2120           1542\n",
       "3   2013     1     1     1842           1422       260     1958           1535\n",
       "4   2013     1     1     2115           1700       255     2330           1920\n",
       "5   2013     1     1     2205           1720       285       46           2040\n",
       "6   2013     1     1     2343           1724       379      314           1938\n",
       "7   2013     1     2     1332            904       268     1616           1128\n",
       "8   2013     1     2     1412            838       334     1710           1147\n",
       "9   2013     1     2     1607           1030       337     2003           1355\n",
       "10  2013     1     2     2131           1512       379     2340           1741\n",
       "# ... with more rows, and 11 more variables: arr_delay <dbl>, carrier <chr>,\n",
       "#   flight <int>, tailnum <chr>, origin <chr>, dest <chr>, air_time <dbl>,\n",
       "#   distance <dbl>, hour <dbl>, minute <dbl>, time_hour <dbl>"
      ]
     },
     "metadata": {},
     "output_type": "display_data"
    }
   ],
   "source": [
    "filter(flights_sqlite, dep_delay > 240)"
   ]
  },
  {
   "cell_type": "code",
   "execution_count": 25,
   "metadata": {
    "collapsed": false
   },
   "outputs": [
    {
     "data": {
      "text/plain": [
       "Source:   query [?? x 19]\n",
       "Database: sqlite 3.11.1 [/var/folders/9b/vc0vvld9169f9v3p83jpbz280000gn/T//RtmpPTxGVL/nycflights13.sqlite]\n",
       "\n",
       "    year month   day dep_time sched_dep_time dep_delay arr_time sched_arr_time\n",
       "   <int> <int> <int>    <int>          <int>     <dbl>    <int>          <int>\n",
       "1   2013     1     1      517            515         2      830            819\n",
       "2   2013     1     1      533            529         4      850            830\n",
       "3   2013     1     1      542            540         2      923            850\n",
       "4   2013     1     1      544            545        -1     1004           1022\n",
       "5   2013     1     1      554            600        -6      812            837\n",
       "6   2013     1     1      554            558        -4      740            728\n",
       "7   2013     1     1      555            600        -5      913            854\n",
       "8   2013     1     1      557            600        -3      709            723\n",
       "9   2013     1     1      557            600        -3      838            846\n",
       "10  2013     1     1      558            600        -2      753            745\n",
       "# ... with more rows, and 11 more variables: arr_delay <dbl>, carrier <chr>,\n",
       "#   flight <int>, tailnum <chr>, origin <chr>, dest <chr>, air_time <dbl>,\n",
       "#   distance <dbl>, hour <dbl>, minute <dbl>, time_hour <dbl>"
      ]
     },
     "metadata": {},
     "output_type": "display_data"
    }
   ],
   "source": [
    "arrange(flights_sqlite, year, month, day)"
   ]
  },
  {
   "cell_type": "code",
   "execution_count": 26,
   "metadata": {
    "collapsed": false
   },
   "outputs": [
    {
     "data": {
      "text/plain": [
       "Source:   query [?? x 20]\n",
       "Database: sqlite 3.11.1 [/var/folders/9b/vc0vvld9169f9v3p83jpbz280000gn/T//RtmpPTxGVL/nycflights13.sqlite]\n",
       "\n",
       "    year month   day dep_time sched_dep_time dep_delay arr_time sched_arr_time\n",
       "   <int> <int> <int>    <int>          <int>     <dbl>    <int>          <int>\n",
       "1   2013     1     1      517            515         2      830            819\n",
       "2   2013     1     1      533            529         4      850            830\n",
       "3   2013     1     1      542            540         2      923            850\n",
       "4   2013     1     1      544            545        -1     1004           1022\n",
       "5   2013     1     1      554            600        -6      812            837\n",
       "6   2013     1     1      554            558        -4      740            728\n",
       "7   2013     1     1      555            600        -5      913            854\n",
       "8   2013     1     1      557            600        -3      709            723\n",
       "9   2013     1     1      557            600        -3      838            846\n",
       "10  2013     1     1      558            600        -2      753            745\n",
       "# ... with more rows, and 12 more variables: arr_delay <dbl>, carrier <chr>,\n",
       "#   flight <int>, tailnum <chr>, origin <chr>, dest <chr>, air_time <dbl>,\n",
       "#   distance <dbl>, hour <dbl>, minute <dbl>, time_hour <dbl>, speed <dbl>"
      ]
     },
     "metadata": {},
     "output_type": "display_data"
    }
   ],
   "source": [
    "mutate(flights_sqlite, speed = air_time / distance)"
   ]
  },
  {
   "cell_type": "code",
   "execution_count": 27,
   "metadata": {
    "collapsed": false
   },
   "outputs": [
    {
     "data": {
      "text/plain": [
       "Source:   query [?? x 1]\n",
       "Database: sqlite 3.11.1 [/var/folders/9b/vc0vvld9169f9v3p83jpbz280000gn/T//RtmpPTxGVL/nycflights13.sqlite]\n",
       "\n",
       "    delay\n",
       "    <dbl>\n",
       "1 1349.11"
      ]
     },
     "metadata": {},
     "output_type": "display_data"
    }
   ],
   "source": [
    "summarise(flights_sqlite, delay = mean(dep_time))"
   ]
  },
  {
   "cell_type": "code",
   "execution_count": 41,
   "metadata": {
    "collapsed": true
   },
   "outputs": [],
   "source": [
    "c1 <- filter(flights_sqlite, year == 2013, month == 7, day == 1)\n",
    "c2 <- select(c1, year, month, day, carrier, dep_delay, air_time, distance)\n",
    "c3 <- mutate(c2, speed = distance / air_time * 60)\n",
    "c4 <- arrange(c3, year, month, day, carrier)"
   ]
  },
  {
   "cell_type": "code",
   "execution_count": 42,
   "metadata": {
    "collapsed": false
   },
   "outputs": [
    {
     "data": {
      "text/html": [
       "<table>\n",
       "<thead><tr><th scope=col>year</th><th scope=col>month</th><th scope=col>day</th><th scope=col>dep_time</th><th scope=col>sched_dep_time</th><th scope=col>dep_delay</th><th scope=col>arr_time</th><th scope=col>sched_arr_time</th><th scope=col>arr_delay</th><th scope=col>carrier</th><th scope=col>flight</th><th scope=col>tailnum</th><th scope=col>origin</th><th scope=col>dest</th><th scope=col>air_time</th><th scope=col>distance</th><th scope=col>hour</th><th scope=col>minute</th><th scope=col>time_hour</th></tr></thead>\n",
       "<tbody>\n",
       "\t<tr><td>2013      </td><td>7         </td><td>1         </td><td>  1       </td><td>2029      </td><td>212       </td><td>236       </td><td>2359      </td><td>157       </td><td>B6        </td><td> 915      </td><td>N653JB    </td><td>JFK       </td><td>SFO       </td><td>315       </td><td>2586      </td><td>20        </td><td>29        </td><td>1372708800</td></tr>\n",
       "\t<tr><td>2013      </td><td>7         </td><td>1         </td><td>  2       </td><td>2359      </td><td>  3       </td><td>344       </td><td> 344      </td><td>  0       </td><td>B6        </td><td>1503      </td><td>N805JB    </td><td>JFK       </td><td>SJU       </td><td>200       </td><td>1598      </td><td>23        </td><td>59        </td><td>1372719600</td></tr>\n",
       "\t<tr><td>2013      </td><td>7         </td><td>1         </td><td> 29       </td><td>2245      </td><td>104       </td><td>151       </td><td>   1      </td><td>110       </td><td>B6        </td><td> 234      </td><td>N348JB    </td><td>JFK       </td><td>BTV       </td><td> 66       </td><td> 266      </td><td>22        </td><td>45        </td><td>1372716000</td></tr>\n",
       "\t<tr><td>2013      </td><td>7         </td><td>1         </td><td> 43       </td><td>2130      </td><td>193       </td><td>322       </td><td>  14      </td><td>188       </td><td>B6        </td><td>1371      </td><td>N794JB    </td><td>LGA       </td><td>FLL       </td><td>143       </td><td>1076      </td><td>21        </td><td>30        </td><td>1372712400</td></tr>\n",
       "\t<tr><td>2013      </td><td>7         </td><td>1         </td><td> 44       </td><td>2150      </td><td>174       </td><td>300       </td><td> 100      </td><td>120       </td><td>AA        </td><td> 185      </td><td>N324AA    </td><td>JFK       </td><td>LAX       </td><td>297       </td><td>2475      </td><td>21        </td><td>50        </td><td>1372712400</td></tr>\n",
       "\t<tr><td>2013      </td><td>7         </td><td>1         </td><td> 46       </td><td>2051      </td><td>235       </td><td>304       </td><td>2358      </td><td>186       </td><td>B6        </td><td> 165      </td><td>N640JB    </td><td>JFK       </td><td>PDX       </td><td>304       </td><td>2454      </td><td>20        </td><td>51        </td><td>1372708800</td></tr>\n",
       "\t<tr><td>2013      </td><td>7         </td><td>1         </td><td> 48       </td><td>2001      </td><td>287       </td><td>308       </td><td>2305      </td><td>243       </td><td>VX        </td><td> 415      </td><td>N627VA    </td><td>JFK       </td><td>LAX       </td><td>298       </td><td>2475      </td><td>20        </td><td> 1        </td><td>1372708800</td></tr>\n",
       "\t<tr><td>2013      </td><td>7         </td><td>1         </td><td> 58       </td><td>2155      </td><td>183       </td><td>335       </td><td>  43      </td><td>172       </td><td>B6        </td><td> 425      </td><td>N535JB    </td><td>JFK       </td><td>TPA       </td><td>140       </td><td>1005      </td><td>21        </td><td>55        </td><td>1372712400</td></tr>\n",
       "\t<tr><td>2013      </td><td>7         </td><td>1         </td><td>100       </td><td>2146      </td><td>194       </td><td>327       </td><td>  30      </td><td>177       </td><td>B6        </td><td>1183      </td><td>N531JB    </td><td>JFK       </td><td>MCO       </td><td>126       </td><td> 944      </td><td>21        </td><td>46        </td><td>1372712400</td></tr>\n",
       "\t<tr><td>2013      </td><td>7         </td><td>1         </td><td>100       </td><td>2245      </td><td>135       </td><td>337       </td><td> 135      </td><td>122       </td><td>B6        </td><td> 623      </td><td>N663JB    </td><td>JFK       </td><td>LAX       </td><td>304       </td><td>2475      </td><td>22        </td><td>45        </td><td>1372716000</td></tr>\n",
       "\t<tr><td>2013      </td><td>7         </td><td>1         </td><td>107       </td><td>2245      </td><td>142       </td><td>158       </td><td>2359      </td><td>119       </td><td>B6        </td><td>1816      </td><td>N249JB    </td><td>JFK       </td><td>SYR       </td><td> 39       </td><td> 209      </td><td>22        </td><td>45        </td><td>1372716000</td></tr>\n",
       "\t<tr><td>2013      </td><td>7         </td><td>1         </td><td>111       </td><td>2359      </td><td> 72       </td><td>448       </td><td> 340      </td><td> 68       </td><td>B6        </td><td> 839      </td><td>N608JB    </td><td>JFK       </td><td>BQN       </td><td>199       </td><td>1576      </td><td>23        </td><td>59        </td><td>1372719600</td></tr>\n",
       "\t<tr><td>2013      </td><td>7         </td><td>1         </td><td>114       </td><td>2135      </td><td>219       </td><td>310       </td><td>   8      </td><td>182       </td><td>B6        </td><td> 611      </td><td>N584JB    </td><td>JFK       </td><td>LAS       </td><td>276       </td><td>2248      </td><td>21        </td><td>35        </td><td>1372712400</td></tr>\n",
       "\t<tr><td>2013      </td><td>7         </td><td>1         </td><td>459       </td><td> 500      </td><td> -1       </td><td>642       </td><td> 640      </td><td>  2       </td><td>US        </td><td>1431      </td><td>N167US    </td><td>EWR       </td><td>CLT       </td><td> 87       </td><td> 529      </td><td> 5        </td><td> 0        </td><td>1372654800</td></tr>\n",
       "\t<tr><td>2013      </td><td>7         </td><td>1         </td><td>538       </td><td> 540      </td><td> -2       </td><td>800       </td><td> 810      </td><td>-10       </td><td>UA        </td><td> 332      </td><td>N442UA    </td><td>EWR       </td><td>IAH       </td><td>185       </td><td>1400      </td><td> 5        </td><td>40        </td><td>1372654800</td></tr>\n",
       "\t<tr><td>2013      </td><td>7         </td><td>1         </td><td>540       </td><td> 540      </td><td>  0       </td><td>841       </td><td> 840      </td><td>  1       </td><td>AA        </td><td> 701      </td><td>N5ENAA    </td><td>JFK       </td><td>MIA       </td><td>155       </td><td>1089      </td><td> 5        </td><td>40        </td><td>1372654800</td></tr>\n",
       "\t<tr><td>2013      </td><td>7         </td><td>1         </td><td>543       </td><td> 545      </td><td> -2       </td><td>932       </td><td> 921      </td><td> 11       </td><td>B6        </td><td> 939      </td><td>N708JB    </td><td>JFK       </td><td>BQN       </td><td>198       </td><td>1576      </td><td> 5        </td><td>45        </td><td>1372654800</td></tr>\n",
       "\t<tr><td>2013      </td><td>7         </td><td>1         </td><td>547       </td><td> 548      </td><td> -1       </td><td>903       </td><td> 851      </td><td> 12       </td><td>UA        </td><td> 651      </td><td>N545UA    </td><td>EWR       </td><td>SFO       </td><td>343       </td><td>2565      </td><td> 5        </td><td>48        </td><td>1372654800</td></tr>\n",
       "\t<tr><td>2013      </td><td>7         </td><td>1         </td><td>548       </td><td> 545      </td><td>  3       </td><td>815       </td><td> 819      </td><td> -4       </td><td>UA        </td><td>1714      </td><td>N14237    </td><td>LGA       </td><td>IAH       </td><td>188       </td><td>1416      </td><td> 5        </td><td>45        </td><td>1372654800</td></tr>\n",
       "\t<tr><td>2013      </td><td>7         </td><td>1         </td><td>549       </td><td> 600      </td><td>-11       </td><td>645       </td><td> 655      </td><td>-10       </td><td>US        </td><td>1629      </td><td>N959UW    </td><td>LGA       </td><td>PHL       </td><td> 37       </td><td>  96      </td><td> 6        </td><td> 0        </td><td>1372658400</td></tr>\n",
       "\t<tr><td>2013      </td><td>7         </td><td>1         </td><td>551       </td><td> 600      </td><td> -9       </td><td>721       </td><td> 700      </td><td> 21       </td><td>US        </td><td>2114      </td><td>N751UW    </td><td>LGA       </td><td>BOS       </td><td> 38       </td><td> 184      </td><td> 6        </td><td> 0        </td><td>1372658400</td></tr>\n",
       "\t<tr><td>2013      </td><td>7         </td><td>1         </td><td>554       </td><td> 600      </td><td> -6       </td><td>707       </td><td> 659      </td><td>  8       </td><td>US        </td><td>2161      </td><td>N752US    </td><td>LGA       </td><td>DCA       </td><td> 45       </td><td> 214      </td><td> 6        </td><td> 0        </td><td>1372658400</td></tr>\n",
       "\t<tr><td>2013      </td><td>7         </td><td>1         </td><td>556       </td><td> 600      </td><td> -4       </td><td>820       </td><td> 825      </td><td> -5       </td><td>DL        </td><td> 461      </td><td>N915DL    </td><td>LGA       </td><td>ATL       </td><td>119       </td><td> 762      </td><td> 6        </td><td> 0        </td><td>1372658400</td></tr>\n",
       "\t<tr><td>2013      </td><td>7         </td><td>1         </td><td>557       </td><td> 600      </td><td> -3       </td><td>817       </td><td> 802      </td><td> 15       </td><td>EV        </td><td>4372      </td><td>N21129    </td><td>EWR       </td><td>MSP       </td><td>154       </td><td>1008      </td><td> 6        </td><td> 0        </td><td>1372658400</td></tr>\n",
       "\t<tr><td>2013      </td><td>7         </td><td>1         </td><td>557       </td><td> 600      </td><td> -3       </td><td>727       </td><td> 730      </td><td> -3       </td><td>EV        </td><td>4424      </td><td>N18101    </td><td>EWR       </td><td>RDU       </td><td> 69       </td><td> 416      </td><td> 6        </td><td> 0        </td><td>1372658400</td></tr>\n",
       "\t<tr><td>2013      </td><td>7         </td><td>1         </td><td>557       </td><td> 600      </td><td> -3       </td><td>719       </td><td> 716      </td><td>  3       </td><td>EV        </td><td>6177      </td><td>N13908    </td><td>EWR       </td><td>IAD       </td><td> 47       </td><td> 212      </td><td> 6        </td><td> 0        </td><td>1372658400</td></tr>\n",
       "\t<tr><td>2013      </td><td>7         </td><td>1         </td><td>557       </td><td> 600      </td><td> -3       </td><td>712       </td><td> 725      </td><td>-13       </td><td>AA        </td><td> 301      </td><td>N496AA    </td><td>LGA       </td><td>ORD       </td><td>110       </td><td> 733      </td><td> 6        </td><td> 0        </td><td>1372658400</td></tr>\n",
       "\t<tr><td>2013      </td><td>7         </td><td>1         </td><td>557       </td><td> 605      </td><td> -8       </td><td>838       </td><td> 820      </td><td> 18       </td><td>MQ        </td><td>3550      </td><td>N521MQ    </td><td>LGA       </td><td>ATL       </td><td>123       </td><td> 762      </td><td> 6        </td><td> 5        </td><td>1372658400</td></tr>\n",
       "\t<tr><td>2013      </td><td>7         </td><td>1         </td><td>557       </td><td> 600      </td><td> -3       </td><td>828       </td><td> 907      </td><td>-39       </td><td>UA        </td><td>1209      </td><td>N11206    </td><td>EWR       </td><td>LAX       </td><td>300       </td><td>2454      </td><td> 6        </td><td> 0        </td><td>1372658400</td></tr>\n",
       "\t<tr><td>2013      </td><td>7         </td><td>1         </td><td>559       </td><td> 605      </td><td> -6       </td><td>748       </td><td> 735      </td><td> 13       </td><td>MQ        </td><td>3525      </td><td>N721MQ    </td><td>LGA       </td><td>RDU       </td><td> 72       </td><td> 431      </td><td> 6        </td><td> 5        </td><td>1372658400</td></tr>\n",
       "\t<tr><td>⋮</td><td>⋮</td><td>⋮</td><td>⋮</td><td>⋮</td><td>⋮</td><td>⋮</td><td>⋮</td><td>⋮</td><td>⋮</td><td>⋮</td><td>⋮</td><td>⋮</td><td>⋮</td><td>⋮</td><td>⋮</td><td>⋮</td><td>⋮</td><td>⋮</td></tr>\n",
       "\t<tr><td>2013      </td><td>7         </td><td>1         </td><td>NA        </td><td>1640      </td><td>NA        </td><td>NA        </td><td>1815      </td><td>NA        </td><td>MQ        </td><td>2949      </td><td>N662MQ    </td><td>JFK       </td><td>BNA       </td><td>NA        </td><td> 765      </td><td>16        </td><td>40        </td><td>1372694400</td></tr>\n",
       "\t<tr><td>2013      </td><td>7         </td><td>1         </td><td>NA        </td><td>1830      </td><td>NA        </td><td>NA        </td><td>1940      </td><td>NA        </td><td>MQ        </td><td>3044      </td><td>N607MQ    </td><td>JFK       </td><td>BWI       </td><td>NA        </td><td> 184      </td><td>18        </td><td>30        </td><td>1372701600</td></tr>\n",
       "\t<tr><td>2013      </td><td>7         </td><td>1         </td><td>NA        </td><td>1825      </td><td>NA        </td><td>NA        </td><td>2005      </td><td>NA        </td><td>MQ        </td><td>3134      </td><td>N532MQ    </td><td>EWR       </td><td>ORD       </td><td>NA        </td><td> 719      </td><td>18        </td><td>25        </td><td>1372701600</td></tr>\n",
       "\t<tr><td>2013      </td><td>7         </td><td>1         </td><td>NA        </td><td>1100      </td><td>NA        </td><td>NA        </td><td>1210      </td><td>NA        </td><td>MQ        </td><td>3230      </td><td>N519MQ    </td><td>JFK       </td><td>DCA       </td><td>NA        </td><td> 213      </td><td>11        </td><td> 0        </td><td>1372676400</td></tr>\n",
       "\t<tr><td>2013      </td><td>7         </td><td>1         </td><td>NA        </td><td>1745      </td><td>NA        </td><td>NA        </td><td>1925      </td><td>NA        </td><td>MQ        </td><td>3301      </td><td>N521MQ    </td><td>LGA       </td><td>RDU       </td><td>NA        </td><td> 431      </td><td>17        </td><td>45        </td><td>1372698000</td></tr>\n",
       "\t<tr><td>2013      </td><td>7         </td><td>1         </td><td>NA        </td><td>1700      </td><td>NA        </td><td>NA        </td><td>1845      </td><td>NA        </td><td>MQ        </td><td>3216      </td><td>N617MQ    </td><td>JFK       </td><td>ORF       </td><td>NA        </td><td> 290      </td><td>17        </td><td> 0        </td><td>1372698000</td></tr>\n",
       "\t<tr><td>2013      </td><td>7         </td><td>1         </td><td>NA        </td><td>1510      </td><td>NA        </td><td>NA        </td><td>1635      </td><td>NA        </td><td>MQ        </td><td>3433      </td><td>N514MQ    </td><td>JFK       </td><td>DCA       </td><td>NA        </td><td> 213      </td><td>15        </td><td>10        </td><td>1372690800</td></tr>\n",
       "\t<tr><td>2013      </td><td>7         </td><td>1         </td><td>NA        </td><td>1610      </td><td>NA        </td><td>NA        </td><td>1845      </td><td>NA        </td><td>MQ        </td><td>3357      </td><td>N506MQ    </td><td>LGA       </td><td>ATL       </td><td>NA        </td><td> 762      </td><td>16        </td><td>10        </td><td>1372694400</td></tr>\n",
       "\t<tr><td>2013      </td><td>7         </td><td>1         </td><td>NA        </td><td>1720      </td><td>NA        </td><td>NA        </td><td>1850      </td><td>NA        </td><td>MQ        </td><td>3365      </td><td>N852MQ    </td><td>JFK       </td><td>DCA       </td><td>NA        </td><td> 213      </td><td>17        </td><td>20        </td><td>1372698000</td></tr>\n",
       "\t<tr><td>2013      </td><td>7         </td><td>1         </td><td>NA        </td><td>1325      </td><td>NA        </td><td>NA        </td><td>1505      </td><td>NA        </td><td>MQ        </td><td>3493      </td><td>N720MQ    </td><td>LGA       </td><td>CLE       </td><td>NA        </td><td> 419      </td><td>13        </td><td>25        </td><td>1372683600</td></tr>\n",
       "\t<tr><td>2013      </td><td>7         </td><td>1         </td><td>NA        </td><td>1355      </td><td>NA        </td><td>NA        </td><td>1550      </td><td>NA        </td><td>MQ        </td><td>3567      </td><td>N6EAMQ    </td><td>LGA       </td><td>CLT       </td><td>NA        </td><td> 544      </td><td>13        </td><td>55        </td><td>1372683600</td></tr>\n",
       "\t<tr><td>2013      </td><td>7         </td><td>1         </td><td>NA        </td><td>1935      </td><td>NA        </td><td>NA        </td><td>2120      </td><td>NA        </td><td>MQ        </td><td>3535      </td><td>N542MQ    </td><td>JFK       </td><td>CMH       </td><td>NA        </td><td> 483      </td><td>19        </td><td>35        </td><td>1372705200</td></tr>\n",
       "\t<tr><td>2013      </td><td>7         </td><td>1         </td><td>NA        </td><td>1955      </td><td>NA        </td><td>NA        </td><td>2145      </td><td>NA        </td><td>MQ        </td><td>3573      </td><td>N720MQ    </td><td>LGA       </td><td>CMH       </td><td>NA        </td><td> 479      </td><td>19        </td><td>55        </td><td>1372705200</td></tr>\n",
       "\t<tr><td>2013      </td><td>7         </td><td>1         </td><td>NA        </td><td> 955      </td><td>NA        </td><td>NA        </td><td>1115      </td><td>NA        </td><td>MQ        </td><td>3670      </td><td>N531MQ    </td><td>LGA       </td><td>BNA       </td><td>NA        </td><td> 764      </td><td> 9        </td><td>55        </td><td>1372669200</td></tr>\n",
       "\t<tr><td>2013      </td><td>7         </td><td>1         </td><td>NA        </td><td>1055      </td><td>NA        </td><td>NA        </td><td>1235      </td><td>NA        </td><td>MQ        </td><td>3466      </td><td>N738MQ    </td><td>LGA       </td><td>RDU       </td><td>NA        </td><td> 431      </td><td>10        </td><td>55        </td><td>1372672800</td></tr>\n",
       "\t<tr><td>2013      </td><td>7         </td><td>1         </td><td>NA        </td><td>1115      </td><td>NA        </td><td>NA        </td><td>1230      </td><td>NA        </td><td>MQ        </td><td>3718      </td><td>N508MQ    </td><td>EWR       </td><td>ORD       </td><td>NA        </td><td> 719      </td><td>11        </td><td>15        </td><td>1372676400</td></tr>\n",
       "\t<tr><td>2013      </td><td>7         </td><td>1         </td><td>NA        </td><td>1155      </td><td>NA        </td><td>NA        </td><td>1310      </td><td>NA        </td><td>MQ        </td><td>3386      </td><td>N830MQ    </td><td>JFK       </td><td>DCA       </td><td>NA        </td><td> 213      </td><td>11        </td><td>55        </td><td>1372676400</td></tr>\n",
       "\t<tr><td>2013      </td><td>7         </td><td>1         </td><td>NA        </td><td>1255      </td><td>NA        </td><td>NA        </td><td>1440      </td><td>NA        </td><td>MQ        </td><td>3388      </td><td>N711MQ    </td><td>LGA       </td><td>CMH       </td><td>NA        </td><td> 479      </td><td>12        </td><td>55        </td><td>1372680000</td></tr>\n",
       "\t<tr><td>2013      </td><td>7         </td><td>1         </td><td>NA        </td><td>1855      </td><td>NA        </td><td>NA        </td><td>2045      </td><td>NA        </td><td>UA        </td><td> 394      </td><td>NA        </td><td>EWR       </td><td>ORD       </td><td>NA        </td><td> 719      </td><td>18        </td><td>55        </td><td>1372701600</td></tr>\n",
       "\t<tr><td>2013      </td><td>7         </td><td>1         </td><td>NA        </td><td> 800      </td><td>NA        </td><td>NA        </td><td> 904      </td><td>NA        </td><td>US        </td><td>2118      </td><td>NA        </td><td>LGA       </td><td>BOS       </td><td>NA        </td><td> 184      </td><td> 8        </td><td> 0        </td><td>1372665600</td></tr>\n",
       "\t<tr><td>2013      </td><td>7         </td><td>1         </td><td>NA        </td><td>1000      </td><td>NA        </td><td>NA        </td><td>1113      </td><td>NA        </td><td>US        </td><td>2122      </td><td>NA        </td><td>LGA       </td><td>BOS       </td><td>NA        </td><td> 184      </td><td>10        </td><td> 0        </td><td>1372672800</td></tr>\n",
       "\t<tr><td>2013      </td><td>7         </td><td>1         </td><td>NA        </td><td>1200      </td><td>NA        </td><td>NA        </td><td>1309      </td><td>NA        </td><td>US        </td><td>2126      </td><td>NA        </td><td>LGA       </td><td>BOS       </td><td>NA        </td><td> 184      </td><td>12        </td><td> 0        </td><td>1372680000</td></tr>\n",
       "\t<tr><td>2013      </td><td>7         </td><td>1         </td><td>NA        </td><td>1500      </td><td>NA        </td><td>NA        </td><td>1612      </td><td>NA        </td><td>US        </td><td>2132      </td><td>NA        </td><td>LGA       </td><td>BOS       </td><td>NA        </td><td> 184      </td><td>15        </td><td> 0        </td><td>1372690800</td></tr>\n",
       "\t<tr><td>2013      </td><td>7         </td><td>1         </td><td>NA        </td><td>1700      </td><td>NA        </td><td>NA        </td><td>1815      </td><td>NA        </td><td>US        </td><td>2136      </td><td>NA        </td><td>LGA       </td><td>BOS       </td><td>NA        </td><td> 184      </td><td>17        </td><td> 0        </td><td>1372698000</td></tr>\n",
       "\t<tr><td>2013      </td><td>7         </td><td>1         </td><td>NA        </td><td>2000      </td><td>NA        </td><td>NA        </td><td>2112      </td><td>NA        </td><td>US        </td><td>2142      </td><td>NA        </td><td>LGA       </td><td>BOS       </td><td>NA        </td><td> 184      </td><td>20        </td><td> 0        </td><td>1372708800</td></tr>\n",
       "\t<tr><td>2013      </td><td>7         </td><td>1         </td><td>NA        </td><td>1100      </td><td>NA        </td><td>NA        </td><td>1213      </td><td>NA        </td><td>US        </td><td>2171      </td><td>NA        </td><td>LGA       </td><td>DCA       </td><td>NA        </td><td> 214      </td><td>11        </td><td> 0        </td><td>1372676400</td></tr>\n",
       "\t<tr><td>2013      </td><td>7         </td><td>1         </td><td>NA        </td><td>1200      </td><td>NA        </td><td>NA        </td><td>1314      </td><td>NA        </td><td>US        </td><td>2173      </td><td>NA        </td><td>LGA       </td><td>DCA       </td><td>NA        </td><td> 214      </td><td>12        </td><td> 0        </td><td>1372680000</td></tr>\n",
       "\t<tr><td>2013      </td><td>7         </td><td>1         </td><td>NA        </td><td>1700      </td><td>NA        </td><td>NA        </td><td>1823      </td><td>NA        </td><td>US        </td><td>2183      </td><td>NA        </td><td>LGA       </td><td>DCA       </td><td>NA        </td><td> 214      </td><td>17        </td><td> 0        </td><td>1372698000</td></tr>\n",
       "\t<tr><td>2013      </td><td>7         </td><td>1         </td><td>NA        </td><td> 900      </td><td>NA        </td><td>NA        </td><td>1035      </td><td>NA        </td><td>UA        </td><td>1477      </td><td>NA        </td><td>LGA       </td><td>ORD       </td><td>NA        </td><td> 733      </td><td> 9        </td><td> 0        </td><td>1372669200</td></tr>\n",
       "\t<tr><td>2013      </td><td>7         </td><td>1         </td><td>NA        </td><td>1629      </td><td>NA        </td><td>NA        </td><td>1853      </td><td>NA        </td><td>US        </td><td>  17      </td><td>NA        </td><td>JFK       </td><td>PHX       </td><td>NA        </td><td>2153      </td><td>16        </td><td>29        </td><td>1372694400</td></tr>\n",
       "</tbody>\n",
       "</table>\n"
      ],
      "text/latex": [
       "\\begin{tabular}{r|lllllllllllllllllll}\n",
       " year & month & day & dep\\_time & sched\\_dep\\_time & dep\\_delay & arr\\_time & sched\\_arr\\_time & arr\\_delay & carrier & flight & tailnum & origin & dest & air\\_time & distance & hour & minute & time\\_hour\\\\\n",
       "\\hline\n",
       "\t 2013       & 7          & 1          &   1        & 2029       & 212        & 236        & 2359       & 157        & B6         &  915       & N653JB     & JFK        & SFO        & 315        & 2586       & 20         & 29         & 1372708800\\\\\n",
       "\t 2013       & 7          & 1          &   2        & 2359       &   3        & 344        &  344       &   0        & B6         & 1503       & N805JB     & JFK        & SJU        & 200        & 1598       & 23         & 59         & 1372719600\\\\\n",
       "\t 2013       & 7          & 1          &  29        & 2245       & 104        & 151        &    1       & 110        & B6         &  234       & N348JB     & JFK        & BTV        &  66        &  266       & 22         & 45         & 1372716000\\\\\n",
       "\t 2013       & 7          & 1          &  43        & 2130       & 193        & 322        &   14       & 188        & B6         & 1371       & N794JB     & LGA        & FLL        & 143        & 1076       & 21         & 30         & 1372712400\\\\\n",
       "\t 2013       & 7          & 1          &  44        & 2150       & 174        & 300        &  100       & 120        & AA         &  185       & N324AA     & JFK        & LAX        & 297        & 2475       & 21         & 50         & 1372712400\\\\\n",
       "\t 2013       & 7          & 1          &  46        & 2051       & 235        & 304        & 2358       & 186        & B6         &  165       & N640JB     & JFK        & PDX        & 304        & 2454       & 20         & 51         & 1372708800\\\\\n",
       "\t 2013       & 7          & 1          &  48        & 2001       & 287        & 308        & 2305       & 243        & VX         &  415       & N627VA     & JFK        & LAX        & 298        & 2475       & 20         &  1         & 1372708800\\\\\n",
       "\t 2013       & 7          & 1          &  58        & 2155       & 183        & 335        &   43       & 172        & B6         &  425       & N535JB     & JFK        & TPA        & 140        & 1005       & 21         & 55         & 1372712400\\\\\n",
       "\t 2013       & 7          & 1          & 100        & 2146       & 194        & 327        &   30       & 177        & B6         & 1183       & N531JB     & JFK        & MCO        & 126        &  944       & 21         & 46         & 1372712400\\\\\n",
       "\t 2013       & 7          & 1          & 100        & 2245       & 135        & 337        &  135       & 122        & B6         &  623       & N663JB     & JFK        & LAX        & 304        & 2475       & 22         & 45         & 1372716000\\\\\n",
       "\t 2013       & 7          & 1          & 107        & 2245       & 142        & 158        & 2359       & 119        & B6         & 1816       & N249JB     & JFK        & SYR        &  39        &  209       & 22         & 45         & 1372716000\\\\\n",
       "\t 2013       & 7          & 1          & 111        & 2359       &  72        & 448        &  340       &  68        & B6         &  839       & N608JB     & JFK        & BQN        & 199        & 1576       & 23         & 59         & 1372719600\\\\\n",
       "\t 2013       & 7          & 1          & 114        & 2135       & 219        & 310        &    8       & 182        & B6         &  611       & N584JB     & JFK        & LAS        & 276        & 2248       & 21         & 35         & 1372712400\\\\\n",
       "\t 2013       & 7          & 1          & 459        &  500       &  -1        & 642        &  640       &   2        & US         & 1431       & N167US     & EWR        & CLT        &  87        &  529       &  5         &  0         & 1372654800\\\\\n",
       "\t 2013       & 7          & 1          & 538        &  540       &  -2        & 800        &  810       & -10        & UA         &  332       & N442UA     & EWR        & IAH        & 185        & 1400       &  5         & 40         & 1372654800\\\\\n",
       "\t 2013       & 7          & 1          & 540        &  540       &   0        & 841        &  840       &   1        & AA         &  701       & N5ENAA     & JFK        & MIA        & 155        & 1089       &  5         & 40         & 1372654800\\\\\n",
       "\t 2013       & 7          & 1          & 543        &  545       &  -2        & 932        &  921       &  11        & B6         &  939       & N708JB     & JFK        & BQN        & 198        & 1576       &  5         & 45         & 1372654800\\\\\n",
       "\t 2013       & 7          & 1          & 547        &  548       &  -1        & 903        &  851       &  12        & UA         &  651       & N545UA     & EWR        & SFO        & 343        & 2565       &  5         & 48         & 1372654800\\\\\n",
       "\t 2013       & 7          & 1          & 548        &  545       &   3        & 815        &  819       &  -4        & UA         & 1714       & N14237     & LGA        & IAH        & 188        & 1416       &  5         & 45         & 1372654800\\\\\n",
       "\t 2013       & 7          & 1          & 549        &  600       & -11        & 645        &  655       & -10        & US         & 1629       & N959UW     & LGA        & PHL        &  37        &   96       &  6         &  0         & 1372658400\\\\\n",
       "\t 2013       & 7          & 1          & 551        &  600       &  -9        & 721        &  700       &  21        & US         & 2114       & N751UW     & LGA        & BOS        &  38        &  184       &  6         &  0         & 1372658400\\\\\n",
       "\t 2013       & 7          & 1          & 554        &  600       &  -6        & 707        &  659       &   8        & US         & 2161       & N752US     & LGA        & DCA        &  45        &  214       &  6         &  0         & 1372658400\\\\\n",
       "\t 2013       & 7          & 1          & 556        &  600       &  -4        & 820        &  825       &  -5        & DL         &  461       & N915DL     & LGA        & ATL        & 119        &  762       &  6         &  0         & 1372658400\\\\\n",
       "\t 2013       & 7          & 1          & 557        &  600       &  -3        & 817        &  802       &  15        & EV         & 4372       & N21129     & EWR        & MSP        & 154        & 1008       &  6         &  0         & 1372658400\\\\\n",
       "\t 2013       & 7          & 1          & 557        &  600       &  -3        & 727        &  730       &  -3        & EV         & 4424       & N18101     & EWR        & RDU        &  69        &  416       &  6         &  0         & 1372658400\\\\\n",
       "\t 2013       & 7          & 1          & 557        &  600       &  -3        & 719        &  716       &   3        & EV         & 6177       & N13908     & EWR        & IAD        &  47        &  212       &  6         &  0         & 1372658400\\\\\n",
       "\t 2013       & 7          & 1          & 557        &  600       &  -3        & 712        &  725       & -13        & AA         &  301       & N496AA     & LGA        & ORD        & 110        &  733       &  6         &  0         & 1372658400\\\\\n",
       "\t 2013       & 7          & 1          & 557        &  605       &  -8        & 838        &  820       &  18        & MQ         & 3550       & N521MQ     & LGA        & ATL        & 123        &  762       &  6         &  5         & 1372658400\\\\\n",
       "\t 2013       & 7          & 1          & 557        &  600       &  -3        & 828        &  907       & -39        & UA         & 1209       & N11206     & EWR        & LAX        & 300        & 2454       &  6         &  0         & 1372658400\\\\\n",
       "\t 2013       & 7          & 1          & 559        &  605       &  -6        & 748        &  735       &  13        & MQ         & 3525       & N721MQ     & LGA        & RDU        &  72        &  431       &  6         &  5         & 1372658400\\\\\n",
       "\t ⋮ & ⋮ & ⋮ & ⋮ & ⋮ & ⋮ & ⋮ & ⋮ & ⋮ & ⋮ & ⋮ & ⋮ & ⋮ & ⋮ & ⋮ & ⋮ & ⋮ & ⋮ & ⋮\\\\\n",
       "\t 2013       & 7          & 1          & NA         & 1640       & NA         & NA         & 1815       & NA         & MQ         & 2949       & N662MQ     & JFK        & BNA        & NA         &  765       & 16         & 40         & 1372694400\\\\\n",
       "\t 2013       & 7          & 1          & NA         & 1830       & NA         & NA         & 1940       & NA         & MQ         & 3044       & N607MQ     & JFK        & BWI        & NA         &  184       & 18         & 30         & 1372701600\\\\\n",
       "\t 2013       & 7          & 1          & NA         & 1825       & NA         & NA         & 2005       & NA         & MQ         & 3134       & N532MQ     & EWR        & ORD        & NA         &  719       & 18         & 25         & 1372701600\\\\\n",
       "\t 2013       & 7          & 1          & NA         & 1100       & NA         & NA         & 1210       & NA         & MQ         & 3230       & N519MQ     & JFK        & DCA        & NA         &  213       & 11         &  0         & 1372676400\\\\\n",
       "\t 2013       & 7          & 1          & NA         & 1745       & NA         & NA         & 1925       & NA         & MQ         & 3301       & N521MQ     & LGA        & RDU        & NA         &  431       & 17         & 45         & 1372698000\\\\\n",
       "\t 2013       & 7          & 1          & NA         & 1700       & NA         & NA         & 1845       & NA         & MQ         & 3216       & N617MQ     & JFK        & ORF        & NA         &  290       & 17         &  0         & 1372698000\\\\\n",
       "\t 2013       & 7          & 1          & NA         & 1510       & NA         & NA         & 1635       & NA         & MQ         & 3433       & N514MQ     & JFK        & DCA        & NA         &  213       & 15         & 10         & 1372690800\\\\\n",
       "\t 2013       & 7          & 1          & NA         & 1610       & NA         & NA         & 1845       & NA         & MQ         & 3357       & N506MQ     & LGA        & ATL        & NA         &  762       & 16         & 10         & 1372694400\\\\\n",
       "\t 2013       & 7          & 1          & NA         & 1720       & NA         & NA         & 1850       & NA         & MQ         & 3365       & N852MQ     & JFK        & DCA        & NA         &  213       & 17         & 20         & 1372698000\\\\\n",
       "\t 2013       & 7          & 1          & NA         & 1325       & NA         & NA         & 1505       & NA         & MQ         & 3493       & N720MQ     & LGA        & CLE        & NA         &  419       & 13         & 25         & 1372683600\\\\\n",
       "\t 2013       & 7          & 1          & NA         & 1355       & NA         & NA         & 1550       & NA         & MQ         & 3567       & N6EAMQ     & LGA        & CLT        & NA         &  544       & 13         & 55         & 1372683600\\\\\n",
       "\t 2013       & 7          & 1          & NA         & 1935       & NA         & NA         & 2120       & NA         & MQ         & 3535       & N542MQ     & JFK        & CMH        & NA         &  483       & 19         & 35         & 1372705200\\\\\n",
       "\t 2013       & 7          & 1          & NA         & 1955       & NA         & NA         & 2145       & NA         & MQ         & 3573       & N720MQ     & LGA        & CMH        & NA         &  479       & 19         & 55         & 1372705200\\\\\n",
       "\t 2013       & 7          & 1          & NA         &  955       & NA         & NA         & 1115       & NA         & MQ         & 3670       & N531MQ     & LGA        & BNA        & NA         &  764       &  9         & 55         & 1372669200\\\\\n",
       "\t 2013       & 7          & 1          & NA         & 1055       & NA         & NA         & 1235       & NA         & MQ         & 3466       & N738MQ     & LGA        & RDU        & NA         &  431       & 10         & 55         & 1372672800\\\\\n",
       "\t 2013       & 7          & 1          & NA         & 1115       & NA         & NA         & 1230       & NA         & MQ         & 3718       & N508MQ     & EWR        & ORD        & NA         &  719       & 11         & 15         & 1372676400\\\\\n",
       "\t 2013       & 7          & 1          & NA         & 1155       & NA         & NA         & 1310       & NA         & MQ         & 3386       & N830MQ     & JFK        & DCA        & NA         &  213       & 11         & 55         & 1372676400\\\\\n",
       "\t 2013       & 7          & 1          & NA         & 1255       & NA         & NA         & 1440       & NA         & MQ         & 3388       & N711MQ     & LGA        & CMH        & NA         &  479       & 12         & 55         & 1372680000\\\\\n",
       "\t 2013       & 7          & 1          & NA         & 1855       & NA         & NA         & 2045       & NA         & UA         &  394       & NA         & EWR        & ORD        & NA         &  719       & 18         & 55         & 1372701600\\\\\n",
       "\t 2013       & 7          & 1          & NA         &  800       & NA         & NA         &  904       & NA         & US         & 2118       & NA         & LGA        & BOS        & NA         &  184       &  8         &  0         & 1372665600\\\\\n",
       "\t 2013       & 7          & 1          & NA         & 1000       & NA         & NA         & 1113       & NA         & US         & 2122       & NA         & LGA        & BOS        & NA         &  184       & 10         &  0         & 1372672800\\\\\n",
       "\t 2013       & 7          & 1          & NA         & 1200       & NA         & NA         & 1309       & NA         & US         & 2126       & NA         & LGA        & BOS        & NA         &  184       & 12         &  0         & 1372680000\\\\\n",
       "\t 2013       & 7          & 1          & NA         & 1500       & NA         & NA         & 1612       & NA         & US         & 2132       & NA         & LGA        & BOS        & NA         &  184       & 15         &  0         & 1372690800\\\\\n",
       "\t 2013       & 7          & 1          & NA         & 1700       & NA         & NA         & 1815       & NA         & US         & 2136       & NA         & LGA        & BOS        & NA         &  184       & 17         &  0         & 1372698000\\\\\n",
       "\t 2013       & 7          & 1          & NA         & 2000       & NA         & NA         & 2112       & NA         & US         & 2142       & NA         & LGA        & BOS        & NA         &  184       & 20         &  0         & 1372708800\\\\\n",
       "\t 2013       & 7          & 1          & NA         & 1100       & NA         & NA         & 1213       & NA         & US         & 2171       & NA         & LGA        & DCA        & NA         &  214       & 11         &  0         & 1372676400\\\\\n",
       "\t 2013       & 7          & 1          & NA         & 1200       & NA         & NA         & 1314       & NA         & US         & 2173       & NA         & LGA        & DCA        & NA         &  214       & 12         &  0         & 1372680000\\\\\n",
       "\t 2013       & 7          & 1          & NA         & 1700       & NA         & NA         & 1823       & NA         & US         & 2183       & NA         & LGA        & DCA        & NA         &  214       & 17         &  0         & 1372698000\\\\\n",
       "\t 2013       & 7          & 1          & NA         &  900       & NA         & NA         & 1035       & NA         & UA         & 1477       & NA         & LGA        & ORD        & NA         &  733       &  9         &  0         & 1372669200\\\\\n",
       "\t 2013       & 7          & 1          & NA         & 1629       & NA         & NA         & 1853       & NA         & US         &   17       & NA         & JFK        & PHX        & NA         & 2153       & 16         & 29         & 1372694400\\\\\n",
       "\\end{tabular}\n"
      ],
      "text/markdown": [
       "\n",
       "year | month | day | dep_time | sched_dep_time | dep_delay | arr_time | sched_arr_time | arr_delay | carrier | flight | tailnum | origin | dest | air_time | distance | hour | minute | time_hour | \n",
       "|---|---|---|---|---|---|---|---|---|---|---|---|---|---|---|---|---|---|---|---|---|---|---|---|---|---|---|---|---|---|---|---|---|---|---|---|---|---|---|---|---|---|---|---|---|---|---|---|---|---|---|---|---|---|---|---|---|---|---|---|---|\n",
       "| 2013       | 7          | 1          |   1        | 2029       | 212        | 236        | 2359       | 157        | B6         |  915       | N653JB     | JFK        | SFO        | 315        | 2586       | 20         | 29         | 1372708800 | \n",
       "| 2013       | 7          | 1          |   2        | 2359       |   3        | 344        |  344       |   0        | B6         | 1503       | N805JB     | JFK        | SJU        | 200        | 1598       | 23         | 59         | 1372719600 | \n",
       "| 2013       | 7          | 1          |  29        | 2245       | 104        | 151        |    1       | 110        | B6         |  234       | N348JB     | JFK        | BTV        |  66        |  266       | 22         | 45         | 1372716000 | \n",
       "| 2013       | 7          | 1          |  43        | 2130       | 193        | 322        |   14       | 188        | B6         | 1371       | N794JB     | LGA        | FLL        | 143        | 1076       | 21         | 30         | 1372712400 | \n",
       "| 2013       | 7          | 1          |  44        | 2150       | 174        | 300        |  100       | 120        | AA         |  185       | N324AA     | JFK        | LAX        | 297        | 2475       | 21         | 50         | 1372712400 | \n",
       "| 2013       | 7          | 1          |  46        | 2051       | 235        | 304        | 2358       | 186        | B6         |  165       | N640JB     | JFK        | PDX        | 304        | 2454       | 20         | 51         | 1372708800 | \n",
       "| 2013       | 7          | 1          |  48        | 2001       | 287        | 308        | 2305       | 243        | VX         |  415       | N627VA     | JFK        | LAX        | 298        | 2475       | 20         |  1         | 1372708800 | \n",
       "| 2013       | 7          | 1          |  58        | 2155       | 183        | 335        |   43       | 172        | B6         |  425       | N535JB     | JFK        | TPA        | 140        | 1005       | 21         | 55         | 1372712400 | \n",
       "| 2013       | 7          | 1          | 100        | 2146       | 194        | 327        |   30       | 177        | B6         | 1183       | N531JB     | JFK        | MCO        | 126        |  944       | 21         | 46         | 1372712400 | \n",
       "| 2013       | 7          | 1          | 100        | 2245       | 135        | 337        |  135       | 122        | B6         |  623       | N663JB     | JFK        | LAX        | 304        | 2475       | 22         | 45         | 1372716000 | \n",
       "| 2013       | 7          | 1          | 107        | 2245       | 142        | 158        | 2359       | 119        | B6         | 1816       | N249JB     | JFK        | SYR        |  39        |  209       | 22         | 45         | 1372716000 | \n",
       "| 2013       | 7          | 1          | 111        | 2359       |  72        | 448        |  340       |  68        | B6         |  839       | N608JB     | JFK        | BQN        | 199        | 1576       | 23         | 59         | 1372719600 | \n",
       "| 2013       | 7          | 1          | 114        | 2135       | 219        | 310        |    8       | 182        | B6         |  611       | N584JB     | JFK        | LAS        | 276        | 2248       | 21         | 35         | 1372712400 | \n",
       "| 2013       | 7          | 1          | 459        |  500       |  -1        | 642        |  640       |   2        | US         | 1431       | N167US     | EWR        | CLT        |  87        |  529       |  5         |  0         | 1372654800 | \n",
       "| 2013       | 7          | 1          | 538        |  540       |  -2        | 800        |  810       | -10        | UA         |  332       | N442UA     | EWR        | IAH        | 185        | 1400       |  5         | 40         | 1372654800 | \n",
       "| 2013       | 7          | 1          | 540        |  540       |   0        | 841        |  840       |   1        | AA         |  701       | N5ENAA     | JFK        | MIA        | 155        | 1089       |  5         | 40         | 1372654800 | \n",
       "| 2013       | 7          | 1          | 543        |  545       |  -2        | 932        |  921       |  11        | B6         |  939       | N708JB     | JFK        | BQN        | 198        | 1576       |  5         | 45         | 1372654800 | \n",
       "| 2013       | 7          | 1          | 547        |  548       |  -1        | 903        |  851       |  12        | UA         |  651       | N545UA     | EWR        | SFO        | 343        | 2565       |  5         | 48         | 1372654800 | \n",
       "| 2013       | 7          | 1          | 548        |  545       |   3        | 815        |  819       |  -4        | UA         | 1714       | N14237     | LGA        | IAH        | 188        | 1416       |  5         | 45         | 1372654800 | \n",
       "| 2013       | 7          | 1          | 549        |  600       | -11        | 645        |  655       | -10        | US         | 1629       | N959UW     | LGA        | PHL        |  37        |   96       |  6         |  0         | 1372658400 | \n",
       "| 2013       | 7          | 1          | 551        |  600       |  -9        | 721        |  700       |  21        | US         | 2114       | N751UW     | LGA        | BOS        |  38        |  184       |  6         |  0         | 1372658400 | \n",
       "| 2013       | 7          | 1          | 554        |  600       |  -6        | 707        |  659       |   8        | US         | 2161       | N752US     | LGA        | DCA        |  45        |  214       |  6         |  0         | 1372658400 | \n",
       "| 2013       | 7          | 1          | 556        |  600       |  -4        | 820        |  825       |  -5        | DL         |  461       | N915DL     | LGA        | ATL        | 119        |  762       |  6         |  0         | 1372658400 | \n",
       "| 2013       | 7          | 1          | 557        |  600       |  -3        | 817        |  802       |  15        | EV         | 4372       | N21129     | EWR        | MSP        | 154        | 1008       |  6         |  0         | 1372658400 | \n",
       "| 2013       | 7          | 1          | 557        |  600       |  -3        | 727        |  730       |  -3        | EV         | 4424       | N18101     | EWR        | RDU        |  69        |  416       |  6         |  0         | 1372658400 | \n",
       "| 2013       | 7          | 1          | 557        |  600       |  -3        | 719        |  716       |   3        | EV         | 6177       | N13908     | EWR        | IAD        |  47        |  212       |  6         |  0         | 1372658400 | \n",
       "| 2013       | 7          | 1          | 557        |  600       |  -3        | 712        |  725       | -13        | AA         |  301       | N496AA     | LGA        | ORD        | 110        |  733       |  6         |  0         | 1372658400 | \n",
       "| 2013       | 7          | 1          | 557        |  605       |  -8        | 838        |  820       |  18        | MQ         | 3550       | N521MQ     | LGA        | ATL        | 123        |  762       |  6         |  5         | 1372658400 | \n",
       "| 2013       | 7          | 1          | 557        |  600       |  -3        | 828        |  907       | -39        | UA         | 1209       | N11206     | EWR        | LAX        | 300        | 2454       |  6         |  0         | 1372658400 | \n",
       "| 2013       | 7          | 1          | 559        |  605       |  -6        | 748        |  735       |  13        | MQ         | 3525       | N721MQ     | LGA        | RDU        |  72        |  431       |  6         |  5         | 1372658400 | \n",
       "| ⋮ | ⋮ | ⋮ | ⋮ | ⋮ | ⋮ | ⋮ | ⋮ | ⋮ | ⋮ | ⋮ | ⋮ | ⋮ | ⋮ | ⋮ | ⋮ | ⋮ | ⋮ | ⋮ | \n",
       "| 2013       | 7          | 1          | NA         | 1640       | NA         | NA         | 1815       | NA         | MQ         | 2949       | N662MQ     | JFK        | BNA        | NA         |  765       | 16         | 40         | 1372694400 | \n",
       "| 2013       | 7          | 1          | NA         | 1830       | NA         | NA         | 1940       | NA         | MQ         | 3044       | N607MQ     | JFK        | BWI        | NA         |  184       | 18         | 30         | 1372701600 | \n",
       "| 2013       | 7          | 1          | NA         | 1825       | NA         | NA         | 2005       | NA         | MQ         | 3134       | N532MQ     | EWR        | ORD        | NA         |  719       | 18         | 25         | 1372701600 | \n",
       "| 2013       | 7          | 1          | NA         | 1100       | NA         | NA         | 1210       | NA         | MQ         | 3230       | N519MQ     | JFK        | DCA        | NA         |  213       | 11         |  0         | 1372676400 | \n",
       "| 2013       | 7          | 1          | NA         | 1745       | NA         | NA         | 1925       | NA         | MQ         | 3301       | N521MQ     | LGA        | RDU        | NA         |  431       | 17         | 45         | 1372698000 | \n",
       "| 2013       | 7          | 1          | NA         | 1700       | NA         | NA         | 1845       | NA         | MQ         | 3216       | N617MQ     | JFK        | ORF        | NA         |  290       | 17         |  0         | 1372698000 | \n",
       "| 2013       | 7          | 1          | NA         | 1510       | NA         | NA         | 1635       | NA         | MQ         | 3433       | N514MQ     | JFK        | DCA        | NA         |  213       | 15         | 10         | 1372690800 | \n",
       "| 2013       | 7          | 1          | NA         | 1610       | NA         | NA         | 1845       | NA         | MQ         | 3357       | N506MQ     | LGA        | ATL        | NA         |  762       | 16         | 10         | 1372694400 | \n",
       "| 2013       | 7          | 1          | NA         | 1720       | NA         | NA         | 1850       | NA         | MQ         | 3365       | N852MQ     | JFK        | DCA        | NA         |  213       | 17         | 20         | 1372698000 | \n",
       "| 2013       | 7          | 1          | NA         | 1325       | NA         | NA         | 1505       | NA         | MQ         | 3493       | N720MQ     | LGA        | CLE        | NA         |  419       | 13         | 25         | 1372683600 | \n",
       "| 2013       | 7          | 1          | NA         | 1355       | NA         | NA         | 1550       | NA         | MQ         | 3567       | N6EAMQ     | LGA        | CLT        | NA         |  544       | 13         | 55         | 1372683600 | \n",
       "| 2013       | 7          | 1          | NA         | 1935       | NA         | NA         | 2120       | NA         | MQ         | 3535       | N542MQ     | JFK        | CMH        | NA         |  483       | 19         | 35         | 1372705200 | \n",
       "| 2013       | 7          | 1          | NA         | 1955       | NA         | NA         | 2145       | NA         | MQ         | 3573       | N720MQ     | LGA        | CMH        | NA         |  479       | 19         | 55         | 1372705200 | \n",
       "| 2013       | 7          | 1          | NA         |  955       | NA         | NA         | 1115       | NA         | MQ         | 3670       | N531MQ     | LGA        | BNA        | NA         |  764       |  9         | 55         | 1372669200 | \n",
       "| 2013       | 7          | 1          | NA         | 1055       | NA         | NA         | 1235       | NA         | MQ         | 3466       | N738MQ     | LGA        | RDU        | NA         |  431       | 10         | 55         | 1372672800 | \n",
       "| 2013       | 7          | 1          | NA         | 1115       | NA         | NA         | 1230       | NA         | MQ         | 3718       | N508MQ     | EWR        | ORD        | NA         |  719       | 11         | 15         | 1372676400 | \n",
       "| 2013       | 7          | 1          | NA         | 1155       | NA         | NA         | 1310       | NA         | MQ         | 3386       | N830MQ     | JFK        | DCA        | NA         |  213       | 11         | 55         | 1372676400 | \n",
       "| 2013       | 7          | 1          | NA         | 1255       | NA         | NA         | 1440       | NA         | MQ         | 3388       | N711MQ     | LGA        | CMH        | NA         |  479       | 12         | 55         | 1372680000 | \n",
       "| 2013       | 7          | 1          | NA         | 1855       | NA         | NA         | 2045       | NA         | UA         |  394       | NA         | EWR        | ORD        | NA         |  719       | 18         | 55         | 1372701600 | \n",
       "| 2013       | 7          | 1          | NA         |  800       | NA         | NA         |  904       | NA         | US         | 2118       | NA         | LGA        | BOS        | NA         |  184       |  8         |  0         | 1372665600 | \n",
       "| 2013       | 7          | 1          | NA         | 1000       | NA         | NA         | 1113       | NA         | US         | 2122       | NA         | LGA        | BOS        | NA         |  184       | 10         |  0         | 1372672800 | \n",
       "| 2013       | 7          | 1          | NA         | 1200       | NA         | NA         | 1309       | NA         | US         | 2126       | NA         | LGA        | BOS        | NA         |  184       | 12         |  0         | 1372680000 | \n",
       "| 2013       | 7          | 1          | NA         | 1500       | NA         | NA         | 1612       | NA         | US         | 2132       | NA         | LGA        | BOS        | NA         |  184       | 15         |  0         | 1372690800 | \n",
       "| 2013       | 7          | 1          | NA         | 1700       | NA         | NA         | 1815       | NA         | US         | 2136       | NA         | LGA        | BOS        | NA         |  184       | 17         |  0         | 1372698000 | \n",
       "| 2013       | 7          | 1          | NA         | 2000       | NA         | NA         | 2112       | NA         | US         | 2142       | NA         | LGA        | BOS        | NA         |  184       | 20         |  0         | 1372708800 | \n",
       "| 2013       | 7          | 1          | NA         | 1100       | NA         | NA         | 1213       | NA         | US         | 2171       | NA         | LGA        | DCA        | NA         |  214       | 11         |  0         | 1372676400 | \n",
       "| 2013       | 7          | 1          | NA         | 1200       | NA         | NA         | 1314       | NA         | US         | 2173       | NA         | LGA        | DCA        | NA         |  214       | 12         |  0         | 1372680000 | \n",
       "| 2013       | 7          | 1          | NA         | 1700       | NA         | NA         | 1823       | NA         | US         | 2183       | NA         | LGA        | DCA        | NA         |  214       | 17         |  0         | 1372698000 | \n",
       "| 2013       | 7          | 1          | NA         |  900       | NA         | NA         | 1035       | NA         | UA         | 1477       | NA         | LGA        | ORD        | NA         |  733       |  9         |  0         | 1372669200 | \n",
       "| 2013       | 7          | 1          | NA         | 1629       | NA         | NA         | 1853       | NA         | US         |   17       | NA         | JFK        | PHX        | NA         | 2153       | 16         | 29         | 1372694400 | \n",
       "\n",
       "\n"
      ],
      "text/plain": [
       "    year month day dep_time sched_dep_time dep_delay arr_time sched_arr_time\n",
       "1   2013 7     1     1      2029           212       236      2359          \n",
       "2   2013 7     1     2      2359             3       344       344          \n",
       "3   2013 7     1    29      2245           104       151         1          \n",
       "4   2013 7     1    43      2130           193       322        14          \n",
       "5   2013 7     1    44      2150           174       300       100          \n",
       "6   2013 7     1    46      2051           235       304      2358          \n",
       "7   2013 7     1    48      2001           287       308      2305          \n",
       "8   2013 7     1    58      2155           183       335        43          \n",
       "9   2013 7     1   100      2146           194       327        30          \n",
       "10  2013 7     1   100      2245           135       337       135          \n",
       "11  2013 7     1   107      2245           142       158      2359          \n",
       "12  2013 7     1   111      2359            72       448       340          \n",
       "13  2013 7     1   114      2135           219       310         8          \n",
       "14  2013 7     1   459       500            -1       642       640          \n",
       "15  2013 7     1   538       540            -2       800       810          \n",
       "16  2013 7     1   540       540             0       841       840          \n",
       "17  2013 7     1   543       545            -2       932       921          \n",
       "18  2013 7     1   547       548            -1       903       851          \n",
       "19  2013 7     1   548       545             3       815       819          \n",
       "20  2013 7     1   549       600           -11       645       655          \n",
       "21  2013 7     1   551       600            -9       721       700          \n",
       "22  2013 7     1   554       600            -6       707       659          \n",
       "23  2013 7     1   556       600            -4       820       825          \n",
       "24  2013 7     1   557       600            -3       817       802          \n",
       "25  2013 7     1   557       600            -3       727       730          \n",
       "26  2013 7     1   557       600            -3       719       716          \n",
       "27  2013 7     1   557       600            -3       712       725          \n",
       "28  2013 7     1   557       605            -8       838       820          \n",
       "29  2013 7     1   557       600            -3       828       907          \n",
       "30  2013 7     1   559       605            -6       748       735          \n",
       "⋮   ⋮    ⋮     ⋮   ⋮        ⋮              ⋮         ⋮        ⋮             \n",
       "937 2013 7     1   NA       1640           NA        NA       1815          \n",
       "938 2013 7     1   NA       1830           NA        NA       1940          \n",
       "939 2013 7     1   NA       1825           NA        NA       2005          \n",
       "940 2013 7     1   NA       1100           NA        NA       1210          \n",
       "941 2013 7     1   NA       1745           NA        NA       1925          \n",
       "942 2013 7     1   NA       1700           NA        NA       1845          \n",
       "943 2013 7     1   NA       1510           NA        NA       1635          \n",
       "944 2013 7     1   NA       1610           NA        NA       1845          \n",
       "945 2013 7     1   NA       1720           NA        NA       1850          \n",
       "946 2013 7     1   NA       1325           NA        NA       1505          \n",
       "947 2013 7     1   NA       1355           NA        NA       1550          \n",
       "948 2013 7     1   NA       1935           NA        NA       2120          \n",
       "949 2013 7     1   NA       1955           NA        NA       2145          \n",
       "950 2013 7     1   NA        955           NA        NA       1115          \n",
       "951 2013 7     1   NA       1055           NA        NA       1235          \n",
       "952 2013 7     1   NA       1115           NA        NA       1230          \n",
       "953 2013 7     1   NA       1155           NA        NA       1310          \n",
       "954 2013 7     1   NA       1255           NA        NA       1440          \n",
       "955 2013 7     1   NA       1855           NA        NA       2045          \n",
       "956 2013 7     1   NA        800           NA        NA        904          \n",
       "957 2013 7     1   NA       1000           NA        NA       1113          \n",
       "958 2013 7     1   NA       1200           NA        NA       1309          \n",
       "959 2013 7     1   NA       1500           NA        NA       1612          \n",
       "960 2013 7     1   NA       1700           NA        NA       1815          \n",
       "961 2013 7     1   NA       2000           NA        NA       2112          \n",
       "962 2013 7     1   NA       1100           NA        NA       1213          \n",
       "963 2013 7     1   NA       1200           NA        NA       1314          \n",
       "964 2013 7     1   NA       1700           NA        NA       1823          \n",
       "965 2013 7     1   NA        900           NA        NA       1035          \n",
       "966 2013 7     1   NA       1629           NA        NA       1853          \n",
       "    arr_delay carrier flight tailnum origin dest air_time distance hour minute\n",
       "1   157       B6       915   N653JB  JFK    SFO  315      2586     20   29    \n",
       "2     0       B6      1503   N805JB  JFK    SJU  200      1598     23   59    \n",
       "3   110       B6       234   N348JB  JFK    BTV   66       266     22   45    \n",
       "4   188       B6      1371   N794JB  LGA    FLL  143      1076     21   30    \n",
       "5   120       AA       185   N324AA  JFK    LAX  297      2475     21   50    \n",
       "6   186       B6       165   N640JB  JFK    PDX  304      2454     20   51    \n",
       "7   243       VX       415   N627VA  JFK    LAX  298      2475     20    1    \n",
       "8   172       B6       425   N535JB  JFK    TPA  140      1005     21   55    \n",
       "9   177       B6      1183   N531JB  JFK    MCO  126       944     21   46    \n",
       "10  122       B6       623   N663JB  JFK    LAX  304      2475     22   45    \n",
       "11  119       B6      1816   N249JB  JFK    SYR   39       209     22   45    \n",
       "12   68       B6       839   N608JB  JFK    BQN  199      1576     23   59    \n",
       "13  182       B6       611   N584JB  JFK    LAS  276      2248     21   35    \n",
       "14    2       US      1431   N167US  EWR    CLT   87       529      5    0    \n",
       "15  -10       UA       332   N442UA  EWR    IAH  185      1400      5   40    \n",
       "16    1       AA       701   N5ENAA  JFK    MIA  155      1089      5   40    \n",
       "17   11       B6       939   N708JB  JFK    BQN  198      1576      5   45    \n",
       "18   12       UA       651   N545UA  EWR    SFO  343      2565      5   48    \n",
       "19   -4       UA      1714   N14237  LGA    IAH  188      1416      5   45    \n",
       "20  -10       US      1629   N959UW  LGA    PHL   37        96      6    0    \n",
       "21   21       US      2114   N751UW  LGA    BOS   38       184      6    0    \n",
       "22    8       US      2161   N752US  LGA    DCA   45       214      6    0    \n",
       "23   -5       DL       461   N915DL  LGA    ATL  119       762      6    0    \n",
       "24   15       EV      4372   N21129  EWR    MSP  154      1008      6    0    \n",
       "25   -3       EV      4424   N18101  EWR    RDU   69       416      6    0    \n",
       "26    3       EV      6177   N13908  EWR    IAD   47       212      6    0    \n",
       "27  -13       AA       301   N496AA  LGA    ORD  110       733      6    0    \n",
       "28   18       MQ      3550   N521MQ  LGA    ATL  123       762      6    5    \n",
       "29  -39       UA      1209   N11206  EWR    LAX  300      2454      6    0    \n",
       "30   13       MQ      3525   N721MQ  LGA    RDU   72       431      6    5    \n",
       "⋮   ⋮         ⋮       ⋮      ⋮       ⋮      ⋮    ⋮        ⋮        ⋮    ⋮     \n",
       "937 NA        MQ      2949   N662MQ  JFK    BNA  NA        765     16   40    \n",
       "938 NA        MQ      3044   N607MQ  JFK    BWI  NA        184     18   30    \n",
       "939 NA        MQ      3134   N532MQ  EWR    ORD  NA        719     18   25    \n",
       "940 NA        MQ      3230   N519MQ  JFK    DCA  NA        213     11    0    \n",
       "941 NA        MQ      3301   N521MQ  LGA    RDU  NA        431     17   45    \n",
       "942 NA        MQ      3216   N617MQ  JFK    ORF  NA        290     17    0    \n",
       "943 NA        MQ      3433   N514MQ  JFK    DCA  NA        213     15   10    \n",
       "944 NA        MQ      3357   N506MQ  LGA    ATL  NA        762     16   10    \n",
       "945 NA        MQ      3365   N852MQ  JFK    DCA  NA        213     17   20    \n",
       "946 NA        MQ      3493   N720MQ  LGA    CLE  NA        419     13   25    \n",
       "947 NA        MQ      3567   N6EAMQ  LGA    CLT  NA        544     13   55    \n",
       "948 NA        MQ      3535   N542MQ  JFK    CMH  NA        483     19   35    \n",
       "949 NA        MQ      3573   N720MQ  LGA    CMH  NA        479     19   55    \n",
       "950 NA        MQ      3670   N531MQ  LGA    BNA  NA        764      9   55    \n",
       "951 NA        MQ      3466   N738MQ  LGA    RDU  NA        431     10   55    \n",
       "952 NA        MQ      3718   N508MQ  EWR    ORD  NA        719     11   15    \n",
       "953 NA        MQ      3386   N830MQ  JFK    DCA  NA        213     11   55    \n",
       "954 NA        MQ      3388   N711MQ  LGA    CMH  NA        479     12   55    \n",
       "955 NA        UA       394   NA      EWR    ORD  NA        719     18   55    \n",
       "956 NA        US      2118   NA      LGA    BOS  NA        184      8    0    \n",
       "957 NA        US      2122   NA      LGA    BOS  NA        184     10    0    \n",
       "958 NA        US      2126   NA      LGA    BOS  NA        184     12    0    \n",
       "959 NA        US      2132   NA      LGA    BOS  NA        184     15    0    \n",
       "960 NA        US      2136   NA      LGA    BOS  NA        184     17    0    \n",
       "961 NA        US      2142   NA      LGA    BOS  NA        184     20    0    \n",
       "962 NA        US      2171   NA      LGA    DCA  NA        214     11    0    \n",
       "963 NA        US      2173   NA      LGA    DCA  NA        214     12    0    \n",
       "964 NA        US      2183   NA      LGA    DCA  NA        214     17    0    \n",
       "965 NA        UA      1477   NA      LGA    ORD  NA        733      9    0    \n",
       "966 NA        US        17   NA      JFK    PHX  NA       2153     16   29    \n",
       "    time_hour \n",
       "1   1372708800\n",
       "2   1372719600\n",
       "3   1372716000\n",
       "4   1372712400\n",
       "5   1372712400\n",
       "6   1372708800\n",
       "7   1372708800\n",
       "8   1372712400\n",
       "9   1372712400\n",
       "10  1372716000\n",
       "11  1372716000\n",
       "12  1372719600\n",
       "13  1372712400\n",
       "14  1372654800\n",
       "15  1372654800\n",
       "16  1372654800\n",
       "17  1372654800\n",
       "18  1372654800\n",
       "19  1372654800\n",
       "20  1372658400\n",
       "21  1372658400\n",
       "22  1372658400\n",
       "23  1372658400\n",
       "24  1372658400\n",
       "25  1372658400\n",
       "26  1372658400\n",
       "27  1372658400\n",
       "28  1372658400\n",
       "29  1372658400\n",
       "30  1372658400\n",
       "⋮   ⋮         \n",
       "937 1372694400\n",
       "938 1372701600\n",
       "939 1372701600\n",
       "940 1372676400\n",
       "941 1372698000\n",
       "942 1372698000\n",
       "943 1372690800\n",
       "944 1372694400\n",
       "945 1372698000\n",
       "946 1372683600\n",
       "947 1372683600\n",
       "948 1372705200\n",
       "949 1372705200\n",
       "950 1372669200\n",
       "951 1372672800\n",
       "952 1372676400\n",
       "953 1372676400\n",
       "954 1372680000\n",
       "955 1372701600\n",
       "956 1372665600\n",
       "957 1372672800\n",
       "958 1372680000\n",
       "959 1372690800\n",
       "960 1372698000\n",
       "961 1372708800\n",
       "962 1372676400\n",
       "963 1372680000\n",
       "964 1372698000\n",
       "965 1372669200\n",
       "966 1372694400"
      ]
     },
     "metadata": {},
     "output_type": "display_data"
    }
   ],
   "source": [
    "collect (c1)"
   ]
  },
  {
   "cell_type": "code",
   "execution_count": 45,
   "metadata": {
    "collapsed": false
   },
   "outputs": [
    {
     "data": {
      "text/plain": [
       "NULL"
      ]
     },
     "metadata": {},
     "output_type": "display_data"
    }
   ],
   "source": [
    "c1$query"
   ]
  },
  {
   "cell_type": "code",
   "execution_count": 47,
   "metadata": {
    "collapsed": false
   },
   "outputs": [
    {
     "name": "stderr",
     "output_type": "stream",
     "text": [
      "<SQL>\n",
      "SELECT `year` AS `year`, `month` AS `month`, `day` AS `day`, `carrier` AS `carrier`, `dep_delay` AS `dep_delay`, `air_time` AS `air_time`, `distance` AS `distance`\n",
      "FROM (SELECT *\n",
      "FROM `flights`\n",
      "WHERE ((`year` = 2013.0) AND (`month` = 7.0) AND (`day` = 1.0)))\n",
      "\n",
      "\n",
      "<PLAN>\n",
      "   addr       opcode p1    p2 p3       p4 p5 comment\n",
      "1     0         Init  0    25  0          00      NA\n",
      "2     1     OpenRead  1   131  0       19 00      NA\n",
      "3     2     OpenRead  2 22656  0 k(4,,,,) 02      NA\n",
      "4     3         Real  0     1  0     2013 00      NA\n",
      "5     4         Real  0     2  0        7 00      NA\n",
      "6     5         Real  0     3  0        1 00      NA\n",
      "7     6     Affinity  1     3  0      DDD 00      NA\n",
      "8     7       SeekGE  2    22  1        3 00      NA\n",
      "9     8        IdxGT  2    22  1        3 00      NA\n",
      "10    9         Seek  2     0  1          00      NA\n",
      "11   10       Column  2     0  4          00      NA\n",
      "12   11       Column  2     1  5          00      NA\n",
      "13   12       Column  2     2  6          00      NA\n",
      "14   13       Column  1     9  7          00      NA\n",
      "15   14       Column  1     5  8          00      NA\n",
      "16   15 RealAffinity  8     0  0          00      NA\n",
      "17   16       Column  1    14  9          00      NA\n",
      "18   17 RealAffinity  9     0  0          00      NA\n",
      "19   18       Column  1    15 10          00      NA\n",
      "20   19 RealAffinity 10     0  0          00      NA\n",
      "21   20    ResultRow  4     7  0          00      NA\n",
      "22   21         Next  2     8  1          00      NA\n",
      "23   22        Close  1     0  0          00      NA\n",
      "24   23        Close  2     0  0          00      NA\n",
      "25   24         Halt  0     0  0          00      NA\n",
      "26   25  Transaction  0     0 16        0 01      NA\n",
      "27   26    TableLock  0   131  0  flights 00      NA\n",
      "28   27         Goto  0     1  0          00      NA\n"
     ]
    }
   ],
   "source": [
    "explain(c2)"
   ]
  },
  {
   "cell_type": "code",
   "execution_count": 49,
   "metadata": {
    "collapsed": false
   },
   "outputs": [
    {
     "data": {
      "text/plain": [
       "[1] NA"
      ]
     },
     "metadata": {},
     "output_type": "display_data"
    }
   ],
   "source": [
    "nrow(c2) "
   ]
  },
  {
   "cell_type": "code",
   "execution_count": 53,
   "metadata": {
    "collapsed": false
   },
   "outputs": [
    {
     "data": {
      "text/html": [
       "336776"
      ],
      "text/latex": [
       "336776"
      ],
      "text/markdown": [
       "336776"
      ],
      "text/plain": [
       "[1] 336776"
      ]
     },
     "metadata": {},
     "output_type": "display_data"
    }
   ],
   "source": [
    "nrow(flights)"
   ]
  },
  {
   "cell_type": "code",
   "execution_count": 54,
   "metadata": {
    "collapsed": false
   },
   "outputs": [
    {
     "data": {
      "text/html": [
       "'\"x\"'"
      ],
      "text/latex": [
       "'\"x\"'"
      ],
      "text/markdown": [
       "'\"x\"'"
      ],
      "text/plain": [
       "<SQL> \"x\""
      ]
     },
     "metadata": {},
     "output_type": "display_data"
    }
   ],
   "source": [
    "translate_sql(x)"
   ]
  },
  {
   "cell_type": "code",
   "execution_count": 56,
   "metadata": {
    "collapsed": false
   },
   "outputs": [
    {
     "data": {
      "text/html": [
       "'\\'x''"
      ],
      "text/latex": [
       "'\\textbackslash{}'x''"
      ],
      "text/markdown": [
       "'\\'x''"
      ],
      "text/plain": [
       "<SQL> 'x'"
      ]
     },
     "metadata": {},
     "output_type": "display_data"
    }
   ],
   "source": [
    "translate_sql(\"x\")"
   ]
  },
  {
   "cell_type": "code",
   "execution_count": 57,
   "metadata": {
    "collapsed": false
   },
   "outputs": [
    {
     "data": {
      "text/html": [
       "'\"x\" = 1.0 AND (\"y\" &lt; 2.0 OR \"z\" &gt; 3.0)'"
      ],
      "text/latex": [
       "'\"x\" = 1.0 AND (\"y\" < 2.0 OR \"z\" > 3.0)'"
      ],
      "text/markdown": [
       "'\"x\" = 1.0 AND (\"y\" &lt; 2.0 OR \"z\" &gt; 3.0)'"
      ],
      "text/plain": [
       "<SQL> \"x\" = 1.0 AND (\"y\" < 2.0 OR \"z\" > 3.0)"
      ]
     },
     "metadata": {},
     "output_type": "display_data"
    }
   ],
   "source": [
    "translate_sql(x == 1 && (y < 2 || z > 3))"
   ]
  },
  {
   "cell_type": "code",
   "execution_count": 58,
   "metadata": {
    "collapsed": false
   },
   "outputs": [
    {
     "data": {
      "text/html": [
       "'POWER(\"x\", 2.0) &lt; 10.0'"
      ],
      "text/latex": [
       "'POWER(\"x\", 2.0) < 10.0'"
      ],
      "text/markdown": [
       "'POWER(\"x\", 2.0) &lt; 10.0'"
      ],
      "text/plain": [
       "<SQL> POWER(\"x\", 2.0) < 10.0"
      ]
     },
     "metadata": {},
     "output_type": "display_data"
    }
   ],
   "source": [
    "translate_sql(x ^ 2 < 10)"
   ]
  },
  {
   "cell_type": "code",
   "execution_count": 59,
   "metadata": {
    "collapsed": false
   },
   "outputs": [
    {
     "data": {
      "text/html": [
       "'\"x\" % 2.0 = 10.0'"
      ],
      "text/latex": [
       "'\"x\" \\% 2.0 = 10.0'"
      ],
      "text/markdown": [
       "'\"x\" % 2.0 = 10.0'"
      ],
      "text/plain": [
       "<SQL> \"x\" % 2.0 = 10.0"
      ]
     },
     "metadata": {},
     "output_type": "display_data"
    }
   ],
   "source": [
    "translate_sql(x %% 2 == 10)"
   ]
  },
  {
   "cell_type": "code",
   "execution_count": 60,
   "metadata": {
    "collapsed": false
   },
   "outputs": [
    {
     "data": {
      "text/html": [
       "'1.0'"
      ],
      "text/latex": [
       "'1.0'"
      ],
      "text/markdown": [
       "'1.0'"
      ],
      "text/plain": [
       "<SQL> 1.0"
      ]
     },
     "metadata": {},
     "output_type": "display_data"
    }
   ],
   "source": [
    "translate_sql(1)"
   ]
  },
  {
   "cell_type": "code",
   "execution_count": 61,
   "metadata": {
    "collapsed": false
   },
   "outputs": [
    {
     "data": {
      "text/html": [
       "'1'"
      ],
      "text/latex": [
       "'1'"
      ],
      "text/markdown": [
       "'1'"
      ],
      "text/plain": [
       "<SQL> 1"
      ]
     },
     "metadata": {},
     "output_type": "display_data"
    }
   ],
   "source": [
    "translate_sql(1L)"
   ]
  },
  {
   "cell_type": "code",
   "execution_count": 63,
   "metadata": {
    "collapsed": false
   },
   "outputs": [
    {
     "data": {
      "text/html": [
       "4"
      ],
      "text/latex": [
       "4"
      ],
      "text/markdown": [
       "4"
      ],
      "text/plain": [
       "[1] 4"
      ]
     },
     "metadata": {},
     "output_type": "display_data"
    }
   ],
   "source": [
    "x<-4\n",
    "mean(x)"
   ]
  },
  {
   "cell_type": "code",
   "execution_count": 64,
   "metadata": {
    "collapsed": false
   },
   "outputs": [
    {
     "ename": "ERROR",
     "evalue": "Error in mean(x, trim = T): unused argument (trim = T)\n",
     "output_type": "error",
     "traceback": [
      "Error in mean(x, trim = T): unused argument (trim = T)\nTraceback:\n",
      "1. translate_sql(mean(x, trim = T))",
      "2. translate_sql_(dots, con = con, vars = vars, vars_group = vars_group, \n .     vars_order = vars_order, window = window)",
      "3. lapply(expr, function(x) {\n .     if (is.atomic(x)) \n .         return(escape(x, con = con))\n .     env <- sql_env(x, variant, con, window = window)\n .     escape(eval(x, envir = env))\n . })",
      "4. FUN(X[[i]], ...)",
      "5. escape(eval(x, envir = env))",
      "6. eval(x, envir = env)",
      "7. eval(expr, envir, enclos)",
      "8. mean(x, trim = T)"
     ]
    }
   ],
   "source": [
    "translate_sql(mean(x, trim = T))"
   ]
  },
  {
   "cell_type": "code",
   "execution_count": 65,
   "metadata": {
    "collapsed": false
   },
   "outputs": [
    {
     "data": {
      "text/html": [
       "'GLOB(\"x\", \"y\")'"
      ],
      "text/latex": [
       "'GLOB(\"x\", \"y\")'"
      ],
      "text/markdown": [
       "'GLOB(\"x\", \"y\")'"
      ],
      "text/plain": [
       "<SQL> GLOB(\"x\", \"y\")"
      ]
     },
     "metadata": {},
     "output_type": "display_data"
    }
   ],
   "source": [
    "translate_sql(glob(x, y))"
   ]
  },
  {
   "cell_type": "code",
   "execution_count": 66,
   "metadata": {
    "collapsed": false
   },
   "outputs": [
    {
     "data": {
      "text/html": [
       "'\"x\" LIKE \\'ab*''"
      ],
      "text/latex": [
       "'\"x\" LIKE \\textbackslash{}'ab*''"
      ],
      "text/markdown": [
       "'\"x\" LIKE \\'ab*''"
      ],
      "text/plain": [
       "<SQL> \"x\" LIKE 'ab*'"
      ]
     },
     "metadata": {},
     "output_type": "display_data"
    }
   ],
   "source": [
    "translate_sql(x %like% \"ab*\")"
   ]
  },
  {
   "cell_type": "code",
   "execution_count": 67,
   "metadata": {
    "collapsed": true
   },
   "outputs": [],
   "source": [
    "by_tailnum <- group_by(flights_sqlite, tailnum)\n",
    "delay <- summarise(by_tailnum,\n",
    "  count = n(),\n",
    "  dist = mean(distance),\n",
    "  delay = mean(arr_delay)\n",
    ")\n",
    "delay <- filter(delay, count > 20, dist < 2000)\n",
    "delay_local <- collect(delay)"
   ]
  },
  {
   "cell_type": "code",
   "execution_count": 68,
   "metadata": {
    "collapsed": false
   },
   "outputs": [
    {
     "data": {
      "text/html": [
       "<table>\n",
       "<thead><tr><th scope=col>tailnum</th><th scope=col>count</th><th scope=col>dist</th><th scope=col>delay</th></tr></thead>\n",
       "<tbody>\n",
       "\t<tr><td>NA        </td><td>2512      </td><td>710.2576  </td><td>        NA</td></tr>\n",
       "\t<tr><td>N0EGMQ    </td><td> 371      </td><td>676.1887  </td><td> 9.9829545</td></tr>\n",
       "\t<tr><td>N10156    </td><td> 153      </td><td>757.9477  </td><td>12.7172414</td></tr>\n",
       "\t<tr><td>N102UW    </td><td>  48      </td><td>535.8750  </td><td> 2.9375000</td></tr>\n",
       "\t<tr><td>N103US    </td><td>  46      </td><td>535.1957  </td><td>-6.9347826</td></tr>\n",
       "\t<tr><td>N104UW    </td><td>  47      </td><td>535.2553  </td><td> 1.8043478</td></tr>\n",
       "\t<tr><td>N10575    </td><td> 289      </td><td>519.7024  </td><td>20.6914498</td></tr>\n",
       "\t<tr><td>N105UW    </td><td>  45      </td><td>524.8444  </td><td>-0.2666667</td></tr>\n",
       "\t<tr><td>N107US    </td><td>  41      </td><td>528.7073  </td><td>-5.7317073</td></tr>\n",
       "\t<tr><td>N108UW    </td><td>  60      </td><td>534.5000  </td><td>-1.2500000</td></tr>\n",
       "\t<tr><td>N109UW    </td><td>  48      </td><td>535.8750  </td><td>-2.5208333</td></tr>\n",
       "\t<tr><td>N110UW    </td><td>  40      </td><td>535.3750  </td><td> 2.8000000</td></tr>\n",
       "\t<tr><td>N11106    </td><td> 129      </td><td>771.4109  </td><td>14.8809524</td></tr>\n",
       "\t<tr><td>N11107    </td><td> 148      </td><td>705.8649  </td><td>15.0143885</td></tr>\n",
       "\t<tr><td>N11109    </td><td> 148      </td><td>714.0000  </td><td>14.8510638</td></tr>\n",
       "\t<tr><td>N11113    </td><td> 138      </td><td>719.7754  </td><td>15.7619048</td></tr>\n",
       "\t<tr><td>N11119    </td><td> 148      </td><td>723.3851  </td><td>30.3065693</td></tr>\n",
       "\t<tr><td>N11121    </td><td> 154      </td><td>719.3701  </td><td>10.3061224</td></tr>\n",
       "\t<tr><td>N11127    </td><td> 124      </td><td>748.1129  </td><td>13.6050420</td></tr>\n",
       "\t<tr><td>N11137    </td><td> 112      </td><td>726.5982  </td><td>20.5514019</td></tr>\n",
       "\t<tr><td>N11140    </td><td> 157      </td><td>747.2102  </td><td>18.3120567</td></tr>\n",
       "\t<tr><td>N11150    </td><td> 136      </td><td>775.5588  </td><td> 8.8914729</td></tr>\n",
       "\t<tr><td>N11155    </td><td>  98      </td><td>779.1224  </td><td>12.9895833</td></tr>\n",
       "\t<tr><td>N11164    </td><td> 143      </td><td>677.4476  </td><td>21.6496350</td></tr>\n",
       "\t<tr><td>N11165    </td><td> 159      </td><td>752.8805  </td><td> 8.3466667</td></tr>\n",
       "\t<tr><td>N11176    </td><td> 142      </td><td>729.0704  </td><td>20.4045802</td></tr>\n",
       "\t<tr><td>N11181    </td><td> 125      </td><td>705.4160  </td><td> 9.0750000</td></tr>\n",
       "\t<tr><td>N11184    </td><td> 136      </td><td>744.0515  </td><td> 6.9843750</td></tr>\n",
       "\t<tr><td>N11187    </td><td> 133      </td><td>733.8872  </td><td>11.1904762</td></tr>\n",
       "\t<tr><td>N11189    </td><td> 140      </td><td>684.2714  </td><td> 6.7372263</td></tr>\n",
       "\t<tr><td>⋮</td><td>⋮</td><td>⋮</td><td>⋮</td></tr>\n",
       "\t<tr><td>N984DL    </td><td> 58       </td><td>904.7414  </td><td> 4.2280702</td></tr>\n",
       "\t<tr><td>N985AT    </td><td> 29       </td><td>647.8966  </td><td>15.0384615</td></tr>\n",
       "\t<tr><td>N985DL    </td><td> 63       </td><td>905.1111  </td><td> 0.2539683</td></tr>\n",
       "\t<tr><td>N986AT    </td><td> 24       </td><td>654.5417  </td><td> 0.1250000</td></tr>\n",
       "\t<tr><td>N986DL    </td><td> 73       </td><td>943.7808  </td><td> 5.5833333</td></tr>\n",
       "\t<tr><td>N987AT    </td><td> 28       </td><td>618.6071  </td><td>37.3846154</td></tr>\n",
       "\t<tr><td>N987DL    </td><td> 55       </td><td>922.8727  </td><td>-3.2909091</td></tr>\n",
       "\t<tr><td>N988AT    </td><td> 37       </td><td>642.9730  </td><td>44.3428571</td></tr>\n",
       "\t<tr><td>N988DL    </td><td> 55       </td><td>864.2000  </td><td> 9.4716981</td></tr>\n",
       "\t<tr><td>N989AT    </td><td> 66       </td><td>694.8182  </td><td>28.1935484</td></tr>\n",
       "\t<tr><td>N989DL    </td><td> 89       </td><td>908.6854  </td><td>11.0340909</td></tr>\n",
       "\t<tr><td>N990AT    </td><td> 71       </td><td>731.6056  </td><td>16.3857143</td></tr>\n",
       "\t<tr><td>N990DL    </td><td> 56       </td><td>863.0357  </td><td>12.4285714</td></tr>\n",
       "\t<tr><td>N991AT    </td><td> 25       </td><td>659.8000  </td><td>15.6800000</td></tr>\n",
       "\t<tr><td>N991DL    </td><td> 92       </td><td>902.9239  </td><td> 7.3369565</td></tr>\n",
       "\t<tr><td>N992AT    </td><td> 38       </td><td>637.1316  </td><td>17.7837838</td></tr>\n",
       "\t<tr><td>N992DL    </td><td> 57       </td><td>902.7544  </td><td>-6.6491228</td></tr>\n",
       "\t<tr><td>N993AT    </td><td> 47       </td><td>606.6809  </td><td>10.4042553</td></tr>\n",
       "\t<tr><td>N993DL    </td><td> 55       </td><td>884.9091  </td><td>16.9811321</td></tr>\n",
       "\t<tr><td>N994AT    </td><td> 31       </td><td>698.4839  </td><td>31.4838710</td></tr>\n",
       "\t<tr><td>N994DL    </td><td> 61       </td><td>886.7869  </td><td> 5.0327869</td></tr>\n",
       "\t<tr><td>N995DL    </td><td> 57       </td><td>883.5789  </td><td> 1.9298246</td></tr>\n",
       "\t<tr><td>N996AT    </td><td> 29       </td><td>673.8966  </td><td> 6.5384615</td></tr>\n",
       "\t<tr><td>N996DL    </td><td>102       </td><td>897.3039  </td><td> 0.5247525</td></tr>\n",
       "\t<tr><td>N997AT    </td><td> 44       </td><td>679.0455  </td><td>16.3023256</td></tr>\n",
       "\t<tr><td>N997DL    </td><td> 63       </td><td>867.7619  </td><td> 4.9032258</td></tr>\n",
       "\t<tr><td>N998AT    </td><td> 26       </td><td>593.5385  </td><td>29.9600000</td></tr>\n",
       "\t<tr><td>N998DL    </td><td> 77       </td><td>857.8182  </td><td>16.3947368</td></tr>\n",
       "\t<tr><td>N999DN    </td><td> 61       </td><td>895.4590  </td><td>14.3114754</td></tr>\n",
       "\t<tr><td>N9EAMQ    </td><td>248       </td><td>674.6653  </td><td> 9.2352941</td></tr>\n",
       "</tbody>\n",
       "</table>\n"
      ],
      "text/latex": [
       "\\begin{tabular}{r|llll}\n",
       " tailnum & count & dist & delay\\\\\n",
       "\\hline\n",
       "\t NA         & 2512       & 710.2576   &         NA\\\\\n",
       "\t N0EGMQ     &  371       & 676.1887   &  9.9829545\\\\\n",
       "\t N10156     &  153       & 757.9477   & 12.7172414\\\\\n",
       "\t N102UW     &   48       & 535.8750   &  2.9375000\\\\\n",
       "\t N103US     &   46       & 535.1957   & -6.9347826\\\\\n",
       "\t N104UW     &   47       & 535.2553   &  1.8043478\\\\\n",
       "\t N10575     &  289       & 519.7024   & 20.6914498\\\\\n",
       "\t N105UW     &   45       & 524.8444   & -0.2666667\\\\\n",
       "\t N107US     &   41       & 528.7073   & -5.7317073\\\\\n",
       "\t N108UW     &   60       & 534.5000   & -1.2500000\\\\\n",
       "\t N109UW     &   48       & 535.8750   & -2.5208333\\\\\n",
       "\t N110UW     &   40       & 535.3750   &  2.8000000\\\\\n",
       "\t N11106     &  129       & 771.4109   & 14.8809524\\\\\n",
       "\t N11107     &  148       & 705.8649   & 15.0143885\\\\\n",
       "\t N11109     &  148       & 714.0000   & 14.8510638\\\\\n",
       "\t N11113     &  138       & 719.7754   & 15.7619048\\\\\n",
       "\t N11119     &  148       & 723.3851   & 30.3065693\\\\\n",
       "\t N11121     &  154       & 719.3701   & 10.3061224\\\\\n",
       "\t N11127     &  124       & 748.1129   & 13.6050420\\\\\n",
       "\t N11137     &  112       & 726.5982   & 20.5514019\\\\\n",
       "\t N11140     &  157       & 747.2102   & 18.3120567\\\\\n",
       "\t N11150     &  136       & 775.5588   &  8.8914729\\\\\n",
       "\t N11155     &   98       & 779.1224   & 12.9895833\\\\\n",
       "\t N11164     &  143       & 677.4476   & 21.6496350\\\\\n",
       "\t N11165     &  159       & 752.8805   &  8.3466667\\\\\n",
       "\t N11176     &  142       & 729.0704   & 20.4045802\\\\\n",
       "\t N11181     &  125       & 705.4160   &  9.0750000\\\\\n",
       "\t N11184     &  136       & 744.0515   &  6.9843750\\\\\n",
       "\t N11187     &  133       & 733.8872   & 11.1904762\\\\\n",
       "\t N11189     &  140       & 684.2714   &  6.7372263\\\\\n",
       "\t ⋮ & ⋮ & ⋮ & ⋮\\\\\n",
       "\t N984DL     &  58        & 904.7414   &  4.2280702\\\\\n",
       "\t N985AT     &  29        & 647.8966   & 15.0384615\\\\\n",
       "\t N985DL     &  63        & 905.1111   &  0.2539683\\\\\n",
       "\t N986AT     &  24        & 654.5417   &  0.1250000\\\\\n",
       "\t N986DL     &  73        & 943.7808   &  5.5833333\\\\\n",
       "\t N987AT     &  28        & 618.6071   & 37.3846154\\\\\n",
       "\t N987DL     &  55        & 922.8727   & -3.2909091\\\\\n",
       "\t N988AT     &  37        & 642.9730   & 44.3428571\\\\\n",
       "\t N988DL     &  55        & 864.2000   &  9.4716981\\\\\n",
       "\t N989AT     &  66        & 694.8182   & 28.1935484\\\\\n",
       "\t N989DL     &  89        & 908.6854   & 11.0340909\\\\\n",
       "\t N990AT     &  71        & 731.6056   & 16.3857143\\\\\n",
       "\t N990DL     &  56        & 863.0357   & 12.4285714\\\\\n",
       "\t N991AT     &  25        & 659.8000   & 15.6800000\\\\\n",
       "\t N991DL     &  92        & 902.9239   &  7.3369565\\\\\n",
       "\t N992AT     &  38        & 637.1316   & 17.7837838\\\\\n",
       "\t N992DL     &  57        & 902.7544   & -6.6491228\\\\\n",
       "\t N993AT     &  47        & 606.6809   & 10.4042553\\\\\n",
       "\t N993DL     &  55        & 884.9091   & 16.9811321\\\\\n",
       "\t N994AT     &  31        & 698.4839   & 31.4838710\\\\\n",
       "\t N994DL     &  61        & 886.7869   &  5.0327869\\\\\n",
       "\t N995DL     &  57        & 883.5789   &  1.9298246\\\\\n",
       "\t N996AT     &  29        & 673.8966   &  6.5384615\\\\\n",
       "\t N996DL     & 102        & 897.3039   &  0.5247525\\\\\n",
       "\t N997AT     &  44        & 679.0455   & 16.3023256\\\\\n",
       "\t N997DL     &  63        & 867.7619   &  4.9032258\\\\\n",
       "\t N998AT     &  26        & 593.5385   & 29.9600000\\\\\n",
       "\t N998DL     &  77        & 857.8182   & 16.3947368\\\\\n",
       "\t N999DN     &  61        & 895.4590   & 14.3114754\\\\\n",
       "\t N9EAMQ     & 248        & 674.6653   &  9.2352941\\\\\n",
       "\\end{tabular}\n"
      ],
      "text/markdown": [
       "\n",
       "tailnum | count | dist | delay | \n",
       "|---|---|---|---|---|---|---|---|---|---|---|---|---|---|---|---|---|---|---|---|---|---|---|---|---|---|---|---|---|---|---|---|---|---|---|---|---|---|---|---|---|---|---|---|---|---|---|---|---|---|---|---|---|---|---|---|---|---|---|---|---|\n",
       "| NA         | 2512       | 710.2576   |         NA | \n",
       "| N0EGMQ     |  371       | 676.1887   |  9.9829545 | \n",
       "| N10156     |  153       | 757.9477   | 12.7172414 | \n",
       "| N102UW     |   48       | 535.8750   |  2.9375000 | \n",
       "| N103US     |   46       | 535.1957   | -6.9347826 | \n",
       "| N104UW     |   47       | 535.2553   |  1.8043478 | \n",
       "| N10575     |  289       | 519.7024   | 20.6914498 | \n",
       "| N105UW     |   45       | 524.8444   | -0.2666667 | \n",
       "| N107US     |   41       | 528.7073   | -5.7317073 | \n",
       "| N108UW     |   60       | 534.5000   | -1.2500000 | \n",
       "| N109UW     |   48       | 535.8750   | -2.5208333 | \n",
       "| N110UW     |   40       | 535.3750   |  2.8000000 | \n",
       "| N11106     |  129       | 771.4109   | 14.8809524 | \n",
       "| N11107     |  148       | 705.8649   | 15.0143885 | \n",
       "| N11109     |  148       | 714.0000   | 14.8510638 | \n",
       "| N11113     |  138       | 719.7754   | 15.7619048 | \n",
       "| N11119     |  148       | 723.3851   | 30.3065693 | \n",
       "| N11121     |  154       | 719.3701   | 10.3061224 | \n",
       "| N11127     |  124       | 748.1129   | 13.6050420 | \n",
       "| N11137     |  112       | 726.5982   | 20.5514019 | \n",
       "| N11140     |  157       | 747.2102   | 18.3120567 | \n",
       "| N11150     |  136       | 775.5588   |  8.8914729 | \n",
       "| N11155     |   98       | 779.1224   | 12.9895833 | \n",
       "| N11164     |  143       | 677.4476   | 21.6496350 | \n",
       "| N11165     |  159       | 752.8805   |  8.3466667 | \n",
       "| N11176     |  142       | 729.0704   | 20.4045802 | \n",
       "| N11181     |  125       | 705.4160   |  9.0750000 | \n",
       "| N11184     |  136       | 744.0515   |  6.9843750 | \n",
       "| N11187     |  133       | 733.8872   | 11.1904762 | \n",
       "| N11189     |  140       | 684.2714   |  6.7372263 | \n",
       "| ⋮ | ⋮ | ⋮ | ⋮ | \n",
       "| N984DL     |  58        | 904.7414   |  4.2280702 | \n",
       "| N985AT     |  29        | 647.8966   | 15.0384615 | \n",
       "| N985DL     |  63        | 905.1111   |  0.2539683 | \n",
       "| N986AT     |  24        | 654.5417   |  0.1250000 | \n",
       "| N986DL     |  73        | 943.7808   |  5.5833333 | \n",
       "| N987AT     |  28        | 618.6071   | 37.3846154 | \n",
       "| N987DL     |  55        | 922.8727   | -3.2909091 | \n",
       "| N988AT     |  37        | 642.9730   | 44.3428571 | \n",
       "| N988DL     |  55        | 864.2000   |  9.4716981 | \n",
       "| N989AT     |  66        | 694.8182   | 28.1935484 | \n",
       "| N989DL     |  89        | 908.6854   | 11.0340909 | \n",
       "| N990AT     |  71        | 731.6056   | 16.3857143 | \n",
       "| N990DL     |  56        | 863.0357   | 12.4285714 | \n",
       "| N991AT     |  25        | 659.8000   | 15.6800000 | \n",
       "| N991DL     |  92        | 902.9239   |  7.3369565 | \n",
       "| N992AT     |  38        | 637.1316   | 17.7837838 | \n",
       "| N992DL     |  57        | 902.7544   | -6.6491228 | \n",
       "| N993AT     |  47        | 606.6809   | 10.4042553 | \n",
       "| N993DL     |  55        | 884.9091   | 16.9811321 | \n",
       "| N994AT     |  31        | 698.4839   | 31.4838710 | \n",
       "| N994DL     |  61        | 886.7869   |  5.0327869 | \n",
       "| N995DL     |  57        | 883.5789   |  1.9298246 | \n",
       "| N996AT     |  29        | 673.8966   |  6.5384615 | \n",
       "| N996DL     | 102        | 897.3039   |  0.5247525 | \n",
       "| N997AT     |  44        | 679.0455   | 16.3023256 | \n",
       "| N997DL     |  63        | 867.7619   |  4.9032258 | \n",
       "| N998AT     |  26        | 593.5385   | 29.9600000 | \n",
       "| N998DL     |  77        | 857.8182   | 16.3947368 | \n",
       "| N999DN     |  61        | 895.4590   | 14.3114754 | \n",
       "| N9EAMQ     | 248        | 674.6653   |  9.2352941 | \n",
       "\n",
       "\n"
      ],
      "text/plain": [
       "     tailnum count dist     delay     \n",
       "1    NA      2512  710.2576         NA\n",
       "2    N0EGMQ   371  676.1887  9.9829545\n",
       "3    N10156   153  757.9477 12.7172414\n",
       "4    N102UW    48  535.8750  2.9375000\n",
       "5    N103US    46  535.1957 -6.9347826\n",
       "6    N104UW    47  535.2553  1.8043478\n",
       "7    N10575   289  519.7024 20.6914498\n",
       "8    N105UW    45  524.8444 -0.2666667\n",
       "9    N107US    41  528.7073 -5.7317073\n",
       "10   N108UW    60  534.5000 -1.2500000\n",
       "11   N109UW    48  535.8750 -2.5208333\n",
       "12   N110UW    40  535.3750  2.8000000\n",
       "13   N11106   129  771.4109 14.8809524\n",
       "14   N11107   148  705.8649 15.0143885\n",
       "15   N11109   148  714.0000 14.8510638\n",
       "16   N11113   138  719.7754 15.7619048\n",
       "17   N11119   148  723.3851 30.3065693\n",
       "18   N11121   154  719.3701 10.3061224\n",
       "19   N11127   124  748.1129 13.6050420\n",
       "20   N11137   112  726.5982 20.5514019\n",
       "21   N11140   157  747.2102 18.3120567\n",
       "22   N11150   136  775.5588  8.8914729\n",
       "23   N11155    98  779.1224 12.9895833\n",
       "24   N11164   143  677.4476 21.6496350\n",
       "25   N11165   159  752.8805  8.3466667\n",
       "26   N11176   142  729.0704 20.4045802\n",
       "27   N11181   125  705.4160  9.0750000\n",
       "28   N11184   136  744.0515  6.9843750\n",
       "29   N11187   133  733.8872 11.1904762\n",
       "30   N11189   140  684.2714  6.7372263\n",
       "⋮    ⋮       ⋮     ⋮        ⋮         \n",
       "2933 N984DL   58   904.7414  4.2280702\n",
       "2934 N985AT   29   647.8966 15.0384615\n",
       "2935 N985DL   63   905.1111  0.2539683\n",
       "2936 N986AT   24   654.5417  0.1250000\n",
       "2937 N986DL   73   943.7808  5.5833333\n",
       "2938 N987AT   28   618.6071 37.3846154\n",
       "2939 N987DL   55   922.8727 -3.2909091\n",
       "2940 N988AT   37   642.9730 44.3428571\n",
       "2941 N988DL   55   864.2000  9.4716981\n",
       "2942 N989AT   66   694.8182 28.1935484\n",
       "2943 N989DL   89   908.6854 11.0340909\n",
       "2944 N990AT   71   731.6056 16.3857143\n",
       "2945 N990DL   56   863.0357 12.4285714\n",
       "2946 N991AT   25   659.8000 15.6800000\n",
       "2947 N991DL   92   902.9239  7.3369565\n",
       "2948 N992AT   38   637.1316 17.7837838\n",
       "2949 N992DL   57   902.7544 -6.6491228\n",
       "2950 N993AT   47   606.6809 10.4042553\n",
       "2951 N993DL   55   884.9091 16.9811321\n",
       "2952 N994AT   31   698.4839 31.4838710\n",
       "2953 N994DL   61   886.7869  5.0327869\n",
       "2954 N995DL   57   883.5789  1.9298246\n",
       "2955 N996AT   29   673.8966  6.5384615\n",
       "2956 N996DL  102   897.3039  0.5247525\n",
       "2957 N997AT   44   679.0455 16.3023256\n",
       "2958 N997DL   63   867.7619  4.9032258\n",
       "2959 N998AT   26   593.5385 29.9600000\n",
       "2960 N998DL   77   857.8182 16.3947368\n",
       "2961 N999DN   61   895.4590 14.3114754\n",
       "2962 N9EAMQ  248   674.6653  9.2352941"
      ]
     },
     "metadata": {},
     "output_type": "display_data"
    }
   ],
   "source": [
    "delay_local"
   ]
  },
  {
   "cell_type": "code",
   "execution_count": null,
   "metadata": {
    "collapsed": true
   },
   "outputs": [],
   "source": []
  }
 ],
 "metadata": {
  "kernelspec": {
   "display_name": "R",
   "language": "R",
   "name": "ir"
  },
  "language_info": {
   "codemirror_mode": "r",
   "file_extension": ".r",
   "mimetype": "text/x-r-source",
   "name": "R",
   "pygments_lexer": "r",
   "version": "3.3.2"
  }
 },
 "nbformat": 4,
 "nbformat_minor": 2
}
